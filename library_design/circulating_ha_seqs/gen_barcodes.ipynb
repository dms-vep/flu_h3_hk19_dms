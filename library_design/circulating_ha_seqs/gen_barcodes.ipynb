{
 "cells": [
  {
   "cell_type": "markdown",
   "metadata": {},
   "source": [
    "Generate random barcodes that will be attached to each recent H3 strain that we're synthesizing. Note that we will generate each strain with pools of ~30-40x unique barcodes. But for the stock genes in the plasmid log, we want to attach a single known barcode to each."
   ]
  },
  {
   "cell_type": "code",
   "execution_count": 4,
   "metadata": {},
   "outputs": [],
   "source": [
    "import random\n",
    "import csv"
   ]
  },
  {
   "cell_type": "code",
   "execution_count": 2,
   "metadata": {},
   "outputs": [],
   "source": [
    "def gen_barcode():\n",
    "    nucleotides = ['a','g','c','t']\n",
    "    \n",
    "    #create a random sequence without repeating strings of nucleotides\n",
    "    bc = ''\n",
    "    for i in range(0,16):\n",
    "        if len(bc) >= 1:\n",
    "            nucls = random.sample(nucleotides, 2)\n",
    "            if bc[(i-1)] == nucls[0]:\n",
    "                n = nucls[1]\n",
    "                bc += n\n",
    "            else:\n",
    "                n = nucls[0]\n",
    "                bc += n\n",
    "        else:\n",
    "            bc += random.choice(nucleotides)\n",
    "    \n",
    "    return bc"
   ]
  },
  {
   "cell_type": "code",
   "execution_count": 3,
   "metadata": {},
   "outputs": [],
   "source": [
    "def gen_bc_list(ha_strains):\n",
    "    bc_list = []\n",
    "    for strain in ha_strains:\n",
    "        bc = gen_barcode()\n",
    "        bc_list.append((strain, bc))\n",
    "    \n",
    "    return bc_list"
   ]
  },
  {
   "cell_type": "code",
   "execution_count": 25,
   "metadata": {},
   "outputs": [
    {
     "data": {
      "text/plain": [
       "[(3114, 'gcacgtgctgcgtcgc'),\n",
       " (3115, 'gcacatacatgtacta'),\n",
       " (3116, 'acgcgtactagcagca'),\n",
       " (3117, 'atctagactcagctag'),\n",
       " (3118, 'cgcgatctatactatc'),\n",
       " (3119, 'tatctcatgatcgtcg'),\n",
       " (3120, 'gctcatacacagagca'),\n",
       " (3121, 'gagatatgatagtcgt'),\n",
       " (3122, 'gatgtacgtacgatgt'),\n",
       " (3123, 'tgcgatgtcactcaga'),\n",
       " (3124, 'actgtgcgtcgtcaga'),\n",
       " (3125, 'tgcatcactgtcagag')]"
      ]
     },
     "execution_count": 25,
     "metadata": {},
     "output_type": "execute_result"
    }
   ],
   "source": [
    "ha_strains = [3114, 3115, 3116, 3117, 3118, 3119, 3120, 3121, 3122, 3123, 3124, 3125]\n",
    "\n",
    "bc_list = gen_bc_list(ha_strains)\n",
    "bc_list"
   ]
  },
  {
   "cell_type": "code",
   "execution_count": 11,
   "metadata": {},
   "outputs": [
    {
     "data": {
      "text/plain": [
       "[(3174, 'ctgctcatcacgcgct'),\n",
       " (3175, 'gtagatgatgtagcag'),\n",
       " (3176, 'cagtagtagtctgtat'),\n",
       " (3177, 'atcacgcagcagagct'),\n",
       " (3178, 'catcgtctgcacgtag'),\n",
       " (3179, 'gtatcagtgactcgta'),\n",
       " (3180, 'cgtctcagcagcatga')]"
      ]
     },
     "execution_count": 11,
     "metadata": {},
     "output_type": "execute_result"
    }
   ],
   "source": [
    "ha_strains_hensley = [3174, 3175, 3176, 3177, 3178, 3179, 3180]\n",
    "\n",
    "bc_list_hensley = gen_bc_list(ha_strains_hensley)\n",
    "bc_list_hensley"
   ]
  },
  {
   "cell_type": "code",
   "execution_count": 14,
   "metadata": {},
   "outputs": [],
   "source": [
    "bc_list_full = bc_list + bc_list_hensley\n",
    "\n",
    "with open('recent_h3_bc.csv','w') as out:\n",
    "    csv_out=csv.writer(out)\n",
    "    csv_out.writerow(['strain','barcode'])\n",
    "    for row in bc_list_full:\n",
    "        csv_out.writerow(row)"
   ]
  }
 ],
 "metadata": {
  "kernelspec": {
   "display_name": "Python 3 (ipykernel)",
   "language": "python",
   "name": "python3"
  },
  "language_info": {
   "codemirror_mode": {
    "name": "ipython",
    "version": 3
   },
   "file_extension": ".py",
   "mimetype": "text/x-python",
   "name": "python",
   "nbconvert_exporter": "python",
   "pygments_lexer": "ipython3",
   "version": "3.9.6"
  }
 },
 "nbformat": 4,
 "nbformat_minor": 4
}
