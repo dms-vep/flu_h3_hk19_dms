{
 "cells": [
  {
   "cell_type": "markdown",
   "metadata": {},
   "source": [
    "# Single and multi-mutant primers for nearby epitopes\n",
    "\n",
    "The purpose of this notebook is to generate a list of primers that include random mutations at important epitope sites. For pairs of epitopes that are close to each other, double-mutant primers are also generated. The codons to mutate are from the previously defined 22 major epitope sites. These will just be NNK mutants, but I want to also take into account what the actual primer lengths will be based on Tm requirements."
   ]
  },
  {
   "cell_type": "code",
   "execution_count": 1,
   "metadata": {},
   "outputs": [],
   "source": [
    "import pandas as pd\n",
    "import numpy as np\n",
    "from Bio import SeqIO\n",
    "from Bio.SeqUtils import MeltingTemp as mt\n",
    "import Bio"
   ]
  },
  {
   "cell_type": "markdown",
   "metadata": {},
   "source": [
    "First, manually define a list of the 22 major epitope sites identified in `data/ranked-list-of-epitope-positions-for-DMS-experiments.pdf`."
   ]
  },
  {
   "cell_type": "code",
   "execution_count": 2,
   "metadata": {},
   "outputs": [],
   "source": [
    "# These epitopes are listed in HA1 numbering\n",
    "epitopes_ha1 = [193, 142, 135, 138, 160, 186, 159, 261, 121, 128, 131, 144, \n",
    "                198, 171, 190, 197, 62, 192, 83, 92, 311, 326]\n",
    "\n",
    "# convert to sequential numbering for this analysis\n",
    "epitopes = [i+16 for i in epitopes_ha1]"
   ]
  },
  {
   "cell_type": "markdown",
   "metadata": {},
   "source": [
    "Import WT nt sequences"
   ]
  },
  {
   "cell_type": "code",
   "execution_count": 3,
   "metadata": {},
   "outputs": [],
   "source": [
    "# read in just the first entry of the sequence file\n",
    "hk19_wt_nts = next(SeqIO.parse('./data/hk-45-2019.fasta', 'fasta'))\n",
    "ks17_wt_nts = next(SeqIO.parse('./data/ks-14-2017.fasta', 'fasta'))"
   ]
  },
  {
   "cell_type": "code",
   "execution_count": 4,
   "metadata": {},
   "outputs": [],
   "source": [
    "def ReverseComplement(seq):\n",
    "    \"\"\"Returns reverse complement of sequence. Preserves upper/lower case.\"\"\"\n",
    "    d = {'A': 'T', 'T': 'A', 'C': 'G', 'G': 'C', 'a': 't', 't': 'a', 'c': 'g',\n",
    "         'g': 'c', 'N':'N'}\n",
    "    rc = [d[nt] for nt in seq]\n",
    "    rc.reverse()\n",
    "    return ''.join(rc)"
   ]
  },
  {
   "cell_type": "markdown",
   "metadata": {},
   "source": [
    "## Single epitope primers\n",
    "Generate random `NNS` primers for each epitope, and write out to a csv. Note that IDT does not accept `S` as a random base, so I manually generate both `NNG` and `NNC` primers for each eptiope. This code is largely copied from `create_primers.py` in [TargetedTilingPrimers](https://github.com/jbloomlab/TargetedTilingPrimers/blob/main/create_primers.py)"
   ]
  },
  {
   "cell_type": "code",
   "execution_count": 5,
   "metadata": {},
   "outputs": [],
   "source": [
    "def gen_single_primers(wt_nts, epitopes, name_prefix, random_codon_fwd_1, random_codon_fwd_2, outfile):\n",
    "    \n",
    "    # default primer settings\n",
    "    primerlength = 37\n",
    "    maxprimertm = 61\n",
    "    minprimertm = 60\n",
    "    minlength = 25\n",
    "    maxlength = 51\n",
    "    \n",
    "    wt_aa = wt_nts.seq.translate()\n",
    "    ncodons = len(wt_aa)\n",
    "    initial_flanklength = (primerlength - 3) // 2\n",
    "    \n",
    "    primers = []\n",
    "    for icodon in range(ncodons):\n",
    "        if icodon + 1 in epitopes:\n",
    "            i = icodon * 3\n",
    "            five_prime = wt_nts.seq[i - initial_flanklength : i]\n",
    "            three_prime = wt_nts.seq[i+3 : i+3+initial_flanklength]\n",
    "            primer = f'{str(five_prime)}{random_codon_fwd_1}{str(three_prime)}'\n",
    "            name = f'{name_prefix}-for-mut_epi-{icodon + 1}_{random_codon_fwd_1}'\n",
    "            primerseq = Bio.Seq.Seq(primer)\n",
    "            \n",
    "            TmNN = ('%0.2f' % mt.Tm_NN(primerseq, strict=False))\n",
    "            \n",
    "            add_3 = True\n",
    "            minus_5 = True\n",
    "            flank5 = flank3 = initial_flanklength\n",
    "            if float(TmNN) > float(maxprimertm):\n",
    "                while (float(TmNN) > float(maxprimertm) and\n",
    "                        len(primer) > minlength):\n",
    "                    if minus_5:\n",
    "                        flank5 -= 1\n",
    "                        five_prime = wt_nts.seq[i - (flank5): i]\n",
    "                        three_prime = wt_nts.seq[i + 3: i + 3 + flank3]\n",
    "                        primer = f\"{str(five_prime)}{random_codon_fwd_1}{str(three_prime)}\"\n",
    "                        minus_5 = False\n",
    "                    else:\n",
    "                        flank3 -= 1\n",
    "                        five_prime = wt_nts.seq[i - (flank5): i]\n",
    "                        three_prime = wt_nts.seq[i + 3: i + 3 + flank3]\n",
    "                        primer = f\"{str(five_prime)}{random_codon_fwd_1}{str(three_prime)}\"\n",
    "                        minus_5 = True\n",
    "                    primerseq = Bio.Seq.Seq(primer)\n",
    "                    TmNN = ('%0.2f' % mt.Tm_NN(primerseq, strict=False))\n",
    "                    primerlength = len(primer)\n",
    "                    \n",
    "            else:\n",
    "                if float(TmNN) < float(minprimertm):\n",
    "                    while (float(TmNN) < float(minprimertm) and\n",
    "                            len(primer) < maxlength):\n",
    "                        if add_3:\n",
    "                            flank3 += 1\n",
    "                            five_prime = wt_nts.seq[i - (flank5): i]\n",
    "                            three_prime = wt_nts.seq[i + 3: i + 3 + flank3]\n",
    "                            primer = f\"{str(five_prime)}{random_codon_fwd_1}{str(three_prime)}\"\n",
    "                            add_3 = False\n",
    "                        else:\n",
    "                            flank5 += 1\n",
    "                            five_prime = wt_nts.seq[i - (flank5): i]\n",
    "                            three_prime = wt_nts.seq[i + 3: i + 3 + flank3]\n",
    "                            primer = f\"{str(five_prime)}{random_codon_fwd_1}{str(three_prime)}\"\n",
    "                            add_3 = True\n",
    "                        primerseq = Bio.Seq.Seq(primer)\n",
    "                        TmNN = ('%0.2f' % mt.Tm_NN(primerseq,\n",
    "                                                   strict=False))\n",
    "                        primerlength = len(primer)\n",
    "                        \n",
    "                else:\n",
    "                    pass\n",
    "            \n",
    "            # sub in second random primer\n",
    "            primer2 = f\"{str(five_prime)}{random_codon_fwd_2}{str(three_prime)}\"\n",
    "            name2 = f'{name_prefix}-for-mut_epi-{icodon + 1}_{random_codon_fwd_2}'\n",
    "            \n",
    "            # also define reverse primer\n",
    "            rev_name1 = name.replace('for', 'rev')\n",
    "            rev_name2 = name2.replace('for', 'rev')\n",
    "            \n",
    "            # because the third base of the random codon is either G or C, we can just take the\n",
    "            # reverse compliment for the rev primer\n",
    "            rev_primer1 = ReverseComplement(primer)\n",
    "            rev_primer2 = ReverseComplement(primer2)\n",
    "            \n",
    "            primers.append((name, primer))\n",
    "            primers.append((name2, primer2))\n",
    "            primers.append((rev_name1, rev_primer1))\n",
    "            primers.append((rev_name2, rev_primer2))\n",
    "    \n",
    "    # sort primer list to get fwd and rev pools together\n",
    "    primers_sorted = sorted(primers, key = lambda x: x[0])\n",
    "    \n",
    "    f = open(outfile, 'w')\n",
    "    for (name, primer) in primers_sorted:\n",
    "        f.write(f'{name}, {primer}\\r\\n')\n",
    "        \n",
    "    return primers_sorted"
   ]
  },
  {
   "cell_type": "code",
   "execution_count": 16,
   "metadata": {},
   "outputs": [
    {
     "name": "stdout",
     "output_type": "stream",
     "text": [
      "Generated 88 random primers for HK19 and 88 random primers for KS17.\n"
     ]
    }
   ],
   "source": [
    "hk19_primers = gen_single_primers(hk19_wt_nts, epitopes, 'hk19', 'NNG', 'NNC', \n",
    "                                  'results/hk19_single_epitope_primers.csv')\n",
    "\n",
    "ks17_primers = gen_single_primers(ks17_wt_nts, epitopes, 'ks17', 'NNG', 'NNC', \n",
    "                                  'results/ks17_single_epitope_primers.csv')\n",
    "\n",
    "print(f'Generated {len(hk19_primers)} random primers for HK19 and {len(ks17_primers)} random primers for KS17.')"
   ]
  },
  {
   "cell_type": "markdown",
   "metadata": {},
   "source": [
    "These numbers match up - fwd and reverse primers either with G or C in the third position for each of 22 epitopes."
   ]
  },
  {
   "cell_type": "markdown",
   "metadata": {},
   "source": [
    "## Paired epitope primers"
   ]
  },
  {
   "cell_type": "markdown",
   "metadata": {},
   "source": [
    "There's definitely a more elegant way to do this, but for a one-shot analysis this is working. I loop through every defined epitope position, and generate a primer sequence that includes that epitope at the extreme 5' or 3' end of the primer. (I'm currently saying the primer would have 3 NT's between the terminus and the first mutation site, but I'm realizing this might be too short. I can edit this). Primer length is adjusted to fall in the target Tm. I then add the primer name and sequence to a list."
   ]
  },
  {
   "cell_type": "code",
   "execution_count": 7,
   "metadata": {
    "scrolled": true
   },
   "outputs": [],
   "source": [
    "def gen_edge_primers(wt_nts, epitopes):\n",
    "    \n",
    "    # default primer settings\n",
    "    primerlength = 37\n",
    "    maxprimertm = 61\n",
    "    minprimertm = 60\n",
    "    minlength = 25\n",
    "    maxlength = 51\n",
    "    \n",
    "    wt_aa = wt_nts.seq.translate()\n",
    "    ncodons = len(wt_aa)\n",
    "    \n",
    "    # flank length is the number of nucleotides between the end of the primer and\n",
    "    # the first site to mutate\n",
    "    flank_length = 8\n",
    "    fiveprime_epitope_primers = []\n",
    "    threeprime_epitope_primers = []\n",
    "    for icodon in range(ncodons):\n",
    "        if icodon + 1 in epitopes:\n",
    "\n",
    "            # add a primer where the epitope is one codon away from the 5' end\n",
    "            five_prime_start = ((icodon+1) * 3) - 3 - flank_length # returns 0-indexed starting *nt* posn of primer\n",
    "            primer = wt_nts.seq[five_prime_start : five_prime_start + primerlength]\n",
    "\n",
    "            new_primerlength = primerlength\n",
    "            TmNN = ('%0.2f' % mt.Tm_NN(primer, strict=False))\n",
    "\n",
    "            # shorten primer if Tm is too high\n",
    "            if float(TmNN) > float(maxprimertm):\n",
    "                while (float(TmNN) > float(maxprimertm) and len(primer) > minlength):\n",
    "                    # only change length from 3' end\n",
    "                    new_primerlength -= 1\n",
    "                    primer = wt_nts.seq[five_prime_start : five_prime_start + new_primerlength]\n",
    "\n",
    "                    # update Tm\n",
    "                    TmNN = ('%0.2f' % mt.Tm_NN(primer, strict=False))\n",
    "            # lengthen primer if Tm is too low\n",
    "            elif float(TmNN) < float(minprimertm):\n",
    "                while (float(TmNN) < float(minprimertm) and len(primer) < maxlength):\n",
    "                    new_primerlength += 1\n",
    "                    primer = wt_nts.seq[five_prime_start : five_prime_start + new_primerlength]\n",
    "\n",
    "                    TmNN = ('%0.2f' % mt.Tm_NN(primer, strict=False))\n",
    "            else:\n",
    "                pass\n",
    "\n",
    "            fiveprime_epitope_primers.append((icodon+1, str(primer)))\n",
    "\n",
    "            # and repeat to add a primer where the epitope is one codon away from the 3' end\n",
    "\n",
    "            three_prime_end = ((icodon+1) * 3) + flank_length # returns 0-indexed ending *nt* posn of primer\n",
    "            primer = wt_nts.seq[three_prime_end - primerlength + 1 : three_prime_end + 1]\n",
    "\n",
    "            new_primerlength = primerlength\n",
    "            TmNN = ('%0.2f' % mt.Tm_NN(primer, strict=False))\n",
    "            if float(TmNN) > float(maxprimertm):\n",
    "                while (float(TmNN) > float(maxprimertm) and len(primer) > minlength):\n",
    "                    # only change length from 5' end\n",
    "                    new_primerlength -= 1\n",
    "                    primer = wt_nts.seq[three_prime_end - new_primerlength + 1 : three_prime_end + 1]\n",
    "\n",
    "                    TmNN = ('%0.2f' % mt.Tm_NN(primer, strict=False))\n",
    "            elif float(TmNN) < float(minprimertm):\n",
    "                while (float(TmNN) < float(minprimertm) and len(primer) < maxlength):\n",
    "                    new_primerlength += 1\n",
    "                    primer = wt_nts.seq[three_prime_end - new_primerlength + 1 : three_prime_end + 1]\n",
    "\n",
    "                    TmNN = ('%0.2f' % mt.Tm_NN(primer, strict=False))\n",
    "            else:\n",
    "                pass\n",
    "\n",
    "            threeprime_epitope_primers.append((icodon+1, str(primer)))\n",
    "    \n",
    "    primer_lists = [fiveprime_epitope_primers, threeprime_epitope_primers]\n",
    "    return primer_lists"
   ]
  },
  {
   "cell_type": "code",
   "execution_count": 8,
   "metadata": {},
   "outputs": [
    {
     "name": "stdout",
     "output_type": "stream",
     "text": [
      "22 22\n",
      "22 22\n"
     ]
    },
    {
     "data": {
      "text/plain": [
       "[(78, 'ttgatggagggaactgcacactaatagatgc'),\n",
       " (99, 'aaaataagaaatgggacctttttgttgaacgaagcag'),\n",
       " (108, 'aacgaagcagagcctacagcaactgtta'),\n",
       " (137, 'tggagtttaaaaatgaaagcttcaattgggctgg'),\n",
       " (144, 'tcaattgggctggagtcactcaaaacg'),\n",
       " (147, 'ctggagtcactcaaaacggaaaaagtttttcttg'),\n",
       " (151, 'aaaacggaaaaagtttttcttgcataaggggatctag'),\n",
       " (154, 'aaagtttttcttgcataaggggatctagtagtagtttctttagt'),\n",
       " (158, 'gcataaggggatctagtagtagtttctttagtagattaaattggt'),\n",
       " (160, 'ggggatctagtagtagtttctttagtagattaaattggttgacc'),\n",
       " (175, 'atttaaactacacatatccagcactgaacgtgactatg'),\n",
       " (176, 'taaactacacatatccagcactgaacgtgactatg'),\n",
       " (187, 'tgccaaacaaggaacaatttgacaaattgtacatttg'),\n",
       " (202, 'accacccgggtacggacaaggacca'),\n",
       " (206, 'cggacaaggaccaaatctccctgtatgc'),\n",
       " (208, 'aggaccaaatctccctgtatgctcaatcatca'),\n",
       " (209, 'accaaatctccctgtatgctcaatcatcaggaa'),\n",
       " (213, 'tgtatgctcaatcatcaggaagaatcacagtatctacc'),\n",
       " (214, 'atgctcaatcatcaggaagaatcacagtatctaccaa'),\n",
       " (277, 'tcaaaatacgaagtgggaaaagctcaataatgagatca'),\n",
       " (327, 'atgttaagcaaaacactctgaaattggcaacagg'),\n",
       " (342, 'taccagagaaacaaactagaggcatatttggcg')]"
      ]
     },
     "execution_count": 8,
     "metadata": {},
     "output_type": "execute_result"
    }
   ],
   "source": [
    "hk19_edge_primers = gen_edge_primers(hk19_wt_nts, epitopes)\n",
    "ks17_edge_primers = gen_edge_primers(ks17_wt_nts, epitopes)\n",
    "\n",
    "print(len(hk19_edge_primers[0]), len(hk19_edge_primers[1]))\n",
    "print(len(ks17_edge_primers[0]), len(ks17_edge_primers[1]))\n",
    "\n",
    "hk19_edge_primers[0]"
   ]
  },
  {
   "cell_type": "markdown",
   "metadata": {},
   "source": [
    "We get two different output lists, each with 22 primers for each of the 22 epitopes. These entries are in the form `(epitope_site, primer_seq)`.\n",
    "\n",
    "Next, we can take the length for each primer, and ask whether any other epitopes are within that range. If there are, group them as a pair, and output an evenly centered primer within the length / Tm range specified above. The epitopes of interest will be replaced with `NNG` or `NNC`."
   ]
  },
  {
   "cell_type": "code",
   "execution_count": 9,
   "metadata": {},
   "outputs": [],
   "source": [
    "def gen_paired_epitope_primers(wt_nts, edge_primers, epitopes, name_prefix, \n",
    "                               random_codon_fwd_1, random_codon_fwd_2, outfile):\n",
    "    \n",
    "    # default primer settings\n",
    "    primerlength = 37\n",
    "    maxprimertm = 61\n",
    "    minprimertm = 60\n",
    "    minlength = 25\n",
    "    maxlength = 51\n",
    "    \n",
    "    fiveprime_epitope_primers = edge_primers[0]\n",
    "    threeprime_epitope_primers = edge_primers[1]\n",
    "    \n",
    "    paired_epitopes = []\n",
    "    paired_epitope_primers = []\n",
    "    \n",
    "    flank_length = 8\n",
    "\n",
    "    for primer in fiveprime_epitope_primers:\n",
    "        # convert primer length into codon position range\n",
    "        epitope_1 = primer[0]\n",
    "        primer_seq = primer[1]\n",
    "        primer_nt_start = (epitope_1 * 3) - 2 - flank_length\n",
    "        primer_nt_end = primer_nt_start + len(primer_seq) - 1\n",
    "\n",
    "        # for each entry, query whether any of the other epitopes are in that range\n",
    "        for epitope_2 in epitopes:\n",
    "            if primer_nt_start < ((epitope_2*3)-2-flank_length) and primer_nt_end > ((epitope_2 * 3)+flank_length):\n",
    "                \n",
    "                # track which pairs we've already found\n",
    "                paired_epitopes.append((epitope_1, epitope_2)) \n",
    "                \n",
    "                # pull minimal sequence that's inclusive of the paired epitopes\n",
    "                epitopes_start = (epitope_1 * 3) - 2\n",
    "                epitopes_end = epitope_2 * 3\n",
    "                min_primer = wt_nts.seq[epitopes_start : epitopes_end+1]\n",
    "                TmNN = ('%0.2f' % mt.Tm_NN(min_primer, strict=False))\n",
    "\n",
    "                # lengthen primer on both sides until Tm is correct\n",
    "                minus_5 = True\n",
    "                flank5 = flank3 = flank_length\n",
    "                while (float(TmNN) < float(minprimertm) and len(primer) < maxlength):\n",
    "                    if minus_5:\n",
    "                        flank5 += 1\n",
    "                        paired_primer = wt_nts.seq[epitopes_start - flank5 : epitopes_end + flank3 + 1]\n",
    "                        primer_name = f'{name_prefix}-for-mut_epi-{epitope_1}-{epitope_2}'\n",
    "                        minus_5 = False\n",
    "                    else:\n",
    "                        flank3 += 1\n",
    "                        paired_primer = wt_nts.seq[epitopes_start - flank5 : epitopes_end + flank3 + 1]\n",
    "                        primer_name = f'{name_prefix}-for-mut_epi-{epitope_1}-{epitope_2}'\n",
    "                        minus_5 = True\n",
    "                    TmNN = ('%0.2f' % mt.Tm_NN(paired_primer, strict=False))\n",
    "\n",
    "                # change epitope sites to random codon by adding up seq strings based on flank lengths from previous step\n",
    "                # there's probably a better way to do this\n",
    "                fwd_paired_primer = str(paired_primer)\n",
    "                \n",
    "                primer_name1 = f'{name_prefix}-for-mut_epi-{epitope_1}-{epitope_2}_{random_codon_fwd_1}'\n",
    "                random_fwd_primer1 = fwd_paired_primer[:flank5-1]+random_codon_fwd_1+fwd_paired_primer[flank5+2:len(fwd_paired_primer)-flank3-4]+random_codon_fwd_1+fwd_paired_primer[len(fwd_paired_primer)-flank3-1:]\n",
    "                \n",
    "                primer_name2 = f'{name_prefix}-for-mut_epi-{epitope_1}-{epitope_2}_{random_codon_fwd_2}'\n",
    "                random_fwd_primer2 = fwd_paired_primer[:flank5-1]+random_codon_fwd_2+fwd_paired_primer[flank5+2:len(fwd_paired_primer)-flank3-4]+random_codon_fwd_2+fwd_paired_primer[len(fwd_paired_primer)-flank3-1:]\n",
    "                \n",
    "                primer_name3 = f'{name_prefix}-for-mut_epi-{epitope_1}-{epitope_2}_{random_codon_fwd_1}_{random_codon_fwd_2}'\n",
    "                random_fwd_primer3 = fwd_paired_primer[:flank5-1]+random_codon_fwd_1+fwd_paired_primer[flank5+2:len(fwd_paired_primer)-flank3-4]+random_codon_fwd_2+fwd_paired_primer[len(fwd_paired_primer)-flank3-1:]\n",
    "                \n",
    "                primer_name4 = f'{name_prefix}-for-mut_epi-{epitope_1}-{epitope_2}_{random_codon_fwd_2}_{random_codon_fwd_1}'\n",
    "                random_fwd_primer4 = fwd_paired_primer[:flank5-1]+random_codon_fwd_2+fwd_paired_primer[flank5+2:len(fwd_paired_primer)-flank3-4]+random_codon_fwd_1+fwd_paired_primer[len(fwd_paired_primer)-flank3-1:]\n",
    "                \n",
    "                fwd_random_primers = [(primer_name1, random_fwd_primer1), (primer_name2, random_fwd_primer2), \n",
    "                                      (primer_name3, random_fwd_primer3), (primer_name4, random_fwd_primer4)]\n",
    "                \n",
    "                # get reverse complement and add both to primer list\n",
    "                for fwd_primer in fwd_random_primers:\n",
    "                    rev_primer_name = fwd_primer[0].replace('for', 'rev')\n",
    "                    rev_primer = ReverseComplement(fwd_primer[1])\n",
    "                    paired_epitope_primers.append(fwd_primer)\n",
    "                    paired_epitope_primers.append((rev_primer_name, rev_primer))\n",
    "    \n",
    "    # now check whether there's any additional pairs in threeprime_epitope_primers\n",
    "    for primer in threeprime_epitope_primers:\n",
    "        # convert primer length into codon position range\n",
    "        epitope_2 = primer[0]\n",
    "        primer_seq = primer[1]\n",
    "        primer_nt_end = (epitope_2 * 3) + flank_length\n",
    "        primer_nt_start = primer_nt_end - len(primer_seq) + 1\n",
    "\n",
    "        # for each entry, query whether any of the other epitopes are in that range\n",
    "        for epitope_1 in epitopes:\n",
    "            if primer_nt_start < ((epitope_1*3)-2-flank_length) and primer_nt_end > ((epitope_1 * 3)+flank_length):\n",
    "                if (epitope_1, epitope_2) not in paired_epitopes:\n",
    "                    # Just throw an error if something's missing\n",
    "                    # everything should be covered by the fiveprime edge primers\n",
    "                    raise ValueError(f'missing pair: {epitope_1}_{epitope_2}')\n",
    "                    \n",
    "    # sort primer list to get fwd and rev pools together\n",
    "    paired_epitope_primers_sorted = sorted(paired_epitope_primers, key = lambda x: x[0])\n",
    "    \n",
    "    f = open(outfile, 'w')\n",
    "    for (name, primer) in paired_epitope_primers_sorted:\n",
    "        f.write(f'{name}, {primer}\\r\\n')\n",
    "    \n",
    "    return paired_epitope_primers_sorted"
   ]
  },
  {
   "cell_type": "code",
   "execution_count": 10,
   "metadata": {
    "scrolled": false
   },
   "outputs": [
    {
     "name": "stdout",
     "output_type": "stream",
     "text": [
      "Generated 80 paired primers for HK19 and 72 paired primers for KS17.\n"
     ]
    }
   ],
   "source": [
    "hk19_paired_primers = gen_paired_epitope_primers(hk19_wt_nts, hk19_edge_primers, \n",
    "                                                 epitopes, 'hk19', 'NNG', 'NNC',\n",
    "                                                 'results/hk19_paired_epitope_primers.csv')\n",
    "\n",
    "ks17_paired_primers = gen_paired_epitope_primers(ks17_wt_nts, ks17_edge_primers, \n",
    "                                                 epitopes, 'ks17', 'NNG', 'NNC', \n",
    "                                                 'results/ks17_paired_epitope_primers.csv')\n",
    "\n",
    "print(f'Generated {len(hk19_paired_primers)} paired primers for HK19 and {len(ks17_paired_primers)} paired primers for KS17.')"
   ]
  },
  {
   "cell_type": "markdown",
   "metadata": {},
   "source": [
    "My method for adding the `NNG` / `NNC`s was a little weird, but I went through the sample HK19 sequence and verified that these primers actually line up with the correct sequence and epitope position."
   ]
  },
  {
   "cell_type": "markdown",
   "metadata": {},
   "source": [
    "### Format for IDT oPools ordering"
   ]
  },
  {
   "cell_type": "code",
   "execution_count": 8,
   "metadata": {},
   "outputs": [],
   "source": [
    "hk19_primers = pd.read_csv('results/hk19_single_epitope_primers.csv', header=None)\n",
    "hk19_paired_primers = pd.read_csv('results/hk19_paired_epitope_primers.csv', header=None)\n",
    "ks17_primers = pd.read_csv('results/ks17_single_epitope_primers.csv', header=None)\n",
    "ks17_paired_primers = pd.read_csv('results/ks17_paired_epitope_primers.csv', header=None)\n",
    "\n",
    "hk19_primers.columns = ['Pool_name', 'Sequence']\n",
    "hk19_paired_primers.columns = ['Pool_name', 'Sequence']\n",
    "ks17_primers.columns = ['Pool_name', 'Sequence']\n",
    "ks17_paired_primers.columns = ['Pool_name', 'Sequence']"
   ]
  },
  {
   "cell_type": "code",
   "execution_count": 9,
   "metadata": {},
   "outputs": [],
   "source": [
    "hk19_opool = hk19_primers.replace(regex=[r'(?<=hk19-for).*', r'(?<=hk19-rev).*'], \n",
    "                                         value='-single-epi-pool')\n",
    "\n",
    "hk19_paired_opool = hk19_paired_primers.replace(regex=[r'(?<=hk19-for).*', r'(?<=hk19-rev).*'], \n",
    "                                                value='-paired-epi-pool')\n",
    "\n",
    "ks17_opool = ks17_primers.replace(regex=[r'(?<=ks17-for).*', r'(?<=ks17-rev).*'], \n",
    "                                         value='-single-epi-pool')\n",
    "\n",
    "ks17_paired_opool = ks17_paired_primers.replace(regex=[r'(?<=ks17-for).*', r'(?<=ks17-rev).*'], \n",
    "                                                value='-paired-epi-pool')"
   ]
  },
  {
   "cell_type": "code",
   "execution_count": 10,
   "metadata": {},
   "outputs": [],
   "source": [
    "opool_list = [(hk19_opool, 'hk19_opool'), (hk19_paired_opool, 'hk19_paired_opool'), \n",
    "              (ks17_opool, 'ks17_opool'), (ks17_paired_opool, 'ks17_paired_opool')]\n",
    "\n",
    "for pool, name in opool_list:\n",
    "    pool.to_csv(f'results/{name}.csv', index=False)"
   ]
  },
  {
   "cell_type": "code",
   "execution_count": 11,
   "metadata": {},
   "outputs": [],
   "source": [
    "opools = pd.concat([hk19_opool, hk19_paired_opool, ks17_opool, ks17_paired_opool])"
   ]
  },
  {
   "cell_type": "code",
   "execution_count": 12,
   "metadata": {},
   "outputs": [],
   "source": [
    "from plotnine import *\n",
    "%matplotlib inline"
   ]
  },
  {
   "cell_type": "code",
   "execution_count": 13,
   "metadata": {},
   "outputs": [
    {
     "data": {
      "image/png": "[encoded data removed]",
      "text/plain": [
       "<Figure size 640x480 with 1 Axes>"
      ]
     },
     "metadata": {},
     "output_type": "display_data"
    },
    {
     "data": {
      "text/plain": [
       "<bound method ggplot.draw of <ggplot: (8790218000597)>>"
      ]
     },
     "execution_count": 13,
     "metadata": {},
     "output_type": "execute_result"
    }
   ],
   "source": [
    "opools['Tm'] = opools.apply(lambda x: '%0.2f' % mt.Tm_NN(x.Sequence, strict=False), axis=1)\n",
    "opools['Tm'] = opools['Tm'].astype('float')\n",
    "\n",
    "p = (ggplot(opools) + \n",
    "     aes('Tm') + \n",
    "     geom_histogram(color='white', bins=40)\n",
    "    )\n",
    "\n",
    "p.draw"
   ]
  },
  {
   "cell_type": "code",
   "execution_count": null,
   "metadata": {},
   "outputs": [],
   "source": []
  }
 ],
 "metadata": {
  "kernelspec": {
   "display_name": "Python 3",
   "language": "python",
   "name": "python3"
  },
  "language_info": {
   "codemirror_mode": {
    "name": "ipython",
    "version": 3
   },
   "file_extension": ".py",
   "mimetype": "text/x-python",
   "name": "python",
   "nbconvert_exporter": "python",
   "pygments_lexer": "ipython3",
   "version": "3.7.8"
  }
 },
 "nbformat": 4,
 "nbformat_minor": 4
}
