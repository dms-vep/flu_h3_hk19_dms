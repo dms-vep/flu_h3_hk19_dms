{
 "cells": [
  {
   "cell_type": "markdown",
   "metadata": {},
   "source": [
    "# Prepping files for TargetedTilingPrimers input"
   ]
  },
  {
   "cell_type": "code",
   "execution_count": 1,
   "metadata": {},
   "outputs": [],
   "source": [
    "import pandas as pd\n",
    "import dms_tools2\n",
    "from Bio import SeqIO\n",
    "from Bio import SeqUtils\n",
    "import Bio"
   ]
  },
  {
   "cell_type": "markdown",
   "metadata": {},
   "source": [
    "First, we need a codon frequency table such that our mutant primers can be codon-optimized. I pulled a codon frequency table for Influenza H3N2 from [here](https://www.kazusa.or.jp/codon/cgi-bin/showcodon.cgi?species=41857). Here I'm just getting it into the correct input format for this script."
   ]
  },
  {
   "cell_type": "code",
   "execution_count": 2,
   "metadata": {},
   "outputs": [],
   "source": [
    "# read in rough codon freq table\n",
    "df = pd.read_csv('data/h3n2_codon_freq_table.txt', sep = '\\t', names=['data'])\n",
    "df = df.data.str.split(expand=True)\n",
    "\n",
    "# add column names and drop unnecessary data\n",
    "df.columns = ['aa', 'codon', 'extra', 'frequency', 'extra']\n",
    "df = df.drop(columns=['extra'], axis=1)\n",
    "\n",
    "# change 'aa' to single letter code and drop stop codons\n",
    "df = df[df.aa != 'End']\n",
    "df['aa'] = df.apply(lambda x: SeqUtils.IUPACData.protein_letters_3to1[x.aa], axis=1)\n",
    "\n",
    "# calculate freq (default numbers are freq out of 1000)\n",
    "df['frequency'] = df['frequency'].astype('float')\n",
    "df['frequency'] = df.apply(lambda x: x.frequency/1000, axis=1)\n",
    "\n",
    "# save formatted output\n",
    "df.to_csv('results/TargetedTilingPrimers_inputs/h3n2_codon_freq_table_formatted.csv', index=False)"
   ]
  },
  {
   "cell_type": "markdown",
   "metadata": {},
   "source": [
    "Next, the script specifies that the range of nucleotides you want to edit should be uppercase, and the flanking sequences should be lowercase. Define a function to format the sequence correctly given a fasta file and a range of codons to mutate."
   ]
  },
  {
   "cell_type": "code",
   "execution_count": 3,
   "metadata": {},
   "outputs": [],
   "source": [
    "# get a correctly formatted input seq from a fasta file and *codon* range to mutate\n",
    "# mut_range is in format (first_codon, last_codon)\n",
    "def get_input_seq(fasta, mut_range, outfile):\n",
    "    # read in just the first entry of the sequence file\n",
    "    wt_nts = next(SeqIO.parse(fasta, 'fasta'))\n",
    "    \n",
    "    # get uppercase string for sequence to mutate\n",
    "    mut_seq = wt_nts.seq[(mut_range[0]*3)-3 : mut_range[1]*3]\n",
    "    mut_seq = str(mut_seq).upper()\n",
    "    \n",
    "    # get lowercase string for flanking seqs\n",
    "    flank5 = str(wt_nts.seq[:(mut_range[0]*3)-3]).lower()\n",
    "    flank3 = str(wt_nts.seq[mut_range[1]*3:]).lower()\n",
    "    \n",
    "    # get full seq and export as .txt file\n",
    "    primer_input_seq = flank5 + mut_seq + flank3\n",
    "    \n",
    "    f = open(outfile, \"w\")\n",
    "    f.write(primer_input_seq)\n",
    "    f.close()\n",
    "    \n",
    "    return primer_input_seq"
   ]
  },
  {
   "cell_type": "markdown",
   "metadata": {},
   "source": [
    "The csv of mutations to make was based off of numbering from the WT sequences for HK/45/2019 and Kansas/14/2017, in order to keep consistent with the WT Perth09 sequence being analyzed. However, we now want to make primers that will complement the *chimeric* constructs. These constructs include the first 19 amino acids from WSN HA at the 5' end, which are then directly joined to the ectodomain (starting at **codon 17** in the WT H3 sequences). The first two codons of the ectodomain have also been edited to remove a polyA run. So, we want mutagenesis to begin at the **third codon** of the ectodomain, and finish at the end of the ectodomain. In our chimeric construct, these are codon numbers 22 to 523. "
   ]
  },
  {
   "cell_type": "code",
   "execution_count": 4,
   "metadata": {},
   "outputs": [],
   "source": [
    "# output seq files for both HK/19 and KS/17\n",
    "hk19_chim_seq = get_input_seq('data/hk19_chimeric_coding_seq.fasta', (22, 523), \n",
    "                              'results/TargetedTilingPrimers_inputs/wsnha_hk19_chimeric_coding_seq.txt')\n",
    "ks17_chim_seq = get_input_seq('data/ks17_chimeric_coding_seq.fasta', (22, 523), \n",
    "                              'results/TargetedTilingPrimers_inputs/wsnha_ks17_chimeric_coding_seq.txt')"
   ]
  },
  {
   "cell_type": "markdown",
   "metadata": {},
   "source": [
    "As the table of mutants to generate was based off of the WT H3 sequence numbering, the third codon of the ectodomain (where we want our first mutant) is site 19. Again, this directly corresponds to site 22 in the chimera. \n",
    "\n",
    "For the targeted tiling primers input, the sequence to be mutated is uppercase, and it's assumed that the first uppercase site is codon 1. So all we need to do to keep this numbering consistent with chimera numbering is to change site 19 (in WT numbering) to site 1. "
   ]
  },
  {
   "cell_type": "code",
   "execution_count": 5,
   "metadata": {},
   "outputs": [
    {
     "data": {
      "text/html": [
       "<div>\n",
       "<style scoped>\n",
       "    .dataframe tbody tr th:only-of-type {\n",
       "        vertical-align: middle;\n",
       "    }\n",
       "\n",
       "    .dataframe tbody tr th {\n",
       "        vertical-align: top;\n",
       "    }\n",
       "\n",
       "    .dataframe thead th {\n",
       "        text-align: right;\n",
       "    }\n",
       "</style>\n",
       "<table border=\"1\" class=\"dataframe\">\n",
       "  <thead>\n",
       "    <tr style=\"text-align: right;\">\n",
       "      <th></th>\n",
       "      <th>site</th>\n",
       "      <th>wildtype</th>\n",
       "      <th>mutant</th>\n",
       "      <th>gen_mut</th>\n",
       "    </tr>\n",
       "  </thead>\n",
       "  <tbody>\n",
       "    <tr>\n",
       "      <th>0</th>\n",
       "      <td>1</td>\n",
       "      <td>I</td>\n",
       "      <td>A</td>\n",
       "      <td>19A</td>\n",
       "    </tr>\n",
       "    <tr>\n",
       "      <th>1</th>\n",
       "      <td>1</td>\n",
       "      <td>I</td>\n",
       "      <td>D</td>\n",
       "      <td>19D</td>\n",
       "    </tr>\n",
       "    <tr>\n",
       "      <th>2</th>\n",
       "      <td>1</td>\n",
       "      <td>I</td>\n",
       "      <td>E</td>\n",
       "      <td>19E</td>\n",
       "    </tr>\n",
       "    <tr>\n",
       "      <th>3</th>\n",
       "      <td>1</td>\n",
       "      <td>I</td>\n",
       "      <td>F</td>\n",
       "      <td>19F</td>\n",
       "    </tr>\n",
       "    <tr>\n",
       "      <th>4</th>\n",
       "      <td>1</td>\n",
       "      <td>I</td>\n",
       "      <td>G</td>\n",
       "      <td>19G</td>\n",
       "    </tr>\n",
       "    <tr>\n",
       "      <th>...</th>\n",
       "      <td>...</td>\n",
       "      <td>...</td>\n",
       "      <td>...</td>\n",
       "      <td>...</td>\n",
       "    </tr>\n",
       "    <tr>\n",
       "      <th>2500</th>\n",
       "      <td>502</td>\n",
       "      <td>G</td>\n",
       "      <td>S</td>\n",
       "      <td>520S</td>\n",
       "    </tr>\n",
       "    <tr>\n",
       "      <th>2501</th>\n",
       "      <td>502</td>\n",
       "      <td>G</td>\n",
       "      <td>T</td>\n",
       "      <td>520T</td>\n",
       "    </tr>\n",
       "    <tr>\n",
       "      <th>2502</th>\n",
       "      <td>502</td>\n",
       "      <td>G</td>\n",
       "      <td>V</td>\n",
       "      <td>520V</td>\n",
       "    </tr>\n",
       "    <tr>\n",
       "      <th>2503</th>\n",
       "      <td>502</td>\n",
       "      <td>G</td>\n",
       "      <td>W</td>\n",
       "      <td>520W</td>\n",
       "    </tr>\n",
       "    <tr>\n",
       "      <th>2504</th>\n",
       "      <td>502</td>\n",
       "      <td>G</td>\n",
       "      <td>Y</td>\n",
       "      <td>520Y</td>\n",
       "    </tr>\n",
       "  </tbody>\n",
       "</table>\n",
       "<p>2505 rows × 4 columns</p>\n",
       "</div>"
      ],
      "text/plain": [
       "      site wildtype mutant gen_mut\n",
       "0        1        I      A     19A\n",
       "1        1        I      D     19D\n",
       "2        1        I      E     19E\n",
       "3        1        I      F     19F\n",
       "4        1        I      G     19G\n",
       "...    ...      ...    ...     ...\n",
       "2500   502        G      S    520S\n",
       "2501   502        G      T    520T\n",
       "2502   502        G      V    520V\n",
       "2503   502        G      W    520W\n",
       "2504   502        G      Y    520Y\n",
       "\n",
       "[2505 rows x 4 columns]"
      ]
     },
     "execution_count": 5,
     "metadata": {},
     "output_type": "execute_result"
    }
   ],
   "source": [
    "hk19_targeted_muts = pd.read_csv('data/targeted_mutations_hk-45-2019.csv')\n",
    "hk19_targeted_muts['site'] = hk19_targeted_muts.apply(lambda x: x.site - 18, axis=1)\n",
    "hk19_targeted_muts"
   ]
  },
  {
   "cell_type": "code",
   "execution_count": 6,
   "metadata": {},
   "outputs": [
    {
     "data": {
      "text/html": [
       "<div>\n",
       "<style scoped>\n",
       "    .dataframe tbody tr th:only-of-type {\n",
       "        vertical-align: middle;\n",
       "    }\n",
       "\n",
       "    .dataframe tbody tr th {\n",
       "        vertical-align: top;\n",
       "    }\n",
       "\n",
       "    .dataframe thead th {\n",
       "        text-align: right;\n",
       "    }\n",
       "</style>\n",
       "<table border=\"1\" class=\"dataframe\">\n",
       "  <thead>\n",
       "    <tr style=\"text-align: right;\">\n",
       "      <th></th>\n",
       "      <th>site</th>\n",
       "      <th>wildtype</th>\n",
       "      <th>mutant</th>\n",
       "      <th>gen_mut</th>\n",
       "    </tr>\n",
       "  </thead>\n",
       "  <tbody>\n",
       "    <tr>\n",
       "      <th>0</th>\n",
       "      <td>1</td>\n",
       "      <td>I</td>\n",
       "      <td>A</td>\n",
       "      <td>19A</td>\n",
       "    </tr>\n",
       "    <tr>\n",
       "      <th>1</th>\n",
       "      <td>1</td>\n",
       "      <td>I</td>\n",
       "      <td>D</td>\n",
       "      <td>19D</td>\n",
       "    </tr>\n",
       "    <tr>\n",
       "      <th>2</th>\n",
       "      <td>1</td>\n",
       "      <td>I</td>\n",
       "      <td>E</td>\n",
       "      <td>19E</td>\n",
       "    </tr>\n",
       "    <tr>\n",
       "      <th>3</th>\n",
       "      <td>1</td>\n",
       "      <td>I</td>\n",
       "      <td>F</td>\n",
       "      <td>19F</td>\n",
       "    </tr>\n",
       "    <tr>\n",
       "      <th>4</th>\n",
       "      <td>1</td>\n",
       "      <td>I</td>\n",
       "      <td>G</td>\n",
       "      <td>19G</td>\n",
       "    </tr>\n",
       "    <tr>\n",
       "      <th>...</th>\n",
       "      <td>...</td>\n",
       "      <td>...</td>\n",
       "      <td>...</td>\n",
       "      <td>...</td>\n",
       "    </tr>\n",
       "    <tr>\n",
       "      <th>2500</th>\n",
       "      <td>502</td>\n",
       "      <td>G</td>\n",
       "      <td>S</td>\n",
       "      <td>520S</td>\n",
       "    </tr>\n",
       "    <tr>\n",
       "      <th>2501</th>\n",
       "      <td>502</td>\n",
       "      <td>G</td>\n",
       "      <td>T</td>\n",
       "      <td>520T</td>\n",
       "    </tr>\n",
       "    <tr>\n",
       "      <th>2502</th>\n",
       "      <td>502</td>\n",
       "      <td>G</td>\n",
       "      <td>V</td>\n",
       "      <td>520V</td>\n",
       "    </tr>\n",
       "    <tr>\n",
       "      <th>2503</th>\n",
       "      <td>502</td>\n",
       "      <td>G</td>\n",
       "      <td>W</td>\n",
       "      <td>520W</td>\n",
       "    </tr>\n",
       "    <tr>\n",
       "      <th>2504</th>\n",
       "      <td>502</td>\n",
       "      <td>G</td>\n",
       "      <td>Y</td>\n",
       "      <td>520Y</td>\n",
       "    </tr>\n",
       "  </tbody>\n",
       "</table>\n",
       "<p>2505 rows × 4 columns</p>\n",
       "</div>"
      ],
      "text/plain": [
       "      site wildtype mutant gen_mut\n",
       "0        1        I      A     19A\n",
       "1        1        I      D     19D\n",
       "2        1        I      E     19E\n",
       "3        1        I      F     19F\n",
       "4        1        I      G     19G\n",
       "...    ...      ...    ...     ...\n",
       "2500   502        G      S    520S\n",
       "2501   502        G      T    520T\n",
       "2502   502        G      V    520V\n",
       "2503   502        G      W    520W\n",
       "2504   502        G      Y    520Y\n",
       "\n",
       "[2505 rows x 4 columns]"
      ]
     },
     "execution_count": 6,
     "metadata": {},
     "output_type": "execute_result"
    }
   ],
   "source": [
    "ks17_targeted_muts = pd.read_csv('data/targeted_mutations_ks-14-2017.csv')\n",
    "ks17_targeted_muts['site'] = ks17_targeted_muts.apply(lambda x: x.site - 18, axis=1)\n",
    "ks17_targeted_muts"
   ]
  },
  {
   "cell_type": "markdown",
   "metadata": {},
   "source": [
    "We want to make absolutely sure that this numbering is consistent. So pull the uppercase sequence from our chimeric sequence input, and make sure it lines up with the wildtype AAs in our mutant input table, assuming that both numberings start at 'site 1'."
   ]
  },
  {
   "cell_type": "code",
   "execution_count": 7,
   "metadata": {
    "scrolled": true
   },
   "outputs": [],
   "source": [
    "def check_numbering_conversion(wt_mut_csv, chim_seq): \n",
    "    # pare csv down to single site entries\n",
    "    wt_mut_csv = wt_mut_csv.drop_duplicates(subset=['site'])\n",
    "    \n",
    "    # get the chimeric seq to be mutated (uppercase portion) and translate\n",
    "    chim_seq = ''.join(x for x in chim_seq if not x.islower())\n",
    "    chim_seq = Bio.Seq.translate(chim_seq)\n",
    "    \n",
    "    # loop through every chimeric seq AA, defining the first as site 1.\n",
    "    # If that site is in our mutant table, make sure the WT amino acid is consistent.\n",
    "    site = 1\n",
    "    for chim_aa in chim_seq:\n",
    "        if site in wt_mut_csv.values:\n",
    "            wt_aa = wt_mut_csv.loc[wt_mut_csv['site'] == site, 'wildtype'].iloc[0]\n",
    "            assert chim_aa == wt_aa\n",
    "        site+=1"
   ]
  },
  {
   "cell_type": "code",
   "execution_count": 8,
   "metadata": {},
   "outputs": [],
   "source": [
    "check_numbering_conversion(hk19_targeted_muts, hk19_chim_seq)\n",
    "check_numbering_conversion(ks17_targeted_muts, ks17_chim_seq)"
   ]
  },
  {
   "cell_type": "markdown",
   "metadata": {},
   "source": [
    "Looks like this all worked out! So now, export mutation csv in format required by targeted tiling primers script. This is just a site column and a mutant column."
   ]
  },
  {
   "cell_type": "code",
   "execution_count": 9,
   "metadata": {},
   "outputs": [],
   "source": [
    "ks17_primer_input = ks17_targeted_muts[['site','mutant']]\n",
    "ks17_primer_input.to_csv('results/TargetedTilingPrimers_inputs/ks17_muts_input.csv')\n",
    "\n",
    "hk19_primer_input = hk19_targeted_muts[['site','mutant']]\n",
    "hk19_primer_input.to_csv('results/TargetedTilingPrimers_inputs/hk19_muts_input.csv')"
   ]
  },
  {
   "cell_type": "markdown",
   "metadata": {},
   "source": [
    "Now, the `results/TargetedTilingPrimers_inputs` has all of the files we need for running the [TargetedTilingPrimers script](https://github.com/jbloomlab/TargetedTilingPrimers) and generating primers."
   ]
  }
 ],
 "metadata": {
  "kernelspec": {
   "display_name": "Python 3",
   "language": "python",
   "name": "python3"
  },
  "language_info": {
   "codemirror_mode": {
    "name": "ipython",
    "version": 3
   },
   "file_extension": ".py",
   "mimetype": "text/x-python",
   "name": "python",
   "nbconvert_exporter": "python",
   "pygments_lexer": "ipython3",
   "version": "3.7.8"
  }
 },
 "nbformat": 4,
 "nbformat_minor": 4
}
