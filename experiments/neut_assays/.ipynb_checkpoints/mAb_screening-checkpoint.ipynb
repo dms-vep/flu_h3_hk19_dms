{
 "cells": [
  {
   "cell_type": "markdown",
   "id": "f3ea46a8",
   "metadata": {},
   "source": [
    "# Screening for monoclonal antibodies that neutralize wildtype A/HongKong/45/2019 chimeric virus\n",
    "\n",
    "We currently have 3 monoclonal antibodies from Patrick Wilson's lab that neutralize GFP virus expressing the library background H3 ([plasmid 3023](https://github.com/jbloomlab/plasmids/blob/master/genbank_maps/3023_pHH_WSNHAflank_HK19-cterm-nopac_WSNHAduppac-stop_edited.gb)). However, these antibodies are relatively low potency and have HAI activity against a broad range of strains. Ideally, I'd like to identify additional antibodies that are more potent and target known sites on the H3 head.\n",
    "\n",
    "In [Zost et al. (2019)](https://pubmed.ncbi.nlm.nih.gov/31875553/), they map the binding footprints of 33 monoclonal antibodies against the H3 A/Victoria/210/2009. I aligned the sequences of A/Victoria/210/2009 and A/HongKong/45/2019, and identified 6 antibodies that targeted a region conserved between these two viruses:\n",
    "* 5G01\n",
    "* 3B06\n",
    "* 1B02\n",
    "* 3G01\n",
    "* 1C04\n",
    "* 5G04\n",
    "\n",
    "This notebook analyzes neutralization assays testing for antibody neutralization activity against GFP virus expressing the wildtype chimeric HK/19 H3."
   ]
  },
  {
   "cell_type": "code",
   "execution_count": 1,
   "id": "8bc8c24e",
   "metadata": {},
   "outputs": [],
   "source": [
    "import pandas as pd\n",
    "import neutcurve\n",
    "from neutcurve.colorschemes import CBMARKERS, CBPALETTE\n",
    "import matplotlib\n",
    "from matplotlib import pyplot as plt\n",
    "\n",
    "import warnings\n",
    "warnings.filterwarnings(\"ignore\")"
   ]
  },
  {
   "cell_type": "code",
   "execution_count": 2,
   "id": "6ed1067c",
   "metadata": {},
   "outputs": [],
   "source": [
    "pd.set_option('display.float_format', '{:.3g}'.format)\n",
    "pd.set_option('display.max_columns', 20)\n",
    "pd.set_option('display.width', 400)"
   ]
  },
  {
   "cell_type": "markdown",
   "id": "c9ee1643",
   "metadata": {},
   "source": [
    "Data from initial run on 5-3-22, testing 4 out of 6 monoclonal antibodies for activity against GFP virus carrying H3 from plasmid 3023."
   ]
  },
  {
   "cell_type": "code",
   "execution_count": 3,
   "id": "eb914693",
   "metadata": {},
   "outputs": [
    {
     "data": {
      "text/html": [
       "<div>\n",
       "<style scoped>\n",
       "    .dataframe tbody tr th:only-of-type {\n",
       "        vertical-align: middle;\n",
       "    }\n",
       "\n",
       "    .dataframe tbody tr th {\n",
       "        vertical-align: top;\n",
       "    }\n",
       "\n",
       "    .dataframe thead th {\n",
       "        text-align: right;\n",
       "    }\n",
       "</style>\n",
       "<table border=\"1\" class=\"dataframe\">\n",
       "  <thead>\n",
       "    <tr style=\"text-align: right;\">\n",
       "      <th></th>\n",
       "      <th>serum</th>\n",
       "      <th>virus</th>\n",
       "      <th>replicate</th>\n",
       "      <th>concentration</th>\n",
       "      <th>fraction infectivity</th>\n",
       "    </tr>\n",
       "  </thead>\n",
       "  <tbody>\n",
       "    <tr>\n",
       "      <th>0</th>\n",
       "      <td>5G01</td>\n",
       "      <td>HK19</td>\n",
       "      <td>1</td>\n",
       "      <td>2</td>\n",
       "      <td>0.994</td>\n",
       "    </tr>\n",
       "    <tr>\n",
       "      <th>1</th>\n",
       "      <td>5G01</td>\n",
       "      <td>HK19</td>\n",
       "      <td>1</td>\n",
       "      <td>1</td>\n",
       "      <td>1.08</td>\n",
       "    </tr>\n",
       "    <tr>\n",
       "      <th>2</th>\n",
       "      <td>5G01</td>\n",
       "      <td>HK19</td>\n",
       "      <td>1</td>\n",
       "      <td>0.5</td>\n",
       "      <td>0.971</td>\n",
       "    </tr>\n",
       "    <tr>\n",
       "      <th>3</th>\n",
       "      <td>5G01</td>\n",
       "      <td>HK19</td>\n",
       "      <td>1</td>\n",
       "      <td>0.25</td>\n",
       "      <td>1.12</td>\n",
       "    </tr>\n",
       "    <tr>\n",
       "      <th>4</th>\n",
       "      <td>5G01</td>\n",
       "      <td>HK19</td>\n",
       "      <td>1</td>\n",
       "      <td>0.125</td>\n",
       "      <td>0.996</td>\n",
       "    </tr>\n",
       "  </tbody>\n",
       "</table>\n",
       "</div>"
      ],
      "text/plain": [
       "  serum virus  replicate  concentration  fraction infectivity\n",
       "0  5G01  HK19          1              2                 0.994\n",
       "1  5G01  HK19          1              1                  1.08\n",
       "2  5G01  HK19          1            0.5                 0.971\n",
       "3  5G01  HK19          1           0.25                  1.12\n",
       "4  5G01  HK19          1          0.125                 0.996"
      ]
     },
     "execution_count": 3,
     "metadata": {},
     "output_type": "execute_result"
    }
   ],
   "source": [
    "data = (\n",
    "    pd.read_excel('neut_data/220503_hk19_mAb-neuts.xlsx')\n",
    "    .rename(columns={\n",
    "        'mAb': 'serum', # neutcurve package refers to all Ab samples as 'sera'\n",
    "        'concentration (ug/mL)': 'concentration'\n",
    "    })\n",
    ")\n",
    "\n",
    "data.head()"
   ]
  },
  {
   "cell_type": "code",
   "execution_count": 4,
   "id": "43bf248b",
   "metadata": {},
   "outputs": [
    {
     "name": "stdout",
     "output_type": "stream",
     "text": [
      "Viruses measured against 5G01:\n",
      "['HK19', 'H6']\n",
      "Viruses measured against 3B06:\n",
      "['HK19', 'H6']\n",
      "Viruses measured against 1B02:\n",
      "['HK19', 'H6']\n",
      "Viruses measured against 3G01:\n",
      "['HK19', 'H6']\n"
     ]
    }
   ],
   "source": [
    "fits = neutcurve.CurveFits(data)\n",
    "\n",
    "for serum in fits.sera:\n",
    "    print(f\"Viruses measured against {serum}:\\n\" +\n",
    "          str(fits.viruses[serum]))"
   ]
  },
  {
   "cell_type": "code",
   "execution_count": 5,
   "id": "4debe17e",
   "metadata": {},
   "outputs": [
    {
     "data": {
      "image/png": "[encoded data removed]",
      "text/plain": [
       "<Figure size 504x396 with 5 Axes>"
      ]
     },
     "metadata": {
      "needs_background": "light"
     },
     "output_type": "display_data"
    }
   ],
   "source": [
    "fig, axes = fits.plotSera(ncol=2,\n",
    "                          xlabel='antibody conc (ug/mL)',\n",
    "                          virus_to_color_marker={\n",
    "                              'HK19': ('green', 'o'),\n",
    "                              'H6': ('orange', 'o')},\n",
    "                          sharex = False\n",
    "                         )\n",
    "\n",
    "bbox = matplotlib.transforms.Bbox([[0, 0], [8.2, 5.6]])\n",
    "plt.savefig('figures/220503_mAb_neut-curves.pdf', bbox_inches=bbox)"
   ]
  },
  {
   "cell_type": "markdown",
   "id": "dba8d7ac",
   "metadata": {},
   "source": [
    "Unfortunately, it doesn't look like any of these monoclonals successfully neutralized HK/19 at the concentrations tested. A few caveats - \n",
    "* I forgot to include a positive control. This was my first time running neuts, so there's always the possibility of experimental error.\n",
    "* The concentrations I tested were on the lower side. Note that the monoclonals from Siri all had IC50's of around 10ug/mL or higher. I based these concentrations off of reported MN and HAI titers from the Zost (2019) paper, but I think I should also bump up to higher concentrations.\n",
    "\n",
    "So for the next run, make the following changes:\n",
    "* Include FI6V3 as a positive control\n",
    "* Increase highest concentration to around 5e2 ug/mL\n",
    "\n",
    "Will re-assay all 4 of these antibodies, while also running the remaining 2 that I didn't include here (1C04 and 5G04)."
   ]
  }
 ],
 "metadata": {
  "kernelspec": {
   "display_name": "Python 3 (ipykernel)",
   "language": "python",
   "name": "python3"
  },
  "language_info": {
   "codemirror_mode": {
    "name": "ipython",
    "version": 3
   },
   "file_extension": ".py",
   "mimetype": "text/x-python",
   "name": "python",
   "nbconvert_exporter": "python",
   "pygments_lexer": "ipython3",
   "version": "3.8.12"
  }
 },
 "nbformat": 4,
 "nbformat_minor": 5
}
