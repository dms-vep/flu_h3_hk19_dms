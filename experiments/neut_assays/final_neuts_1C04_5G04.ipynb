{
 "cells": [
  {
   "cell_type": "code",
   "execution_count": 1,
   "id": "5b17a3eb",
   "metadata": {},
   "outputs": [],
   "source": [
    "import pandas as pd\n",
    "import neutcurve\n",
    "from neutcurve.colorschemes import CBMARKERS, CBPALETTE\n",
    "import matplotlib\n",
    "from matplotlib import pyplot as plt\n",
    "\n",
    "import warnings\n",
    "warnings.filterwarnings(\"ignore\")"
   ]
  },
  {
   "cell_type": "code",
   "execution_count": 2,
   "id": "1b10f1ab",
   "metadata": {},
   "outputs": [],
   "source": [
    "pd.set_option('display.float_format', '{:.3g}'.format)\n",
    "pd.set_option('display.max_columns', 20)\n",
    "pd.set_option('display.width', 400)"
   ]
  },
  {
   "cell_type": "code",
   "execution_count": 6,
   "id": "a3987c76",
   "metadata": {},
   "outputs": [
    {
     "data": {
      "text/html": [
       "<div>\n",
       "<style scoped>\n",
       "    .dataframe tbody tr th:only-of-type {\n",
       "        vertical-align: middle;\n",
       "    }\n",
       "\n",
       "    .dataframe tbody tr th {\n",
       "        vertical-align: top;\n",
       "    }\n",
       "\n",
       "    .dataframe thead th {\n",
       "        text-align: right;\n",
       "    }\n",
       "</style>\n",
       "<table border=\"1\" class=\"dataframe\">\n",
       "  <thead>\n",
       "    <tr style=\"text-align: right;\">\n",
       "      <th></th>\n",
       "      <th>serum</th>\n",
       "      <th>virus</th>\n",
       "      <th>replicate</th>\n",
       "      <th>concentration</th>\n",
       "      <th>fraction infectivity</th>\n",
       "    </tr>\n",
       "  </thead>\n",
       "  <tbody>\n",
       "    <tr>\n",
       "      <th>0</th>\n",
       "      <td>1C04</td>\n",
       "      <td>HK19</td>\n",
       "      <td>1</td>\n",
       "      <td>0.000488</td>\n",
       "      <td>0.932</td>\n",
       "    </tr>\n",
       "    <tr>\n",
       "      <th>1</th>\n",
       "      <td>1C04</td>\n",
       "      <td>HK19</td>\n",
       "      <td>1</td>\n",
       "      <td>0.000977</td>\n",
       "      <td>0.813</td>\n",
       "    </tr>\n",
       "    <tr>\n",
       "      <th>2</th>\n",
       "      <td>1C04</td>\n",
       "      <td>HK19</td>\n",
       "      <td>1</td>\n",
       "      <td>0.00195</td>\n",
       "      <td>0.728</td>\n",
       "    </tr>\n",
       "    <tr>\n",
       "      <th>3</th>\n",
       "      <td>1C04</td>\n",
       "      <td>HK19</td>\n",
       "      <td>1</td>\n",
       "      <td>0.00391</td>\n",
       "      <td>0.548</td>\n",
       "    </tr>\n",
       "    <tr>\n",
       "      <th>4</th>\n",
       "      <td>1C04</td>\n",
       "      <td>HK19</td>\n",
       "      <td>1</td>\n",
       "      <td>0.00781</td>\n",
       "      <td>0.361</td>\n",
       "    </tr>\n",
       "  </tbody>\n",
       "</table>\n",
       "</div>"
      ],
      "text/plain": [
       "  serum virus  replicate  concentration  fraction infectivity\n",
       "0  1C04  HK19          1       0.000488                 0.932\n",
       "1  1C04  HK19          1       0.000977                 0.813\n",
       "2  1C04  HK19          1        0.00195                 0.728\n",
       "3  1C04  HK19          1        0.00391                 0.548\n",
       "4  1C04  HK19          1        0.00781                 0.361"
      ]
     },
     "execution_count": 6,
     "metadata": {},
     "output_type": "execute_result"
    }
   ],
   "source": [
    "data = (\n",
    "    pd.read_excel('neut_data/220711_1C04_5G04_frac_infectivity.xlsx')\n",
    "    .rename(columns={\n",
    "        'mAb': 'serum', # neutcurve package refers to all Ab samples as 'sera'\n",
    "        'concentration': 'concentration'\n",
    "    })\n",
    ")\n",
    "\n",
    "data.head()"
   ]
  },
  {
   "cell_type": "code",
   "execution_count": 7,
   "id": "b77a8eba",
   "metadata": {},
   "outputs": [
    {
     "name": "stdout",
     "output_type": "stream",
     "text": [
      "Viruses measured against 1C04:\n",
      "['HK19', 'H6']\n",
      "Viruses measured against 5G04:\n",
      "['HK19', 'H6']\n"
     ]
    }
   ],
   "source": [
    "fits = neutcurve.CurveFits(data)\n",
    "\n",
    "for serum in fits.sera:\n",
    "    print(f\"Viruses measured against {serum}:\\n\" +\n",
    "          str(fits.viruses[serum]))"
   ]
  },
  {
   "cell_type": "code",
   "execution_count": 10,
   "id": "28728266",
   "metadata": {},
   "outputs": [
    {
     "data": {
      "image/png": "[encoded data removed]",
      "text/plain": [
       "<Figure size 504x234 with 3 Axes>"
      ]
     },
     "metadata": {
      "needs_background": "light"
     },
     "output_type": "display_data"
    }
   ],
   "source": [
    "fig, axes = fits.plotSera(ncol=2,\n",
    "                          xlabel='antibody conc (ug/mL)',\n",
    "                          virus_to_color_marker={\n",
    "                              'HK19': ('green', 'o'),\n",
    "                              'H6': ('orange', 'o')},\n",
    "                          sharex = False\n",
    "                         )\n",
    "\n",
    "bbox = matplotlib.transforms.Bbox([[0, 0], [8.2, 3.5]])\n",
    "plt.savefig('figures/220711_1C04_5G04_neut-curves.pdf', bbox_inches=bbox)"
   ]
  },
  {
   "cell_type": "code",
   "execution_count": 9,
   "id": "2b96ea35",
   "metadata": {},
   "outputs": [
    {
     "data": {
      "text/html": [
       "<div>\n",
       "<style scoped>\n",
       "    .dataframe tbody tr th:only-of-type {\n",
       "        vertical-align: middle;\n",
       "    }\n",
       "\n",
       "    .dataframe tbody tr th {\n",
       "        vertical-align: top;\n",
       "    }\n",
       "\n",
       "    .dataframe thead th {\n",
       "        text-align: right;\n",
       "    }\n",
       "</style>\n",
       "<table border=\"1\" class=\"dataframe\">\n",
       "  <thead>\n",
       "    <tr style=\"text-align: right;\">\n",
       "      <th></th>\n",
       "      <th>serum</th>\n",
       "      <th>virus</th>\n",
       "      <th>replicate</th>\n",
       "      <th>nreplicates</th>\n",
       "      <th>ic50</th>\n",
       "      <th>ic50_bound</th>\n",
       "      <th>ic50_str</th>\n",
       "      <th>ic99</th>\n",
       "      <th>ic99_bound</th>\n",
       "      <th>ic99_str</th>\n",
       "      <th>midpoint</th>\n",
       "      <th>slope</th>\n",
       "      <th>top</th>\n",
       "      <th>bottom</th>\n",
       "    </tr>\n",
       "  </thead>\n",
       "  <tbody>\n",
       "    <tr>\n",
       "      <th>0</th>\n",
       "      <td>1C04</td>\n",
       "      <td>HK19</td>\n",
       "      <td>average</td>\n",
       "      <td>2</td>\n",
       "      <td>0.00433</td>\n",
       "      <td>interpolated</td>\n",
       "      <td>0.00433</td>\n",
       "      <td>0.203</td>\n",
       "      <td>interpolated</td>\n",
       "      <td>0.203</td>\n",
       "      <td>0.00433</td>\n",
       "      <td>1.19</td>\n",
       "      <td>1</td>\n",
       "      <td>0</td>\n",
       "    </tr>\n",
       "    <tr>\n",
       "      <th>1</th>\n",
       "      <td>1C04</td>\n",
       "      <td>H6</td>\n",
       "      <td>average</td>\n",
       "      <td>2</td>\n",
       "      <td>1</td>\n",
       "      <td>lower</td>\n",
       "      <td>&gt;1</td>\n",
       "      <td>1</td>\n",
       "      <td>lower</td>\n",
       "      <td>&gt;1</td>\n",
       "      <td>23</td>\n",
       "      <td>0.58</td>\n",
       "      <td>1</td>\n",
       "      <td>0</td>\n",
       "    </tr>\n",
       "    <tr>\n",
       "      <th>2</th>\n",
       "      <td>5G04</td>\n",
       "      <td>HK19</td>\n",
       "      <td>average</td>\n",
       "      <td>2</td>\n",
       "      <td>0.348</td>\n",
       "      <td>interpolated</td>\n",
       "      <td>0.348</td>\n",
       "      <td>20</td>\n",
       "      <td>lower</td>\n",
       "      <td>&gt;20</td>\n",
       "      <td>0.348</td>\n",
       "      <td>1.01</td>\n",
       "      <td>1</td>\n",
       "      <td>0</td>\n",
       "    </tr>\n",
       "    <tr>\n",
       "      <th>3</th>\n",
       "      <td>5G04</td>\n",
       "      <td>H6</td>\n",
       "      <td>average</td>\n",
       "      <td>2</td>\n",
       "      <td>20</td>\n",
       "      <td>lower</td>\n",
       "      <td>&gt;20</td>\n",
       "      <td>20</td>\n",
       "      <td>lower</td>\n",
       "      <td>&gt;20</td>\n",
       "      <td>81.9</td>\n",
       "      <td>2.28</td>\n",
       "      <td>1</td>\n",
       "      <td>0</td>\n",
       "    </tr>\n",
       "  </tbody>\n",
       "</table>\n",
       "</div>"
      ],
      "text/plain": [
       "  serum virus replicate  nreplicates    ic50    ic50_bound ic50_str  ic99    ic99_bound ic99_str  midpoint  slope  top  bottom\n",
       "0  1C04  HK19   average            2 0.00433  interpolated  0.00433 0.203  interpolated    0.203   0.00433   1.19    1       0\n",
       "1  1C04    H6   average            2       1         lower       >1     1         lower       >1        23   0.58    1       0\n",
       "2  5G04  HK19   average            2   0.348  interpolated    0.348    20         lower      >20     0.348   1.01    1       0\n",
       "3  5G04    H6   average            2      20         lower      >20    20         lower      >20      81.9   2.28    1       0"
      ]
     },
     "execution_count": 9,
     "metadata": {},
     "output_type": "execute_result"
    }
   ],
   "source": [
    "fits.fitParams(ics=[50,99])"
   ]
  },
  {
   "cell_type": "code",
   "execution_count": null,
   "id": "30c3b0d0",
   "metadata": {},
   "outputs": [],
   "source": []
  }
 ],
 "metadata": {
  "kernelspec": {
   "display_name": "Python 3 (ipykernel)",
   "language": "python",
   "name": "python3"
  },
  "language_info": {
   "codemirror_mode": {
    "name": "ipython",
    "version": 3
   },
   "file_extension": ".py",
   "mimetype": "text/x-python",
   "name": "python",
   "nbconvert_exporter": "python",
   "pygments_lexer": "ipython3",
   "version": "3.8.12"
  }
 },
 "nbformat": 4,
 "nbformat_minor": 5
}
