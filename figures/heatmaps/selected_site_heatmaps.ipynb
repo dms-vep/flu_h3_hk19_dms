{
 "cells": [
  {
   "cell_type": "markdown",
   "id": "3a044746-61e7-45c6-a7d1-443f8f554b55",
   "metadata": {},
   "source": [
    "# Heatmaps at selected sites\n",
    "This notebook generates heatmaps at single sites or ranges of sites. These are generated separately so that gaps can be inserted between non-continuous sites in the finalized figure. \n",
    "\n",
    "Heatmaps for escape from sera 3944 and 197C at selected sites are visualized in Figure 1. Max/min escape is capped at 1 (the approximate maximum escape score at these sites for these sera)."
   ]
  },
  {
   "cell_type": "code",
   "execution_count": 1,
   "id": "83d513f4-22ce-4be0-ac07-1b6cfeb79ce5",
   "metadata": {},
   "outputs": [],
   "source": [
    "import pickle\n",
    "\n",
    "import altair as alt\n",
    "import altair_saver\n",
    "\n",
    "import pandas as pd\n",
    "\n",
    "import polyclonal\n",
    "\n",
    "import warnings\n",
    "warnings.filterwarnings('ignore')\n",
    "\n",
    "import yaml\n",
    "\n",
    "from IPython.utils import io"
   ]
  },
  {
   "cell_type": "code",
   "execution_count": 2,
   "id": "f6cfb5cb-1c89-4a01-9705-3b50b16f8caf",
   "metadata": {},
   "outputs": [],
   "source": [
    "import os\n",
    "os.chdir('../../')"
   ]
  },
  {
   "cell_type": "markdown",
   "id": "31d75ae5-86be-4e86-b3db-226c227aaa50",
   "metadata": {},
   "source": [
    "### Get plotting parameters"
   ]
  },
  {
   "cell_type": "code",
   "execution_count": 3,
   "id": "16ec3048-a72b-4f42-a9e5-fc1d5768612a",
   "metadata": {},
   "outputs": [],
   "source": [
    "# config parameters are the same for all sera\n",
    "with open('data/polyclonal_config.yaml') as f:\n",
    "    antibody_config = yaml.safe_load(f)['197C']"
   ]
  },
  {
   "cell_type": "code",
   "execution_count": 4,
   "id": "23ee24cd-d475-4909-8b42-1539b8b86858",
   "metadata": {},
   "outputs": [],
   "source": [
    "muteffects_csv = \"results/muteffects_functional/muteffects_observed.csv\"\n",
    "site_numbering_map = \"data/site_map.csv\"\n",
    "max_escape=1\n",
    "\n",
    "site_map = pd.read_csv(site_numbering_map).rename(columns={\"reference_site\": \"site\"})\n",
    "\n",
    "df_to_merge = [site_map]\n",
    "\n",
    "plot_kwargs = antibody_config[\"plot_kwargs\"]\n",
    "\n",
    "muteffects = pd.read_csv(muteffects_csv).rename(\n",
    "    columns={\"reference_site\": \"site\", \"effect\": \"functional effect\"}\n",
    ")[[\"site\", \"mutant\", \"functional effect\"]]\n",
    "plot_kwargs[\"addtl_slider_stats\"][\"functional effect\"] = -1.38\n",
    "\n",
    "plot_kwargs[\"addtl_slider_stats_hide_not_filter\"] = []\n",
    "\n",
    "plot_kwargs[\"addtl_slider_stats_hide_not_filter\"].append(\"functional effect\")\n",
    "\n",
    "plot_kwargs[\"init_floor_at_zero\"] = False\n",
    "\n",
    "plot_kwargs[\"alphabet\"] = ['R', 'K', 'H', 'D', 'E', 'Q', 'N', 'S', 'T', 'Y', \n",
    "                           'W', 'F', 'A', 'I', 'L', 'M', 'V', 'G', 'P', 'C']\n",
    "\n",
    "plot_kwargs[\"show_lineplot\"] = False\n",
    "\n",
    "df_to_merge.append(muteffects)"
   ]
  },
  {
   "cell_type": "markdown",
   "id": "81805e53-62dd-41fe-82eb-90d43595485e",
   "metadata": {},
   "source": [
    "### Generate heatmaps"
   ]
  },
  {
   "cell_type": "code",
   "execution_count": 5,
   "id": "4ba29e51-b5cd-4d63-830e-62c23c402ede",
   "metadata": {},
   "outputs": [],
   "source": [
    "def expand_ranges(range_list):\n",
    "    expanded_list = []\n",
    "    for item in range_list:\n",
    "        if isinstance(item, int):\n",
    "            expanded_list.append(item)\n",
    "        elif isinstance(item, str):\n",
    "            if ':' in item:\n",
    "                start, end = item.split(':')\n",
    "                expanded_list.extend(range(int(start), int(end) + 1))\n",
    "            else:\n",
    "                expanded_list.append(int(item))\n",
    "    return expanded_list"
   ]
  },
  {
   "cell_type": "code",
   "execution_count": 6,
   "id": "bd1aa789-1ab1-4af7-a40b-d79cf06fc0de",
   "metadata": {
    "tags": []
   },
   "outputs": [],
   "source": [
    "for antibody in [3944, '197C']:\n",
    "    \n",
    "    # get the polyclonal model for that antibody\n",
    "    pickle_file=f'results/antibody_escape/{antibody}.pickle'\n",
    "    with open(pickle_file, \"rb\") as f:\n",
    "        model = pickle.load(f)\n",
    "    f.close()\n",
    "    \n",
    "    # define sites\n",
    "    site_ranges = ['121:124', 145, '158:160', '188:193']\n",
    "    \n",
    "    heatmaps = []\n",
    "    \n",
    "    # each entry is a block of sites to plot together\n",
    "    for entry in site_ranges:\n",
    "        sites = expand_ranges([entry])\n",
    "        # get heatmap using defined parameters\n",
    "        heatmap = model.mut_escape_plot(\n",
    "            df_to_merge=df_to_merge,\n",
    "            **plot_kwargs,\n",
    "            sites_to_show={\"include\": sites},\n",
    "            heatmap_max_fixed=max_escape,\n",
    "            heatmap_min_fixed=-max_escape\n",
    "        )\n",
    "        \n",
    "        # save as high-res png\n",
    "        heatmap.save(f'figures/heatmaps/results/{antibody}_{entry}_heatmap.png', \n",
    "                     scale_factor=2.0)"
   ]
  }
 ],
 "metadata": {
  "kernelspec": {
   "display_name": "Python 3 (ipykernel)",
   "language": "python",
   "name": "python3"
  },
  "language_info": {
   "codemirror_mode": {
    "name": "ipython",
    "version": 3
   },
   "file_extension": ".py",
   "mimetype": "text/x-python",
   "name": "python",
   "nbconvert_exporter": "python",
   "pygments_lexer": "ipython3",
   "version": "3.11.3"
  }
 },
 "nbformat": 4,
 "nbformat_minor": 5
}
