{
 "cells": [
  {
   "cell_type": "code",
   "execution_count": 8,
   "id": "58ea6fbd-3e86-4b65-9632-882435c1c28a",
   "metadata": {
    "tags": []
   },
   "outputs": [],
   "source": [
    "import pickle\n",
    "\n",
    "import altair as alt\n",
    "import altair_saver\n",
    "\n",
    "import pandas as pd\n",
    "\n",
    "import polyclonal\n",
    "\n",
    "import warnings\n",
    "warnings.filterwarnings('ignore')\n",
    "\n",
    "import yaml\n",
    "\n",
    "from IPython.utils import io"
   ]
  },
  {
   "cell_type": "code",
   "execution_count": 9,
   "id": "9c8d02ec-f221-45c9-a8b7-1c9e7bd6fa61",
   "metadata": {
    "tags": []
   },
   "outputs": [],
   "source": [
    "import os\n",
    "os.chdir('../../../')"
   ]
  },
  {
   "cell_type": "code",
   "execution_count": 10,
   "id": "9fef5b3e-c995-427a-a853-5e87b8829933",
   "metadata": {
    "tags": []
   },
   "outputs": [],
   "source": [
    "def get_escape_lineplot(antibody, cohort):\n",
    "    pickle_file=f'results/antibody_escape/{antibody}.pickle'\n",
    "\n",
    "    # get polyclonal model\n",
    "    with open(pickle_file, \"rb\") as f:\n",
    "        model = pickle.load(f)\n",
    "    f.close()\n",
    "    \n",
    "    # get config for plotting\n",
    "    with open('data/polyclonal_config.yaml') as f:\n",
    "        antibody_config = yaml.safe_load(f)[antibody] \n",
    "    f.close()\n",
    "    \n",
    "    # get df for plotting\n",
    "    muteffects_csv = \"results/muteffects_functional/muteffects_observed.csv\"\n",
    "    site_numbering_map = \"data/site_map.csv\"\n",
    "\n",
    "    site_map = pd.read_csv(site_numbering_map).rename(columns={\"reference_site\": \"site\"})\n",
    "\n",
    "    df_to_merge = [site_map]\n",
    "\n",
    "    plot_kwargs = antibody_config[\"plot_kwargs\"]\n",
    "\n",
    "    muteffects = pd.read_csv(muteffects_csv).rename(\n",
    "        columns={\"reference_site\": \"site\", \"effect\": \"functional effect\"}\n",
    "    )[[\"site\", \"mutant\", \"functional effect\"]]\n",
    "    plot_kwargs[\"addtl_slider_stats\"][\"functional effect\"] = -1.38\n",
    "\n",
    "    plot_kwargs[\"addtl_slider_stats_hide_not_filter\"] = []\n",
    "\n",
    "    plot_kwargs[\"addtl_slider_stats_hide_not_filter\"].append(\"functional effect\")\n",
    "\n",
    "    plot_kwargs[\"init_floor_at_zero\"] = False\n",
    "\n",
    "    df_to_merge.append(muteffects)    \n",
    "    \n",
    "    # generate plot\n",
    "    plot = model.mut_escape_plot(\n",
    "        df_to_merge=df_to_merge,\n",
    "        **plot_kwargs,\n",
    "        show_heatmap=False,\n",
    "        show_zoombar=False,\n",
    "        plot_title=str(antibody)\n",
    "    )\n",
    "    \n",
    "    # save to dir for that cohort\n",
    "    plot.save(\n",
    "        f'scratch_notebooks/figure_drafts/escape_map_lineplots/{cohort}/{antibody}.png',\n",
    "        scale_factor=2.0\n",
    "    )   "
   ]
  },
  {
   "cell_type": "code",
   "execution_count": 11,
   "id": "54001cae-8bf4-42b6-b39a-2618c34a370a",
   "metadata": {
    "tags": []
   },
   "outputs": [],
   "source": [
    "sample_dict = {\n",
    "    'children': [3944, 2389, 2323, 2388, 3973, 4299, 4584, 2367],\n",
    "    'teenagers': [2350, 2365, 2382, 3866, 2380, 3856, 3857, 3862],\n",
    "    'adults': ['33C', '34C', '197C', '199C', '215C', '210C', '74C', '68C', '150C', '18C'],\n",
    "    'misc': ['AUSAB-13', 2462]\n",
    "}\n",
    "\n",
    "for cohort, serum_list in sample_dict.items():\n",
    "    for serum in serum_list: \n",
    "        get_escape_lineplot(serum, cohort)"
   ]
  },
  {
   "cell_type": "code",
   "execution_count": null,
   "id": "ae0f2458-c493-4120-9709-763e5be14fd7",
   "metadata": {},
   "outputs": [],
   "source": []
  }
 ],
 "metadata": {
  "kernelspec": {
   "display_name": "Python 3 (ipykernel)",
   "language": "python",
   "name": "python3"
  },
  "language_info": {
   "codemirror_mode": {
    "name": "ipython",
    "version": 3
   },
   "file_extension": ".py",
   "mimetype": "text/x-python",
   "name": "python",
   "nbconvert_exporter": "python",
   "pygments_lexer": "ipython3",
   "version": "3.11.3"
  }
 },
 "nbformat": 4,
 "nbformat_minor": 5
}
