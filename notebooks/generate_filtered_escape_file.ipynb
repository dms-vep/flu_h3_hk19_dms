{
 "cells": [
  {
   "cell_type": "markdown",
   "id": "3080e92b-bda4-4e9e-add1-930622f8e9ed",
   "metadata": {},
   "source": [
    "# Generate a file with all age cohort escape data from A/Hong Kong/45/2019 H3 HA\n",
    "This file is filtered using the following parameters, specified in `data/polyclonal_config.yaml`:\n",
    "* Functional effect threshold (-1.38)\n",
    "* Minimum times seen (n=3)\n",
    "* Allowed amino acids (all except stop codons)"
   ]
  },
  {
   "cell_type": "code",
   "execution_count": null,
   "id": "7948adc9-165a-4710-93f8-567dff1c3102",
   "metadata": {},
   "outputs": [],
   "source": [
    "import altair as alt\n",
    "\n",
    "import pandas as pd\n",
    "\n",
    "import polyclonal\n",
    "\n",
    "import yaml"
   ]
  },
  {
   "cell_type": "markdown",
   "id": "78b004b6-4294-43c9-a2f3-d7d299b97c91",
   "metadata": {},
   "source": [
    "Read the data and get config parameters"
   ]
  },
  {
   "cell_type": "code",
   "execution_count": null,
   "id": "5a483fc7-aca1-4bf6-a617-14cb4cd757c8",
   "metadata": {
    "tags": []
   },
   "outputs": [],
   "source": [
    "with open('data/polyclonal_config.yaml') as f:\n",
    "    config = yaml.safe_load(f)['overall_default']['plot_kwargs']\n",
    "    \n",
    "func_effect = config['addtl_slider_stats']['functional effect']\n",
    "times_seen = config['addtl_slider_stats']['times_seen']\n",
    "aa_list = config['alphabet']"
   ]
  },
  {
   "cell_type": "markdown",
   "id": "70f561b0-e521-4268-b53b-7de7c4e50338",
   "metadata": {},
   "source": [
    "Get functional effects"
   ]
  },
  {
   "cell_type": "code",
   "execution_count": null,
   "id": "c20b9012-cb55-4d81-889a-66de16052132",
   "metadata": {
    "tags": []
   },
   "outputs": [],
   "source": [
    "muteffects_csv = \"results/muteffects_functional/muteffects_observed.csv\"\n",
    "\n",
    "muteffects = pd.read_csv(muteffects_csv).rename(\n",
    "    columns={\"reference_site\": \"site\", \"effect\": \"functional effect\"}\n",
    ")[[\"site\", \"mutant\", \"functional effect\"]]"
   ]
  },
  {
   "cell_type": "markdown",
   "id": "ca0630bd-cdd2-4100-9720-bcc875bb1a9c",
   "metadata": {},
   "source": [
    "Define samples in each age cohort"
   ]
  },
  {
   "cell_type": "code",
   "execution_count": null,
   "id": "dd3320c8-ad55-4986-a5ee-0d4d91f235b7",
   "metadata": {
    "tags": []
   },
   "outputs": [],
   "source": [
    "cohort_dict = {\n",
    "    '2-5_years': [\n",
    "        '3944',\n",
    "        '2389',\n",
    "        '2323',\n",
    "        '2388',\n",
    "        '3973',\n",
    "        '4299',\n",
    "        '4584',\n",
    "        '2367',\n",
    "    ],\n",
    "    '15-20_years': [\n",
    "        '2350',\n",
    "        '2365',\n",
    "        '2382',\n",
    "        '3866',\n",
    "        '2380',\n",
    "        '3856',\n",
    "        '3857',\n",
    "        '3862'\n",
    "    ],\n",
    "    '40-45_years': [\n",
    "        '33C',\n",
    "        '34C',\n",
    "        '197C',\n",
    "        '199C', \n",
    "        '215C',\n",
    "        '210C', \n",
    "        '74C', \n",
    "        '68C', \n",
    "        '150C', \n",
    "        '18C',\n",
    "    ],    \n",
    "}"
   ]
  },
  {
   "cell_type": "markdown",
   "id": "9097c7f4-fc7f-4eb1-af38-fd49d5d5a579",
   "metadata": {},
   "source": [
    "Read the library-averaged escape dfs for each serum, filter by defined parameters, and combine to one summary escape file."
   ]
  },
  {
   "cell_type": "code",
   "execution_count": null,
   "id": "0189e324-9d06-41e4-af44-e9c72783c76a",
   "metadata": {
    "tags": []
   },
   "outputs": [],
   "source": [
    "escape_df_list = []\n",
    "\n",
    "for cohort, serum_list in cohort_dict.items():\n",
    "    for serum in serum_list:\n",
    "        df = (pd.read_csv(f'results/antibody_escape/{serum}_avg.csv')\n",
    "              .query(f\"`times_seen` >= @times_seen\")\n",
    "              .query(\"`mutant` in @aa_list\")\n",
    "              .merge(muteffects,\n",
    "                      how='left',\n",
    "                      on=['site', 'mutant']\n",
    "                     )\n",
    "              .query(\"`functional effect` >= @func_effect\")\n",
    "             )\n",
    "        \n",
    "        df['serum'] = serum\n",
    "        df['cohort'] = cohort\n",
    "        \n",
    "        # drop extraneous columns\n",
    "        df = df.drop(['epitope', 'escape_median', 'escape_min_magnitude'], axis=1)\n",
    "        \n",
    "        escape_df_list.append(df)\n",
    "        \n",
    "escape_df = pd.concat(escape_df_list)"
   ]
  },
  {
   "cell_type": "code",
   "execution_count": null,
   "id": "5e5f954c-5c00-4697-976c-99a4369a610d",
   "metadata": {},
   "outputs": [],
   "source": [
    "output_csv = 'results/full_hk19_escape_scores.csv'\n",
    "print(f'Writing to {output_csv}')\n",
    "escape_df.to_csv(output_csv, index=False)\n",
    "\n",
    "escape_df"
   ]
  }
 ],
 "metadata": {
  "kernelspec": {
   "display_name": "Python 3 (ipykernel)",
   "language": "python",
   "name": "python3"
  },
  "language_info": {
   "codemirror_mode": {
    "name": "ipython",
    "version": 3
   },
   "file_extension": ".py",
   "mimetype": "text/x-python",
   "name": "python",
   "nbconvert_exporter": "python",
   "pygments_lexer": "ipython3",
   "version": "3.11.3"
  }
 },
 "nbformat": 4,
 "nbformat_minor": 5
}
