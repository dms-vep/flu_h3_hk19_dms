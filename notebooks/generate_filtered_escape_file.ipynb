{
 "cells": [
  {
   "cell_type": "code",
   "execution_count": 1,
   "id": "7948adc9-165a-4710-93f8-567dff1c3102",
   "metadata": {},
   "outputs": [],
   "source": [
    "import altair as alt\n",
    "\n",
    "import pandas as pd\n",
    "\n",
    "import polyclonal\n",
    "import yaml"
   ]
  },
  {
   "cell_type": "markdown",
   "id": "78b004b6-4294-43c9-a2f3-d7d299b97c91",
   "metadata": {},
   "source": [
    "Read the data:"
   ]
  },
  {
   "cell_type": "code",
   "execution_count": 2,
   "id": "f41adbe1-542f-4832-a427-87c99fcdaa3c",
   "metadata": {
    "tags": []
   },
   "outputs": [],
   "source": [
    "import os\n",
    "os.chdir('../')"
   ]
  },
  {
   "cell_type": "markdown",
   "id": "8b133ca9-39f2-4360-9ebf-ec1a1c4d6965",
   "metadata": {},
   "source": [
    "Get config parameters"
   ]
  },
  {
   "cell_type": "code",
   "execution_count": 3,
   "id": "5a483fc7-aca1-4bf6-a617-14cb4cd757c8",
   "metadata": {
    "tags": []
   },
   "outputs": [],
   "source": [
    "with open('data/polyclonal_config.yaml') as f:\n",
    "    config = yaml.safe_load(f)['overall_default']['plot_kwargs']\n",
    "    \n",
    "func_effect = config['addtl_slider_stats']['functional effect']\n",
    "times_seen = config['addtl_slider_stats']['times_seen']\n",
    "aa_list = config['alphabet']"
   ]
  },
  {
   "cell_type": "markdown",
   "id": "70f561b0-e521-4268-b53b-7de7c4e50338",
   "metadata": {},
   "source": [
    "Get functional effects"
   ]
  },
  {
   "cell_type": "code",
   "execution_count": 4,
   "id": "c20b9012-cb55-4d81-889a-66de16052132",
   "metadata": {
    "tags": []
   },
   "outputs": [],
   "source": [
    "muteffects_csv = \"results/muteffects_functional/muteffects_observed.csv\"\n",
    "\n",
    "muteffects = pd.read_csv(muteffects_csv).rename(\n",
    "    columns={\"reference_site\": \"site\", \"effect\": \"functional effect\"}\n",
    ")[[\"site\", \"mutant\", \"functional effect\"]]"
   ]
  },
  {
   "cell_type": "code",
   "execution_count": 5,
   "id": "dd3320c8-ad55-4986-a5ee-0d4d91f235b7",
   "metadata": {
    "tags": []
   },
   "outputs": [],
   "source": [
    "cohort_dict = {\n",
    "    '2-5_years': [\n",
    "        '3944',\n",
    "        '2389',\n",
    "        '2323',\n",
    "        '2388',\n",
    "        '3973',\n",
    "        '4299',\n",
    "        '4584',\n",
    "        '2367',\n",
    "    ],\n",
    "    '15-20_years': [\n",
    "        '2350',\n",
    "        '2365',\n",
    "        '2382',\n",
    "        '3866',\n",
    "        '2380',\n",
    "        '3856',\n",
    "        '3857',\n",
    "        '3862'\n",
    "    ],\n",
    "    '40-45_years': [\n",
    "        '33C',\n",
    "        '34C',\n",
    "        '197C',\n",
    "        '199C', \n",
    "        '215C',\n",
    "        '210C', \n",
    "        '74C', \n",
    "        '68C', \n",
    "        '150C', \n",
    "        '18C',\n",
    "    ],    \n",
    "}"
   ]
  },
  {
   "cell_type": "code",
   "execution_count": 6,
   "id": "0189e324-9d06-41e4-af44-e9c72783c76a",
   "metadata": {
    "tags": []
   },
   "outputs": [
    {
     "data": {
      "text/html": [
       "<div>\n",
       "<style scoped>\n",
       "    .dataframe tbody tr th:only-of-type {\n",
       "        vertical-align: middle;\n",
       "    }\n",
       "\n",
       "    .dataframe tbody tr th {\n",
       "        vertical-align: top;\n",
       "    }\n",
       "\n",
       "    .dataframe thead th {\n",
       "        text-align: right;\n",
       "    }\n",
       "</style>\n",
       "<table border=\"1\" class=\"dataframe\">\n",
       "  <thead>\n",
       "    <tr style=\"text-align: right;\">\n",
       "      <th></th>\n",
       "      <th>epitope</th>\n",
       "      <th>site</th>\n",
       "      <th>wildtype</th>\n",
       "      <th>mutant</th>\n",
       "      <th>mutation</th>\n",
       "      <th>escape_mean</th>\n",
       "      <th>escape_median</th>\n",
       "      <th>escape_min_magnitude</th>\n",
       "      <th>escape_std</th>\n",
       "      <th>n_models</th>\n",
       "      <th>times_seen</th>\n",
       "      <th>frac_models</th>\n",
       "      <th>functional effect</th>\n",
       "      <th>serum</th>\n",
       "      <th>cohort</th>\n",
       "    </tr>\n",
       "  </thead>\n",
       "  <tbody>\n",
       "    <tr>\n",
       "      <th>0</th>\n",
       "      <td>1</td>\n",
       "      <td>-2</td>\n",
       "      <td>D</td>\n",
       "      <td>G</td>\n",
       "      <td>D-2G</td>\n",
       "      <td>0.1278</td>\n",
       "      <td>0.1278</td>\n",
       "      <td>0.0944</td>\n",
       "      <td>0.0473</td>\n",
       "      <td>2</td>\n",
       "      <td>3.0</td>\n",
       "      <td>1.0</td>\n",
       "      <td>-0.6583</td>\n",
       "      <td>3944</td>\n",
       "      <td>2-5_years</td>\n",
       "    </tr>\n",
       "    <tr>\n",
       "      <th>1</th>\n",
       "      <td>1</td>\n",
       "      <td>-2</td>\n",
       "      <td>D</td>\n",
       "      <td>Y</td>\n",
       "      <td>D-2Y</td>\n",
       "      <td>0.0338</td>\n",
       "      <td>0.0338</td>\n",
       "      <td>-0.0017</td>\n",
       "      <td>0.0501</td>\n",
       "      <td>2</td>\n",
       "      <td>7.0</td>\n",
       "      <td>1.0</td>\n",
       "      <td>-0.6440</td>\n",
       "      <td>3944</td>\n",
       "      <td>2-5_years</td>\n",
       "    </tr>\n",
       "    <tr>\n",
       "      <th>2</th>\n",
       "      <td>1</td>\n",
       "      <td>1</td>\n",
       "      <td>Q</td>\n",
       "      <td>H</td>\n",
       "      <td>Q1H</td>\n",
       "      <td>0.0069</td>\n",
       "      <td>0.0069</td>\n",
       "      <td>-0.1341</td>\n",
       "      <td>0.1994</td>\n",
       "      <td>2</td>\n",
       "      <td>3.0</td>\n",
       "      <td>1.0</td>\n",
       "      <td>-0.1601</td>\n",
       "      <td>3944</td>\n",
       "      <td>2-5_years</td>\n",
       "    </tr>\n",
       "    <tr>\n",
       "      <th>3</th>\n",
       "      <td>1</td>\n",
       "      <td>1</td>\n",
       "      <td>Q</td>\n",
       "      <td>R</td>\n",
       "      <td>Q1R</td>\n",
       "      <td>-0.0235</td>\n",
       "      <td>-0.0235</td>\n",
       "      <td>0.0545</td>\n",
       "      <td>0.1103</td>\n",
       "      <td>2</td>\n",
       "      <td>5.0</td>\n",
       "      <td>1.0</td>\n",
       "      <td>-0.6362</td>\n",
       "      <td>3944</td>\n",
       "      <td>2-5_years</td>\n",
       "    </tr>\n",
       "    <tr>\n",
       "      <th>4</th>\n",
       "      <td>1</td>\n",
       "      <td>2</td>\n",
       "      <td>K</td>\n",
       "      <td>N</td>\n",
       "      <td>K2N</td>\n",
       "      <td>-0.0178</td>\n",
       "      <td>-0.0178</td>\n",
       "      <td>0.0521</td>\n",
       "      <td>0.0990</td>\n",
       "      <td>2</td>\n",
       "      <td>5.0</td>\n",
       "      <td>1.0</td>\n",
       "      <td>-0.1545</td>\n",
       "      <td>3944</td>\n",
       "      <td>2-5_years</td>\n",
       "    </tr>\n",
       "  </tbody>\n",
       "</table>\n",
       "</div>"
      ],
      "text/plain": [
       "   epitope  site wildtype mutant mutation  escape_mean  escape_median  \\\n",
       "0        1    -2        D      G     D-2G       0.1278         0.1278   \n",
       "1        1    -2        D      Y     D-2Y       0.0338         0.0338   \n",
       "2        1     1        Q      H      Q1H       0.0069         0.0069   \n",
       "3        1     1        Q      R      Q1R      -0.0235        -0.0235   \n",
       "4        1     2        K      N      K2N      -0.0178        -0.0178   \n",
       "\n",
       "   escape_min_magnitude  escape_std  n_models  times_seen  frac_models  \\\n",
       "0                0.0944      0.0473         2         3.0          1.0   \n",
       "1               -0.0017      0.0501         2         7.0          1.0   \n",
       "2               -0.1341      0.1994         2         3.0          1.0   \n",
       "3                0.0545      0.1103         2         5.0          1.0   \n",
       "4                0.0521      0.0990         2         5.0          1.0   \n",
       "\n",
       "   functional effect serum     cohort  \n",
       "0            -0.6583  3944  2-5_years  \n",
       "1            -0.6440  3944  2-5_years  \n",
       "2            -0.1601  3944  2-5_years  \n",
       "3            -0.6362  3944  2-5_years  \n",
       "4            -0.1545  3944  2-5_years  "
      ]
     },
     "execution_count": 6,
     "metadata": {},
     "output_type": "execute_result"
    }
   ],
   "source": [
    "escape_df_list = []\n",
    "\n",
    "for cohort, serum_list in cohort_dict.items():\n",
    "    for serum in serum_list:\n",
    "        df = (pd.read_csv(f'results/antibody_escape/{serum}_avg.csv')\n",
    "              .query(f\"`times_seen` >= @times_seen\")\n",
    "              .query(\"`mutant` in @aa_list\")\n",
    "              .merge(muteffects,\n",
    "                      how='left',\n",
    "                      on=['site', 'mutant']\n",
    "                     )\n",
    "              .query(\"`functional effect` >= @func_effect\")\n",
    "             )\n",
    "        \n",
    "        df['serum'] = serum\n",
    "        df['cohort'] = cohort\n",
    "        \n",
    "        escape_df_list.append(df)\n",
    "        \n",
    "escape_df = pd.concat(escape_df_list)\n",
    "escape_df.head()"
   ]
  },
  {
   "cell_type": "code",
   "execution_count": 9,
   "id": "5e5f954c-5c00-4697-976c-99a4369a610d",
   "metadata": {},
   "outputs": [],
   "source": [
    "escape_df.to_csv('results/full_hk19_escape_scores.csv', index=False)"
   ]
  }
 ],
 "metadata": {
  "kernelspec": {
   "display_name": "Python 3 (ipykernel)",
   "language": "python",
   "name": "python3"
  },
  "language_info": {
   "codemirror_mode": {
    "name": "ipython",
    "version": 3
   },
   "file_extension": ".py",
   "mimetype": "text/x-python",
   "name": "python",
   "nbconvert_exporter": "python",
   "pygments_lexer": "ipython3",
   "version": "3.11.3"
  }
 },
 "nbformat": 4,
 "nbformat_minor": 5
}
