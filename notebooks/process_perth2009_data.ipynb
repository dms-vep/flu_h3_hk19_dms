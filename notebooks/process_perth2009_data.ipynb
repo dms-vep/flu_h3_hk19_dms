{
 "cells": [
  {
   "cell_type": "markdown",
   "id": "71372fbe-d1b1-4203-9cdc-de3d41f01a61",
   "metadata": {},
   "source": [
    "# Process data from Perth/2009 HA\n",
    "Some of these data are taken from a previously published study ([Lee et al (2019)](https://elifesciences.org/articles/49324)); the rest represent unpublished data by Rachel Eguia and Juhye Lee in this repository ([https://github.com/jbloomlab/map_flu_serum_Vietnam_H3_Perth2009](https://github.com/jbloomlab/map_flu_serum_Vietnam_H3_Perth2009)).\n",
    "\n",
    "The Eguia samples were all collected in Vietnam in 2010-2011.\n",
    "\n",
    "Import Python modules:"
   ]
  },
  {
   "cell_type": "code",
   "execution_count": null,
   "id": "9a97c1de-db23-4d08-b3b9-afa608253fd2",
   "metadata": {},
   "outputs": [],
   "source": [
    "import altair as alt\n",
    "\n",
    "import pandas as pd\n",
    "\n",
    "import polyclonal.plot"
   ]
  },
  {
   "cell_type": "markdown",
   "id": "8cfc0d50-ef87-489a-a914-20d3babb942b",
   "metadata": {},
   "source": [
    "Read the data:"
   ]
  },
  {
   "cell_type": "code",
   "execution_count": null,
   "id": "9a67ac57-a2a8-42e2-a53b-44962a28c622",
   "metadata": {},
   "outputs": [],
   "source": [
    "avg_sel_tidy = pd.concat(\n",
    "    [\n",
    "        pd.read_csv(csv_file, low_memory=False).assign(dataset=dataset)\n",
    "        for csv_file, dataset in [\n",
    "            (\"results/perth2009/eguia_avg_sel_tidy.csv\", \"Eguia\"),\n",
    "            (\"results/perth2009/lee_avg_sel_tidy.csv\", \"Lee2019\"),\n",
    "        ]\n",
    "    ],\n",
    "    ignore_index=True,\n",
    ")\n",
    "\n",
    "assert (\n",
    "    avg_sel_tidy[\"serum_name_formatted\"].nunique()\n",
    "    == avg_sel_tidy[\"serum\"].nunique()\n",
    "    == len(avg_sel_tidy.groupby([\"serum\", \"dataset\"]))\n",
    ")"
   ]
  },
  {
   "cell_type": "markdown",
   "id": "9ae635a9-4fc8-4bd1-a303-a493bb294707",
   "metadata": {},
   "source": [
    "Make a dictionary to rename samples, and also specify those to drop:"
   ]
  },
  {
   "cell_type": "code",
   "execution_count": null,
   "id": "f40dfb06-cf62-4e4a-a273-572ea3a17fab",
   "metadata": {},
   "outputs": [],
   "source": [
    "sample_rename = {\n",
    "    # Vietnam cohort samples from Eguia study (collected 2010-2011)\n",
    "    \"age-30.5\": \"age 30.5 (Vietnam)\",\n",
    "    \"age-31.5\": \"age 31.5 (Vietnam)\",\n",
    "    \"age-33.5\": \"age 33.5 (Vietnam)\",\n",
    "    \"age-2.1\": \"age 2.1 (Vietnam)\",\n",
    "    \"age-2.2\": \"age 2.2 (Vietnam)\",\n",
    "    \"age-2.4\": \"age 2.4 (Vietnam)\",\n",
    "    \"age-2.5\": \"age 2.5 (Vietnam)\",\n",
    "    \"age-2.5-b\": \"age 2.5b (Vietnam)\",\n",
    "    \"age-3.3\": \"age 3.3 (Vietnam)\", \n",
    "    \"age-3.3-b\": \"age 3.3b (Vietnam)\",\n",
    "    \"age-3.4\": \"age 3.4 (Vietnam)\", \n",
    "    \"age-3.5\": \"age 3.5 (Vietnam)\",\n",
    "    # previously published samples from Lee et al 2019; only keeping ones from 2009-2010 timeframe\n",
    "    \"2010-age-21\": \"age 21 (Seattle)\",\n",
    "    \"2009-age-53\": \"age 53 (Seattle)\",\n",
    "    \"2009-age-64\": \"age 64 (Seattle)\",\n",
    "    \"2009-age-65\": \"age 65 (Seattle)\",\n",
    "    # ferrets infected with Perth/2009\n",
    "    \"ferret-Pitt-1-postinf\": \"ferret 1 (Pitt)\",\n",
    "    \"ferret-Pitt-2-postinf\": \"ferret 2 (Pitt)\",\n",
    "    \"ferret-Pitt-3-postinf\": \"ferret 3 (Pitt)\",\n",
    "    \"ferret-WHO-Perth2009\": \"ferret (WHO)\",\n",
    "}\n",
    "\n",
    "samples_to_drop = [\n",
    "    # ignore antibodies, not relevant to this study\n",
    "    \"antibody-4F03\",\n",
    "    \"antibody-1C04\",\n",
    "    \"antibody-5A01\",\n",
    "    \"antibody-3C04\",\n",
    "    \"antibody-3C06\",\n",
    "    \"antibody-4C01\",\n",
    "    # collected too late to be comparable to Vietnam samples\n",
    "    \"2015-age-25-prevacc\",\n",
    "    \"2015-age-25-vacc\",\n",
    "    \"2015-age-29-prevacc\",\n",
    "    \"2015-age-29-vacc\",\n",
    "    \"2015-age-48-prevacc\",\n",
    "    \"2015-age-48-vacc\",\n",
    "    \"2015-age-49-prevacc\",\n",
    "    \"2015-age-49-vacc\",\n",
    "    # antibody spike-in samples, not relevant to this study\n",
    "    \"2009-age-65-with-low-4F03\",\n",
    "    \"2009-age-65-with-mid-4F03\",\n",
    "    \"2009-age-65-with-hi-4F03\",\n",
    "    # duplicate sample from an individual, don't include repeats\n",
    "    \"2009-age-53-plus-2-months\",\n",
    "    # pre-infection ferrets aren't relevant\n",
    "    \"ferret-Pitt-1-preinf\",\n",
    "    \"ferret-Pitt-2-preinf\",\n",
    "    \"ferret-Pitt-3-preinf\",\n",
    "    # ferret infected with a different strain\n",
    "    \"ferret-WHO-Victoria2011\",\n",
    "]"
   ]
  },
  {
   "cell_type": "markdown",
   "id": "9e867a82-1843-4186-8801-8f4aa0d21dbb",
   "metadata": {
    "execution": {
     "iopub.execute_input": "2023-07-18T21:36:02.414550Z",
     "iopub.status.busy": "2023-07-18T21:36:02.414038Z",
     "iopub.status.idle": "2023-07-18T21:36:03.333937Z",
     "shell.execute_reply": "2023-07-18T21:36:03.333369Z",
     "shell.execute_reply.started": "2023-07-18T21:36:02.414515Z"
    }
   },
   "source": [
    "Make consistent with the format produced by `polyclonal`.\n",
    "All of these are single epitope so we just assign epitope to one:"
   ]
  },
  {
   "cell_type": "code",
   "execution_count": null,
   "id": "15fa2f79-84b2-4b2b-9158-0f7a7d10ac8f",
   "metadata": {},
   "outputs": [],
   "source": [
    "assert set(avg_sel_tidy[\"serum_name_formatted\"]) == set(sample_rename).union(samples_to_drop)\n",
    "\n",
    "avg_sel = (\n",
    "    avg_sel_tidy\n",
    "    .query(\"serum_name_formatted not in @samples_to_drop\")\n",
    "    .assign(\n",
    "        name=lambda x: x[\"serum_name_formatted\"].map(sample_rename),\n",
    "        epitope=1,\n",
    "        escape=lambda x: x[\"mutdiffsel\"].where(x[\"wildtype\"] != x[\"mutation\"], 0),\n",
    "    )\n",
    "    .rename(columns={\"isite\": \"site_sequential\", \"mutation\": \"mutant\"})\n",
    "    [[\n",
    "        \"name\",\n",
    "        \"serum\",\n",
    "        \"serum_group\",\n",
    "        \"epitope\",\n",
    "        \"site\",\n",
    "        \"site_sequential\",\n",
    "        \"wildtype\",\n",
    "        \"mutant\",\n",
    "        \"escape\",\n",
    "    ]]\n",
    ")\n",
    "\n",
    "assert set(avg_sel[\"name\"]) == set(sample_rename.values())\n",
    "\n",
    "output_csv = \"results/perth2009/merged_escape.csv\"\n",
    "print(f\"Writing to {output_csv}\")\n",
    "avg_sel.to_csv(output_csv, index=False, float_format=\"%.4g\")\n",
    "\n",
    "avg_sel"
   ]
  },
  {
   "cell_type": "markdown",
   "id": "f47e8540-d674-4a4f-adf2-e925267b225a",
   "metadata": {},
   "source": [
    "Make plots for all sera:"
   ]
  },
  {
   "cell_type": "code",
   "execution_count": null,
   "id": "158225f8-ed34-480e-818f-56a981011539",
   "metadata": {},
   "outputs": [],
   "source": [
    "for name, df in avg_sel.groupby(\"name\", sort=False):\n",
    "\n",
    "    escape_chart = polyclonal.plot.lineplot_and_heatmap(\n",
    "        data_df=df,\n",
    "        stat_col=\"escape\",\n",
    "        category_col=\"epitope\",\n",
    "        addtl_tooltip_stats=[\"site_sequential\"],\n",
    "        init_floor_at_zero=True,\n",
    "    ).properties(title=name)\n",
    "\n",
    "    display(escape_chart)"
   ]
  },
  {
   "cell_type": "code",
   "execution_count": null,
   "id": "bd09f386-d3df-443d-b116-b422c3a49ca4",
   "metadata": {},
   "outputs": [],
   "source": []
  }
 ],
 "metadata": {
  "kernelspec": {
   "display_name": "Python 3 (ipykernel)",
   "language": "python",
   "name": "python3"
  },
  "language_info": {
   "codemirror_mode": {
    "name": "ipython",
    "version": 3
   },
   "file_extension": ".py",
   "mimetype": "text/x-python",
   "name": "python",
   "nbconvert_exporter": "python",
   "pygments_lexer": "ipython3",
   "version": "3.11.4"
  }
 },
 "nbformat": 4,
 "nbformat_minor": 5
}
