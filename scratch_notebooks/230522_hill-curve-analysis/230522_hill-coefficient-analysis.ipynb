{
 "cells": [
  {
   "cell_type": "code",
   "execution_count": 1,
   "id": "978b9080-fb97-4a90-b1f1-1f23072884e8",
   "metadata": {
    "tags": []
   },
   "outputs": [],
   "source": [
    "import pickle\n",
    "\n",
    "import altair as alt\n",
    "\n",
    "import pandas as pd\n",
    "\n",
    "import polyclonal\n",
    "\n",
    "import warnings\n",
    "warnings.filterwarnings('ignore')\n",
    "\n",
    "from IPython.utils import io"
   ]
  },
  {
   "cell_type": "code",
   "execution_count": 2,
   "id": "a069db8e-155c-4ef9-84b1-dfae26d5fe26",
   "metadata": {
    "tags": []
   },
   "outputs": [],
   "source": [
    "import os\n",
    "os.chdir('../../')"
   ]
  },
  {
   "cell_type": "code",
   "execution_count": 3,
   "id": "bcf9b952-4549-41de-9692-fcac0199eb6b",
   "metadata": {
    "tags": []
   },
   "outputs": [],
   "source": [
    "adult_sera = ['33C', '34C', '197C', '199C', '215C', \n",
    "              '210C', '74C', '68C', '150C', '18C']\n",
    "\n",
    "ped_sera = [2367, 3944, 2462, 2389, 2323, 2388, 2463, 3973, 4299, 4584]\n",
    "\n",
    "teen_sera = [2343, 2350, 2365, 2382, 3866, 2380, 3856, 3857, 3862, 3895]"
   ]
  },
  {
   "cell_type": "code",
   "execution_count": 28,
   "id": "a3a0f8c3-05a4-4d74-8f54-b7c504b9c872",
   "metadata": {
    "tags": []
   },
   "outputs": [],
   "source": [
    "def hill_plus_escape(serum_list, age_cohort):\n",
    "    hill_coefficients = []\n",
    "    sera = []  \n",
    "    max_site_escapes = []\n",
    "    max_aa_escapes = []\n",
    "    \n",
    "    for serum in serum_list:\n",
    "        sera.append(serum)\n",
    "        \n",
    "        model = pickle.load(open(f'results/antibody_escape/{serum}.pickle', 'rb'))\n",
    "        coeff_mean = model.curve_specs_df['hill_coefficient_mean'][0]\n",
    "        hill_coefficients.append(coeff_mean)\n",
    "        \n",
    "        df = model.mut_escape_df\n",
    "        df['sitewise_sum'] = df['escape_mean'].groupby(df['site']).transform('sum')\n",
    "        max_site = df.loc[df['sitewise_sum'].idxmax()]['sitewise_sum']\n",
    "        max_site_escapes.append(max_site)\n",
    "        \n",
    "        max_aa = df.loc[df['escape_mean'].idxmax()]['escape_mean']\n",
    "        max_aa_escapes.append(max_aa)\n",
    "    \n",
    "    hill_df = pd.DataFrame({\n",
    "        'serum': sera,\n",
    "        'hill_coeff': hill_coefficients,\n",
    "        'max_site_escape': max_site_escapes,\n",
    "        'max_aa_escape': max_aa_escapes,\n",
    "        'age_cohort': age_cohort}\n",
    "    )\n",
    "    \n",
    "    return hill_df"
   ]
  },
  {
   "cell_type": "code",
   "execution_count": 29,
   "id": "46951b6e-9631-4b38-8ed5-4d0857fc212b",
   "metadata": {
    "tags": []
   },
   "outputs": [],
   "source": [
    "adults = hill_plus_escape(adult_sera, '40-45')\n",
    "teens = hill_plus_escape(teen_sera, '15-18')\n",
    "ped = hill_plus_escape(ped_sera, '0-5')\n",
    "\n",
    "hill_df = pd.concat([adults, teens, ped]).reset_index()"
   ]
  },
  {
   "cell_type": "code",
   "execution_count": 10,
   "id": "ed6e52d1-2725-4385-9187-6ac078537188",
   "metadata": {
    "tags": []
   },
   "outputs": [
    {
     "data": {
      "text/html": [
       "\n",
       "<div id=\"altair-viz-5a8aba9ffaea4c3aa48028e894d47dc5\"></div>\n",
       "<script type=\"text/javascript\">\n",
       "  var VEGA_DEBUG = (typeof VEGA_DEBUG == \"undefined\") ? {} : VEGA_DEBUG;\n",
       "  (function(spec, embedOpt){\n",
       "    let outputDiv = document.currentScript.previousElementSibling;\n",
       "    if (outputDiv.id !== \"altair-viz-5a8aba9ffaea4c3aa48028e894d47dc5\") {\n",
       "      outputDiv = document.getElementById(\"altair-viz-5a8aba9ffaea4c3aa48028e894d47dc5\");\n",
       "    }\n",
       "    const paths = {\n",
       "      \"vega\": \"https://cdn.jsdelivr.net/npm/vega@5?noext\",\n",
       "      \"vega-lib\": \"https://cdn.jsdelivr.net/npm/vega-lib?noext\",\n",
       "      \"vega-lite\": \"https://cdn.jsdelivr.net/npm/vega-lite@5.6.1?noext\",\n",
       "      \"vega-embed\": \"https://cdn.jsdelivr.net/npm/vega-embed@6?noext\",\n",
       "    };\n",
       "\n",
       "    function maybeLoadScript(lib, version) {\n",
       "      var key = `${lib.replace(\"-\", \"\")}_version`;\n",
       "      return (VEGA_DEBUG[key] == version) ?\n",
       "        Promise.resolve(paths[lib]) :\n",
       "        new Promise(function(resolve, reject) {\n",
       "          var s = document.createElement('script');\n",
       "          document.getElementsByTagName(\"head\")[0].appendChild(s);\n",
       "          s.async = true;\n",
       "          s.onload = () => {\n",
       "            VEGA_DEBUG[key] = version;\n",
       "            return resolve(paths[lib]);\n",
       "          };\n",
       "          s.onerror = () => reject(`Error loading script: ${paths[lib]}`);\n",
       "          s.src = paths[lib];\n",
       "        });\n",
       "    }\n",
       "\n",
       "    function showError(err) {\n",
       "      outputDiv.innerHTML = `<div class=\"error\" style=\"color:red;\">${err}</div>`;\n",
       "      throw err;\n",
       "    }\n",
       "\n",
       "    function displayChart(vegaEmbed) {\n",
       "      vegaEmbed(outputDiv, spec, embedOpt)\n",
       "        .catch(err => showError(`Javascript Error: ${err.message}<br>This usually means there's a typo in your chart specification. See the javascript console for the full traceback.`));\n",
       "    }\n",
       "\n",
       "    if(typeof define === \"function\" && define.amd) {\n",
       "      requirejs.config({paths});\n",
       "      require([\"vega-embed\"], displayChart, err => showError(`Error loading script: ${err.message}`));\n",
       "    } else {\n",
       "      maybeLoadScript(\"vega\", \"5\")\n",
       "        .then(() => maybeLoadScript(\"vega-lite\", \"5.6.1\"))\n",
       "        .then(() => maybeLoadScript(\"vega-embed\", \"6\"))\n",
       "        .catch(showError)\n",
       "        .then(() => displayChart(vegaEmbed));\n",
       "    }\n",
       "  })({\"config\": {\"view\": {\"continuousWidth\": 300, \"continuousHeight\": 300}, \"axis\": {\"grid\": false, \"labelFontSize\": 13, \"titleFontSize\": 15}}, \"layer\": [{\"mark\": {\"type\": \"circle\", \"opacity\": 0.7, \"size\": 50}, \"encoding\": {\"color\": {\"field\": \"age_cohort\", \"scale\": {\"scheme\": \"set2\"}, \"type\": \"nominal\"}, \"detail\": {\"field\": \"serum\", \"type\": \"quantitative\"}, \"x\": {\"field\": \"age_cohort\", \"title\": \"age cohort\", \"type\": \"nominal\"}, \"xOffset\": {\"field\": \"jitter\", \"type\": \"quantitative\"}, \"y\": {\"field\": \"hill_coeff\", \"title\": \"mean Hill coefficient\", \"type\": \"quantitative\"}}, \"transform\": [{\"calculate\": \"sqrt(-2*log(random()))*cos(2*PI*random())\", \"as\": \"jitter\"}]}], \"data\": {\"name\": \"data-91782bd409afbc9383fa8acdffa82a50\"}, \"height\": 200, \"resolve\": {\"axis\": {\"x\": \"independent\"}}, \"width\": 500, \"$schema\": \"https://vega.github.io/schema/vega-lite/v5.6.1.json\", \"datasets\": {\"data-91782bd409afbc9383fa8acdffa82a50\": [{\"serum\": \"33C\", \"hill_coeff\": 2.012056331932291, \"max_site_escape\": 5.663973727853289, \"max_aa_escape\": 0.6582132029381925, \"age_cohort\": \"40-45\"}, {\"serum\": \"34C\", \"hill_coeff\": 1.9478731693001246, \"max_site_escape\": 16.37428918246697, \"max_aa_escape\": 1.3120215100365784, \"age_cohort\": \"40-45\"}, {\"serum\": \"197C\", \"hill_coeff\": 1.8244837550083866, \"max_site_escape\": 4.271290902860015, \"max_aa_escape\": 1.0382435802139485, \"age_cohort\": \"40-45\"}, {\"serum\": \"199C\", \"hill_coeff\": 1.8835142094489004, \"max_site_escape\": 3.376989741529335, \"max_aa_escape\": 0.72711855878163, \"age_cohort\": \"40-45\"}, {\"serum\": \"215C\", \"hill_coeff\": 2.6271349697845228, \"max_site_escape\": 8.24740808071241, \"max_aa_escape\": 1.2288782506872047, \"age_cohort\": \"40-45\"}, {\"serum\": \"210C\", \"hill_coeff\": 1.4816863042465305, \"max_site_escape\": 1.1525080927089602, \"max_aa_escape\": 0.6776554025396633, \"age_cohort\": \"40-45\"}, {\"serum\": \"74C\", \"hill_coeff\": 1.903457208386932, \"max_site_escape\": 0.9207632342872846, \"max_aa_escape\": 0.565539025573337, \"age_cohort\": \"40-45\"}, {\"serum\": \"68C\", \"hill_coeff\": 1.6314688379126598, \"max_site_escape\": 3.0170590773213157, \"max_aa_escape\": 0.8273882680441492, \"age_cohort\": \"40-45\"}, {\"serum\": \"150C\", \"hill_coeff\": 1.9569867822021918, \"max_site_escape\": 7.595831099937749, \"max_aa_escape\": 0.9075419325446817, \"age_cohort\": \"40-45\"}, {\"serum\": \"18C\", \"hill_coeff\": 1.7934904456028302, \"max_site_escape\": 3.9165258585139577, \"max_aa_escape\": 0.5514225303774727, \"age_cohort\": \"40-45\"}, {\"serum\": 2343, \"hill_coeff\": 1.9619110193610638, \"max_site_escape\": 1.9880595709721922, \"max_aa_escape\": 0.9530438369612411, \"age_cohort\": \"15-18\"}, {\"serum\": 2350, \"hill_coeff\": 2.4302290093430123, \"max_site_escape\": 9.373178080942713, \"max_aa_escape\": 0.9015452642988344, \"age_cohort\": \"15-18\"}, {\"serum\": 2365, \"hill_coeff\": 2.152361524467508, \"max_site_escape\": 5.995647204012289, \"max_aa_escape\": 0.7848597183994996, \"age_cohort\": \"15-18\"}, {\"serum\": 2382, \"hill_coeff\": 2.0353543498721374, \"max_site_escape\": 4.32407257596886, \"max_aa_escape\": 0.5660681474304787, \"age_cohort\": \"15-18\"}, {\"serum\": 3866, \"hill_coeff\": 2.0853625498561263, \"max_site_escape\": 11.980305825406713, \"max_aa_escape\": 0.9195494973113649, \"age_cohort\": \"15-18\"}, {\"serum\": 2380, \"hill_coeff\": 1.8872334110473827, \"max_site_escape\": 9.348103565577413, \"max_aa_escape\": 1.174862219714683, \"age_cohort\": \"15-18\"}, {\"serum\": 3856, \"hill_coeff\": 2.1186362677352677, \"max_site_escape\": 2.3046034941406592, \"max_aa_escape\": 1.5325576268721144, \"age_cohort\": \"15-18\"}, {\"serum\": 3857, \"hill_coeff\": 1.6733523683140872, \"max_site_escape\": 6.327108518484597, \"max_aa_escape\": 0.7521753058073861, \"age_cohort\": \"15-18\"}, {\"serum\": 3862, \"hill_coeff\": 1.7653103915972728, \"max_site_escape\": 2.707466658027108, \"max_aa_escape\": 1.1871402208880635, \"age_cohort\": \"15-18\"}, {\"serum\": 3895, \"hill_coeff\": 1.7617878105067608, \"max_site_escape\": 12.458534856024052, \"max_aa_escape\": 0.9844802757208926, \"age_cohort\": \"15-18\"}, {\"serum\": 2367, \"hill_coeff\": 1.5860703957444988, \"max_site_escape\": 24.02552817446545, \"max_aa_escape\": 1.921042093529895, \"age_cohort\": \"0-5\"}, {\"serum\": 3944, \"hill_coeff\": 2.2194213661820807, \"max_site_escape\": 9.692278029919176, \"max_aa_escape\": 0.9862444596603203, \"age_cohort\": \"0-5\"}, {\"serum\": 2462, \"hill_coeff\": 1.5482093395445677, \"max_site_escape\": 4.634968276444316, \"max_aa_escape\": 1.3306473624724713, \"age_cohort\": \"0-5\"}, {\"serum\": 2389, \"hill_coeff\": 2.4484730690336862, \"max_site_escape\": 5.066903548522758, \"max_aa_escape\": 1.0901066299564588, \"age_cohort\": \"0-5\"}, {\"serum\": 2323, \"hill_coeff\": 2.23443552066177, \"max_site_escape\": 9.902827557679947, \"max_aa_escape\": 0.8142389937476247, \"age_cohort\": \"0-5\"}, {\"serum\": 2388, \"hill_coeff\": 1.5825517514131666, \"max_site_escape\": 6.802119569001489, \"max_aa_escape\": 1.014294205500553, \"age_cohort\": \"0-5\"}, {\"serum\": 2463, \"hill_coeff\": 1.5819401648773972, \"max_site_escape\": 5.369824838080333, \"max_aa_escape\": 1.0036238807033437, \"age_cohort\": \"0-5\"}, {\"serum\": 3973, \"hill_coeff\": 1.5532757267643529, \"max_site_escape\": 1.8821844955911193, \"max_aa_escape\": 1.3412518353140686, \"age_cohort\": \"0-5\"}, {\"serum\": 4299, \"hill_coeff\": 1.4765494494286446, \"max_site_escape\": 1.8399518718672123, \"max_aa_escape\": 1.5782172134437829, \"age_cohort\": \"0-5\"}, {\"serum\": 4584, \"hill_coeff\": 1.558587453694409, \"max_site_escape\": 10.038901397771888, \"max_aa_escape\": 1.2656315057538534, \"age_cohort\": \"0-5\"}]}}, {\"mode\": \"vega-lite\"});\n",
       "</script>"
      ],
      "text/plain": [
       "alt.LayerChart(...)"
      ]
     },
     "execution_count": 10,
     "metadata": {},
     "output_type": "execute_result"
    }
   ],
   "source": [
    "hill_plot = (\n",
    "    alt.Chart()\n",
    "    .encode(\n",
    "        x=alt.X(\"age_cohort\", \n",
    "                title=\"age cohort\",\n",
    "               ),\n",
    "        y=alt.Y(\n",
    "            \"hill_coeff\",\n",
    "            title=\"mean Hill coefficient\",\n",
    "        ),\n",
    "        xOffset='jitter:Q',\n",
    "        color=alt.Color('age_cohort:N'\n",
    "                       ).scale(scheme='set2'),\n",
    "        detail='serum',\n",
    "    ).transform_calculate(jitter=\"sqrt(-2*log(random()))*cos(2*PI*random())\")\n",
    "    .mark_circle(size=50, opacity=0.7)\n",
    "    .properties(width=500, height=200)\n",
    "    # .mark_circle(opacity=0.7, size=20))\n",
    ")\n",
    "\n",
    "chart = alt.layer(\n",
    "    hill_plot, data=hill_df\n",
    ").configure_axis(\n",
    "    grid=False,\n",
    "    labelFontSize=13,\n",
    "    titleFontSize=15\n",
    ").resolve_axis(\n",
    "    x='independent'\n",
    ")\n",
    "\n",
    "chart"
   ]
  },
  {
   "cell_type": "code",
   "execution_count": 11,
   "id": "50d4b484-b913-4f53-834d-055dff22d5b5",
   "metadata": {
    "tags": []
   },
   "outputs": [
    {
     "data": {
      "text/html": [
       "\n",
       "<div id=\"altair-viz-211c289e56094c04a6176e20d8af788c\"></div>\n",
       "<script type=\"text/javascript\">\n",
       "  var VEGA_DEBUG = (typeof VEGA_DEBUG == \"undefined\") ? {} : VEGA_DEBUG;\n",
       "  (function(spec, embedOpt){\n",
       "    let outputDiv = document.currentScript.previousElementSibling;\n",
       "    if (outputDiv.id !== \"altair-viz-211c289e56094c04a6176e20d8af788c\") {\n",
       "      outputDiv = document.getElementById(\"altair-viz-211c289e56094c04a6176e20d8af788c\");\n",
       "    }\n",
       "    const paths = {\n",
       "      \"vega\": \"https://cdn.jsdelivr.net/npm/vega@5?noext\",\n",
       "      \"vega-lib\": \"https://cdn.jsdelivr.net/npm/vega-lib?noext\",\n",
       "      \"vega-lite\": \"https://cdn.jsdelivr.net/npm/vega-lite@5.6.1?noext\",\n",
       "      \"vega-embed\": \"https://cdn.jsdelivr.net/npm/vega-embed@6?noext\",\n",
       "    };\n",
       "\n",
       "    function maybeLoadScript(lib, version) {\n",
       "      var key = `${lib.replace(\"-\", \"\")}_version`;\n",
       "      return (VEGA_DEBUG[key] == version) ?\n",
       "        Promise.resolve(paths[lib]) :\n",
       "        new Promise(function(resolve, reject) {\n",
       "          var s = document.createElement('script');\n",
       "          document.getElementsByTagName(\"head\")[0].appendChild(s);\n",
       "          s.async = true;\n",
       "          s.onload = () => {\n",
       "            VEGA_DEBUG[key] = version;\n",
       "            return resolve(paths[lib]);\n",
       "          };\n",
       "          s.onerror = () => reject(`Error loading script: ${paths[lib]}`);\n",
       "          s.src = paths[lib];\n",
       "        });\n",
       "    }\n",
       "\n",
       "    function showError(err) {\n",
       "      outputDiv.innerHTML = `<div class=\"error\" style=\"color:red;\">${err}</div>`;\n",
       "      throw err;\n",
       "    }\n",
       "\n",
       "    function displayChart(vegaEmbed) {\n",
       "      vegaEmbed(outputDiv, spec, embedOpt)\n",
       "        .catch(err => showError(`Javascript Error: ${err.message}<br>This usually means there's a typo in your chart specification. See the javascript console for the full traceback.`));\n",
       "    }\n",
       "\n",
       "    if(typeof define === \"function\" && define.amd) {\n",
       "      requirejs.config({paths});\n",
       "      require([\"vega-embed\"], displayChart, err => showError(`Error loading script: ${err.message}`));\n",
       "    } else {\n",
       "      maybeLoadScript(\"vega\", \"5\")\n",
       "        .then(() => maybeLoadScript(\"vega-lite\", \"5.6.1\"))\n",
       "        .then(() => maybeLoadScript(\"vega-embed\", \"6\"))\n",
       "        .catch(showError)\n",
       "        .then(() => displayChart(vegaEmbed));\n",
       "    }\n",
       "  })({\"config\": {\"view\": {\"continuousWidth\": 300, \"continuousHeight\": 300}, \"axis\": {\"grid\": false, \"labelFontSize\": 13, \"titleFontSize\": 15}}, \"layer\": [{\"mark\": {\"type\": \"circle\", \"opacity\": 0.7, \"size\": 50}, \"encoding\": {\"color\": {\"field\": \"age_cohort\", \"scale\": {\"scheme\": \"set2\"}, \"type\": \"nominal\"}, \"detail\": {\"field\": \"serum\", \"type\": \"quantitative\"}, \"x\": {\"field\": \"hill_coeff\", \"scale\": {\"domain\": [1.2, 2.8]}, \"title\": \"hill coefficient\", \"type\": \"quantitative\"}, \"y\": {\"field\": \"max_site_escape\", \"title\": \"max summed site escape\", \"type\": \"quantitative\"}}}], \"data\": {\"name\": \"data-91782bd409afbc9383fa8acdffa82a50\"}, \"height\": 300, \"resolve\": {\"axis\": {\"x\": \"independent\"}}, \"width\": 300, \"$schema\": \"https://vega.github.io/schema/vega-lite/v5.6.1.json\", \"datasets\": {\"data-91782bd409afbc9383fa8acdffa82a50\": [{\"serum\": \"33C\", \"hill_coeff\": 2.012056331932291, \"max_site_escape\": 5.663973727853289, \"max_aa_escape\": 0.6582132029381925, \"age_cohort\": \"40-45\"}, {\"serum\": \"34C\", \"hill_coeff\": 1.9478731693001246, \"max_site_escape\": 16.37428918246697, \"max_aa_escape\": 1.3120215100365784, \"age_cohort\": \"40-45\"}, {\"serum\": \"197C\", \"hill_coeff\": 1.8244837550083866, \"max_site_escape\": 4.271290902860015, \"max_aa_escape\": 1.0382435802139485, \"age_cohort\": \"40-45\"}, {\"serum\": \"199C\", \"hill_coeff\": 1.8835142094489004, \"max_site_escape\": 3.376989741529335, \"max_aa_escape\": 0.72711855878163, \"age_cohort\": \"40-45\"}, {\"serum\": \"215C\", \"hill_coeff\": 2.6271349697845228, \"max_site_escape\": 8.24740808071241, \"max_aa_escape\": 1.2288782506872047, \"age_cohort\": \"40-45\"}, {\"serum\": \"210C\", \"hill_coeff\": 1.4816863042465305, \"max_site_escape\": 1.1525080927089602, \"max_aa_escape\": 0.6776554025396633, \"age_cohort\": \"40-45\"}, {\"serum\": \"74C\", \"hill_coeff\": 1.903457208386932, \"max_site_escape\": 0.9207632342872846, \"max_aa_escape\": 0.565539025573337, \"age_cohort\": \"40-45\"}, {\"serum\": \"68C\", \"hill_coeff\": 1.6314688379126598, \"max_site_escape\": 3.0170590773213157, \"max_aa_escape\": 0.8273882680441492, \"age_cohort\": \"40-45\"}, {\"serum\": \"150C\", \"hill_coeff\": 1.9569867822021918, \"max_site_escape\": 7.595831099937749, \"max_aa_escape\": 0.9075419325446817, \"age_cohort\": \"40-45\"}, {\"serum\": \"18C\", \"hill_coeff\": 1.7934904456028302, \"max_site_escape\": 3.9165258585139577, \"max_aa_escape\": 0.5514225303774727, \"age_cohort\": \"40-45\"}, {\"serum\": 2343, \"hill_coeff\": 1.9619110193610638, \"max_site_escape\": 1.9880595709721922, \"max_aa_escape\": 0.9530438369612411, \"age_cohort\": \"15-18\"}, {\"serum\": 2350, \"hill_coeff\": 2.4302290093430123, \"max_site_escape\": 9.373178080942713, \"max_aa_escape\": 0.9015452642988344, \"age_cohort\": \"15-18\"}, {\"serum\": 2365, \"hill_coeff\": 2.152361524467508, \"max_site_escape\": 5.995647204012289, \"max_aa_escape\": 0.7848597183994996, \"age_cohort\": \"15-18\"}, {\"serum\": 2382, \"hill_coeff\": 2.0353543498721374, \"max_site_escape\": 4.32407257596886, \"max_aa_escape\": 0.5660681474304787, \"age_cohort\": \"15-18\"}, {\"serum\": 3866, \"hill_coeff\": 2.0853625498561263, \"max_site_escape\": 11.980305825406713, \"max_aa_escape\": 0.9195494973113649, \"age_cohort\": \"15-18\"}, {\"serum\": 2380, \"hill_coeff\": 1.8872334110473827, \"max_site_escape\": 9.348103565577413, \"max_aa_escape\": 1.174862219714683, \"age_cohort\": \"15-18\"}, {\"serum\": 3856, \"hill_coeff\": 2.1186362677352677, \"max_site_escape\": 2.3046034941406592, \"max_aa_escape\": 1.5325576268721144, \"age_cohort\": \"15-18\"}, {\"serum\": 3857, \"hill_coeff\": 1.6733523683140872, \"max_site_escape\": 6.327108518484597, \"max_aa_escape\": 0.7521753058073861, \"age_cohort\": \"15-18\"}, {\"serum\": 3862, \"hill_coeff\": 1.7653103915972728, \"max_site_escape\": 2.707466658027108, \"max_aa_escape\": 1.1871402208880635, \"age_cohort\": \"15-18\"}, {\"serum\": 3895, \"hill_coeff\": 1.7617878105067608, \"max_site_escape\": 12.458534856024052, \"max_aa_escape\": 0.9844802757208926, \"age_cohort\": \"15-18\"}, {\"serum\": 2367, \"hill_coeff\": 1.5860703957444988, \"max_site_escape\": 24.02552817446545, \"max_aa_escape\": 1.921042093529895, \"age_cohort\": \"0-5\"}, {\"serum\": 3944, \"hill_coeff\": 2.2194213661820807, \"max_site_escape\": 9.692278029919176, \"max_aa_escape\": 0.9862444596603203, \"age_cohort\": \"0-5\"}, {\"serum\": 2462, \"hill_coeff\": 1.5482093395445677, \"max_site_escape\": 4.634968276444316, \"max_aa_escape\": 1.3306473624724713, \"age_cohort\": \"0-5\"}, {\"serum\": 2389, \"hill_coeff\": 2.4484730690336862, \"max_site_escape\": 5.066903548522758, \"max_aa_escape\": 1.0901066299564588, \"age_cohort\": \"0-5\"}, {\"serum\": 2323, \"hill_coeff\": 2.23443552066177, \"max_site_escape\": 9.902827557679947, \"max_aa_escape\": 0.8142389937476247, \"age_cohort\": \"0-5\"}, {\"serum\": 2388, \"hill_coeff\": 1.5825517514131666, \"max_site_escape\": 6.802119569001489, \"max_aa_escape\": 1.014294205500553, \"age_cohort\": \"0-5\"}, {\"serum\": 2463, \"hill_coeff\": 1.5819401648773972, \"max_site_escape\": 5.369824838080333, \"max_aa_escape\": 1.0036238807033437, \"age_cohort\": \"0-5\"}, {\"serum\": 3973, \"hill_coeff\": 1.5532757267643529, \"max_site_escape\": 1.8821844955911193, \"max_aa_escape\": 1.3412518353140686, \"age_cohort\": \"0-5\"}, {\"serum\": 4299, \"hill_coeff\": 1.4765494494286446, \"max_site_escape\": 1.8399518718672123, \"max_aa_escape\": 1.5782172134437829, \"age_cohort\": \"0-5\"}, {\"serum\": 4584, \"hill_coeff\": 1.558587453694409, \"max_site_escape\": 10.038901397771888, \"max_aa_escape\": 1.2656315057538534, \"age_cohort\": \"0-5\"}]}}, {\"mode\": \"vega-lite\"});\n",
       "</script>"
      ],
      "text/plain": [
       "alt.LayerChart(...)"
      ]
     },
     "execution_count": 11,
     "metadata": {},
     "output_type": "execute_result"
    }
   ],
   "source": [
    "hill_plot = (\n",
    "    alt.Chart()\n",
    "    .encode(\n",
    "        x=alt.X(\"hill_coeff\", \n",
    "                title=\"hill coefficient\",\n",
    "                scale=alt.Scale(domain=[1.2, 2.8])\n",
    "               ),\n",
    "        y=alt.Y(\n",
    "            \"max_site_escape\",\n",
    "            title=\"max summed site escape\",\n",
    "        ),\n",
    "        color=alt.Color('age_cohort:N'\n",
    "                       ).scale(scheme='set2'),\n",
    "        detail='serum',\n",
    "    )\n",
    "    .mark_circle(size=50, opacity=0.7)\n",
    "    .properties(width=300, height=300)\n",
    "    # .mark_circle(opacity=0.7, size=20))\n",
    ")\n",
    "\n",
    "chart = alt.layer(\n",
    "    hill_plot, data=hill_df\n",
    ").configure_axis(\n",
    "    grid=False,\n",
    "    labelFontSize=13,\n",
    "    titleFontSize=15\n",
    ").resolve_axis(\n",
    "    x='independent'\n",
    ")\n",
    "\n",
    "chart"
   ]
  },
  {
   "cell_type": "code",
   "execution_count": 32,
   "id": "f4e84692-2499-4de2-b8ab-5b6607578897",
   "metadata": {
    "tags": []
   },
   "outputs": [
    {
     "data": {
      "text/html": [
       "\n",
       "<div id=\"altair-viz-8890553d15f847b4ba5e63ee59dc87e1\"></div>\n",
       "<script type=\"text/javascript\">\n",
       "  var VEGA_DEBUG = (typeof VEGA_DEBUG == \"undefined\") ? {} : VEGA_DEBUG;\n",
       "  (function(spec, embedOpt){\n",
       "    let outputDiv = document.currentScript.previousElementSibling;\n",
       "    if (outputDiv.id !== \"altair-viz-8890553d15f847b4ba5e63ee59dc87e1\") {\n",
       "      outputDiv = document.getElementById(\"altair-viz-8890553d15f847b4ba5e63ee59dc87e1\");\n",
       "    }\n",
       "    const paths = {\n",
       "      \"vega\": \"https://cdn.jsdelivr.net/npm/vega@5?noext\",\n",
       "      \"vega-lib\": \"https://cdn.jsdelivr.net/npm/vega-lib?noext\",\n",
       "      \"vega-lite\": \"https://cdn.jsdelivr.net/npm/vega-lite@5.6.1?noext\",\n",
       "      \"vega-embed\": \"https://cdn.jsdelivr.net/npm/vega-embed@6?noext\",\n",
       "    };\n",
       "\n",
       "    function maybeLoadScript(lib, version) {\n",
       "      var key = `${lib.replace(\"-\", \"\")}_version`;\n",
       "      return (VEGA_DEBUG[key] == version) ?\n",
       "        Promise.resolve(paths[lib]) :\n",
       "        new Promise(function(resolve, reject) {\n",
       "          var s = document.createElement('script');\n",
       "          document.getElementsByTagName(\"head\")[0].appendChild(s);\n",
       "          s.async = true;\n",
       "          s.onload = () => {\n",
       "            VEGA_DEBUG[key] = version;\n",
       "            return resolve(paths[lib]);\n",
       "          };\n",
       "          s.onerror = () => reject(`Error loading script: ${paths[lib]}`);\n",
       "          s.src = paths[lib];\n",
       "        });\n",
       "    }\n",
       "\n",
       "    function showError(err) {\n",
       "      outputDiv.innerHTML = `<div class=\"error\" style=\"color:red;\">${err}</div>`;\n",
       "      throw err;\n",
       "    }\n",
       "\n",
       "    function displayChart(vegaEmbed) {\n",
       "      vegaEmbed(outputDiv, spec, embedOpt)\n",
       "        .catch(err => showError(`Javascript Error: ${err.message}<br>This usually means there's a typo in your chart specification. See the javascript console for the full traceback.`));\n",
       "    }\n",
       "\n",
       "    if(typeof define === \"function\" && define.amd) {\n",
       "      requirejs.config({paths});\n",
       "      require([\"vega-embed\"], displayChart, err => showError(`Error loading script: ${err.message}`));\n",
       "    } else {\n",
       "      maybeLoadScript(\"vega\", \"5\")\n",
       "        .then(() => maybeLoadScript(\"vega-lite\", \"5.6.1\"))\n",
       "        .then(() => maybeLoadScript(\"vega-embed\", \"6\"))\n",
       "        .catch(showError)\n",
       "        .then(() => displayChart(vegaEmbed));\n",
       "    }\n",
       "  })({\"config\": {\"view\": {\"continuousWidth\": 300, \"continuousHeight\": 300}, \"axis\": {\"grid\": false, \"labelFontSize\": 13, \"titleFontSize\": 15}}, \"layer\": [{\"mark\": {\"type\": \"circle\", \"opacity\": 0.7, \"size\": 50}, \"encoding\": {\"color\": {\"field\": \"age_cohort\", \"scale\": {\"scheme\": \"set2\"}, \"type\": \"nominal\"}, \"detail\": {\"field\": \"serum\", \"type\": \"quantitative\"}, \"x\": {\"field\": \"hill_coeff\", \"scale\": {\"domain\": [1.2, 2.8]}, \"title\": \"hill coefficient\", \"type\": \"quantitative\"}, \"y\": {\"field\": \"max_aa_escape\", \"title\": \"max AA escape\", \"type\": \"quantitative\"}}}], \"data\": {\"name\": \"data-5738fc1cb81f107a89c638a0ee03fac4\"}, \"height\": 300, \"resolve\": {\"axis\": {\"x\": \"independent\"}}, \"width\": 300, \"$schema\": \"https://vega.github.io/schema/vega-lite/v5.6.1.json\", \"datasets\": {\"data-5738fc1cb81f107a89c638a0ee03fac4\": [{\"index\": 0, \"serum\": \"33C\", \"hill_coeff\": 2.012056331932291, \"max_site_escape\": 5.663973727853289, \"max_aa_escape\": 0.6582132029381925, \"age_cohort\": \"40-45\"}, {\"index\": 1, \"serum\": \"34C\", \"hill_coeff\": 1.9478731693001246, \"max_site_escape\": 16.37428918246697, \"max_aa_escape\": 1.3120215100365784, \"age_cohort\": \"40-45\"}, {\"index\": 2, \"serum\": \"197C\", \"hill_coeff\": 1.8244837550083866, \"max_site_escape\": 4.271290902860015, \"max_aa_escape\": 1.0382435802139485, \"age_cohort\": \"40-45\"}, {\"index\": 3, \"serum\": \"199C\", \"hill_coeff\": 1.8835142094489004, \"max_site_escape\": 3.376989741529335, \"max_aa_escape\": 0.72711855878163, \"age_cohort\": \"40-45\"}, {\"index\": 4, \"serum\": \"215C\", \"hill_coeff\": 2.6271349697845228, \"max_site_escape\": 8.24740808071241, \"max_aa_escape\": 1.2288782506872047, \"age_cohort\": \"40-45\"}, {\"index\": 5, \"serum\": \"210C\", \"hill_coeff\": 1.4816863042465305, \"max_site_escape\": 1.1525080927089602, \"max_aa_escape\": 0.6776554025396633, \"age_cohort\": \"40-45\"}, {\"index\": 6, \"serum\": \"74C\", \"hill_coeff\": 1.903457208386932, \"max_site_escape\": 0.9207632342872846, \"max_aa_escape\": 0.565539025573337, \"age_cohort\": \"40-45\"}, {\"index\": 7, \"serum\": \"68C\", \"hill_coeff\": 1.6314688379126598, \"max_site_escape\": 3.0170590773213157, \"max_aa_escape\": 0.8273882680441492, \"age_cohort\": \"40-45\"}, {\"index\": 8, \"serum\": \"150C\", \"hill_coeff\": 1.9569867822021918, \"max_site_escape\": 7.595831099937749, \"max_aa_escape\": 0.9075419325446817, \"age_cohort\": \"40-45\"}, {\"index\": 9, \"serum\": \"18C\", \"hill_coeff\": 1.7934904456028302, \"max_site_escape\": 3.9165258585139577, \"max_aa_escape\": 0.5514225303774727, \"age_cohort\": \"40-45\"}, {\"index\": 0, \"serum\": 2343, \"hill_coeff\": 1.9619110193610638, \"max_site_escape\": 1.9880595709721922, \"max_aa_escape\": 0.9530438369612411, \"age_cohort\": \"15-18\"}, {\"index\": 1, \"serum\": 2350, \"hill_coeff\": 2.4302290093430123, \"max_site_escape\": 9.373178080942713, \"max_aa_escape\": 0.9015452642988344, \"age_cohort\": \"15-18\"}, {\"index\": 2, \"serum\": 2365, \"hill_coeff\": 2.152361524467508, \"max_site_escape\": 5.995647204012289, \"max_aa_escape\": 0.7848597183994996, \"age_cohort\": \"15-18\"}, {\"index\": 3, \"serum\": 2382, \"hill_coeff\": 2.0353543498721374, \"max_site_escape\": 4.32407257596886, \"max_aa_escape\": 0.5660681474304787, \"age_cohort\": \"15-18\"}, {\"index\": 4, \"serum\": 3866, \"hill_coeff\": 2.0853625498561263, \"max_site_escape\": 11.980305825406713, \"max_aa_escape\": 0.9195494973113649, \"age_cohort\": \"15-18\"}, {\"index\": 5, \"serum\": 2380, \"hill_coeff\": 1.8872334110473827, \"max_site_escape\": 9.348103565577413, \"max_aa_escape\": 1.174862219714683, \"age_cohort\": \"15-18\"}, {\"index\": 6, \"serum\": 3856, \"hill_coeff\": 2.1186362677352677, \"max_site_escape\": 2.3046034941406592, \"max_aa_escape\": 1.5325576268721144, \"age_cohort\": \"15-18\"}, {\"index\": 7, \"serum\": 3857, \"hill_coeff\": 1.6733523683140872, \"max_site_escape\": 6.327108518484597, \"max_aa_escape\": 0.7521753058073861, \"age_cohort\": \"15-18\"}, {\"index\": 8, \"serum\": 3862, \"hill_coeff\": 1.7653103915972728, \"max_site_escape\": 2.707466658027108, \"max_aa_escape\": 1.1871402208880635, \"age_cohort\": \"15-18\"}, {\"index\": 9, \"serum\": 3895, \"hill_coeff\": 1.7617878105067608, \"max_site_escape\": 12.458534856024052, \"max_aa_escape\": 0.9844802757208926, \"age_cohort\": \"15-18\"}, {\"index\": 0, \"serum\": 2367, \"hill_coeff\": 1.5860703957444988, \"max_site_escape\": 24.02552817446545, \"max_aa_escape\": 1.921042093529895, \"age_cohort\": \"0-5\"}, {\"index\": 1, \"serum\": 3944, \"hill_coeff\": 2.2194213661820807, \"max_site_escape\": 9.692278029919176, \"max_aa_escape\": 0.9862444596603203, \"age_cohort\": \"0-5\"}, {\"index\": 2, \"serum\": 2462, \"hill_coeff\": 1.5482093395445677, \"max_site_escape\": 4.634968276444316, \"max_aa_escape\": 1.3306473624724713, \"age_cohort\": \"0-5\"}, {\"index\": 3, \"serum\": 2389, \"hill_coeff\": 2.4484730690336862, \"max_site_escape\": 5.066903548522758, \"max_aa_escape\": 1.0901066299564588, \"age_cohort\": \"0-5\"}, {\"index\": 4, \"serum\": 2323, \"hill_coeff\": 2.23443552066177, \"max_site_escape\": 9.902827557679947, \"max_aa_escape\": 0.8142389937476247, \"age_cohort\": \"0-5\"}, {\"index\": 5, \"serum\": 2388, \"hill_coeff\": 1.5825517514131666, \"max_site_escape\": 6.802119569001489, \"max_aa_escape\": 1.014294205500553, \"age_cohort\": \"0-5\"}, {\"index\": 6, \"serum\": 2463, \"hill_coeff\": 1.5819401648773972, \"max_site_escape\": 5.369824838080333, \"max_aa_escape\": 1.0036238807033437, \"age_cohort\": \"0-5\"}, {\"index\": 7, \"serum\": 3973, \"hill_coeff\": 1.5532757267643529, \"max_site_escape\": 1.8821844955911193, \"max_aa_escape\": 1.3412518353140686, \"age_cohort\": \"0-5\"}, {\"index\": 8, \"serum\": 4299, \"hill_coeff\": 1.4765494494286446, \"max_site_escape\": 1.8399518718672123, \"max_aa_escape\": 1.5782172134437829, \"age_cohort\": \"0-5\"}, {\"index\": 9, \"serum\": 4584, \"hill_coeff\": 1.558587453694409, \"max_site_escape\": 10.038901397771888, \"max_aa_escape\": 1.2656315057538534, \"age_cohort\": \"0-5\"}]}}, {\"mode\": \"vega-lite\"});\n",
       "</script>"
      ],
      "text/plain": [
       "alt.LayerChart(...)"
      ]
     },
     "execution_count": 32,
     "metadata": {},
     "output_type": "execute_result"
    }
   ],
   "source": [
    "hill_plot = (\n",
    "    alt.Chart()\n",
    "    .encode(\n",
    "        x=alt.X(\"hill_coeff\", \n",
    "                title=\"hill coefficient\",\n",
    "                scale=alt.Scale(domain=[1.2, 2.8])\n",
    "               ),\n",
    "        y=alt.Y(\n",
    "            \"max_aa_escape\",\n",
    "            title=\"max AA escape\",\n",
    "        ),\n",
    "        color=alt.Color('age_cohort:N'\n",
    "                       ).scale(scheme='set2'),\n",
    "        detail='serum',\n",
    "    )\n",
    "    .mark_circle(size=50, opacity=0.7)\n",
    "    .properties(width=300, height=300)\n",
    "    # .mark_circle(opacity=0.7, size=20))\n",
    ")\n",
    "\n",
    "chart = alt.layer(\n",
    "    hill_plot, data=hill_df\n",
    ").configure_axis(\n",
    "    grid=False,\n",
    "    labelFontSize=13,\n",
    "    titleFontSize=15\n",
    ").resolve_axis(\n",
    "    x='independent'\n",
    ")\n",
    "\n",
    "chart"
   ]
  },
  {
   "cell_type": "code",
   "execution_count": 34,
   "id": "0a03ef45-9088-4818-ad93-d52bbc3457a0",
   "metadata": {
    "tags": []
   },
   "outputs": [
    {
     "name": "stdout",
     "output_type": "stream",
     "text": [
      "min Hill coefficient: 1.48\n",
      "max Hill coefficient: 2.63\n"
     ]
    }
   ],
   "source": [
    "hill_min = hill_df.loc[hill_df['hill_coeff'].idxmin()]['hill_coeff']\n",
    "\n",
    "hill_max = hill_df.loc[hill_df['hill_coeff'].idxmax()]['hill_coeff']\n",
    "\n",
    "print(f'min Hill coefficient: {hill_min.round(2)}\\nmax Hill coefficient: {hill_max.round(2)}')"
   ]
  }
 ],
 "metadata": {
  "kernelspec": {
   "display_name": "Python 3 (ipykernel)",
   "language": "python",
   "name": "python3"
  },
  "language_info": {
   "codemirror_mode": {
    "name": "ipython",
    "version": 3
   },
   "file_extension": ".py",
   "mimetype": "text/x-python",
   "name": "python",
   "nbconvert_exporter": "python",
   "pygments_lexer": "ipython3",
   "version": "3.11.0"
  }
 },
 "nbformat": 4,
 "nbformat_minor": 5
}
