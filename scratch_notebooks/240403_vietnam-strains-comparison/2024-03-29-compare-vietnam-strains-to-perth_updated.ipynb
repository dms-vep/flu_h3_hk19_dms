{
 "cells": [
  {
   "cell_type": "code",
   "execution_count": 1,
   "id": "f2ea9537-41de-4fbd-8a2e-573138c243d8",
   "metadata": {
    "tags": []
   },
   "outputs": [],
   "source": [
    "from matplotlib import pyplot as plt\n",
    "import numpy as np\n",
    "import pandas as pd\n",
    "import seaborn as sns"
   ]
  },
  {
   "cell_type": "code",
   "execution_count": 2,
   "id": "7dbb05c9-e32f-460b-8131-325d6805c0d7",
   "metadata": {
    "tags": []
   },
   "outputs": [],
   "source": [
    "df = pd.read_csv(\"samples_2009-2011.tsv\", sep=\"\\t\")"
   ]
  },
  {
   "cell_type": "code",
   "execution_count": 3,
   "id": "d9546c58-3508-4dcc-bc63-6c7bddeaeabd",
   "metadata": {
    "tags": []
   },
   "outputs": [
    {
     "data": {
      "text/html": [
       "<div>\n",
       "<style scoped>\n",
       "    .dataframe tbody tr th:only-of-type {\n",
       "        vertical-align: middle;\n",
       "    }\n",
       "\n",
       "    .dataframe tbody tr th {\n",
       "        vertical-align: top;\n",
       "    }\n",
       "\n",
       "    .dataframe thead th {\n",
       "        text-align: right;\n",
       "    }\n",
       "</style>\n",
       "<table border=\"1\" class=\"dataframe\">\n",
       "  <thead>\n",
       "    <tr style=\"text-align: right;\">\n",
       "      <th></th>\n",
       "      <th>strain</th>\n",
       "      <th>country</th>\n",
       "      <th>date</th>\n",
       "      <th>passage_category</th>\n",
       "      <th>aaSubstitutions</th>\n",
       "    </tr>\n",
       "  </thead>\n",
       "  <tbody>\n",
       "    <tr>\n",
       "      <th>0</th>\n",
       "      <td>A/Perth/16/2009</td>\n",
       "      <td>Australia</td>\n",
       "      <td>2009-04-07</td>\n",
       "      <td>cell</td>\n",
       "      <td>HA1:I3L,HA1:R33Q,HA1:N45S,HA1:I48T,HA1:G53D,HA...</td>\n",
       "    </tr>\n",
       "    <tr>\n",
       "      <th>1</th>\n",
       "      <td>A/California/VRDL173/2009</td>\n",
       "      <td>Usa</td>\n",
       "      <td>2009-04-28</td>\n",
       "      <td>unpassaged</td>\n",
       "      <td>HA1:I3L,HA1:R33Q,HA1:N45S,HA1:I48T,HA1:G53D,HA...</td>\n",
       "    </tr>\n",
       "    <tr>\n",
       "      <th>2</th>\n",
       "      <td>A/Illinois/1/2010</td>\n",
       "      <td>Usa</td>\n",
       "      <td>2010-12-24</td>\n",
       "      <td>cell</td>\n",
       "      <td>HA1:I3L,HA1:R33Q,HA1:N45S,HA1:I48T,HA1:G53N,HA...</td>\n",
       "    </tr>\n",
       "    <tr>\n",
       "      <th>3</th>\n",
       "      <td>A/California/23/2011</td>\n",
       "      <td>Usa</td>\n",
       "      <td>2011-07-31</td>\n",
       "      <td>cell</td>\n",
       "      <td>HA1:I3L,HA1:R33Q,HA1:G53D,HA1:G62E,HA1:E83K,HA...</td>\n",
       "    </tr>\n",
       "    <tr>\n",
       "      <th>4</th>\n",
       "      <td>A/California/VRDL391/2009</td>\n",
       "      <td>Usa</td>\n",
       "      <td>2009-04-28</td>\n",
       "      <td>unpassaged</td>\n",
       "      <td>HA1:I3L,HA1:R33Q,HA1:N45S,HA1:I48T,HA1:G53D,HA...</td>\n",
       "    </tr>\n",
       "  </tbody>\n",
       "</table>\n",
       "</div>"
      ],
      "text/plain": [
       "                      strain    country        date passage_category  \\\n",
       "0            A/Perth/16/2009  Australia  2009-04-07             cell   \n",
       "1  A/California/VRDL173/2009        Usa  2009-04-28       unpassaged   \n",
       "2          A/Illinois/1/2010        Usa  2010-12-24             cell   \n",
       "3       A/California/23/2011        Usa  2011-07-31             cell   \n",
       "4  A/California/VRDL391/2009        Usa  2009-04-28       unpassaged   \n",
       "\n",
       "                                     aaSubstitutions  \n",
       "0  HA1:I3L,HA1:R33Q,HA1:N45S,HA1:I48T,HA1:G53D,HA...  \n",
       "1  HA1:I3L,HA1:R33Q,HA1:N45S,HA1:I48T,HA1:G53D,HA...  \n",
       "2  HA1:I3L,HA1:R33Q,HA1:N45S,HA1:I48T,HA1:G53N,HA...  \n",
       "3  HA1:I3L,HA1:R33Q,HA1:G53D,HA1:G62E,HA1:E83K,HA...  \n",
       "4  HA1:I3L,HA1:R33Q,HA1:N45S,HA1:I48T,HA1:G53D,HA...  "
      ]
     },
     "execution_count": 3,
     "metadata": {},
     "output_type": "execute_result"
    }
   ],
   "source": [
    "df.head()"
   ]
  },
  {
   "cell_type": "code",
   "execution_count": 4,
   "id": "c2b70fb9-69ce-4ebe-9257-8f788a67a09d",
   "metadata": {
    "tags": []
   },
   "outputs": [],
   "source": [
    "df[\"year\"] = df[\"date\"].apply(lambda date: int(date.split(\"-\")[0]))"
   ]
  },
  {
   "cell_type": "code",
   "execution_count": 5,
   "id": "c6ed99c1-1611-46d5-b972-9c67937b4009",
   "metadata": {
    "tags": []
   },
   "outputs": [
    {
     "data": {
      "text/html": [
       "<div>\n",
       "<style scoped>\n",
       "    .dataframe tbody tr th:only-of-type {\n",
       "        vertical-align: middle;\n",
       "    }\n",
       "\n",
       "    .dataframe tbody tr th {\n",
       "        vertical-align: top;\n",
       "    }\n",
       "\n",
       "    .dataframe thead th {\n",
       "        text-align: right;\n",
       "    }\n",
       "</style>\n",
       "<table border=\"1\" class=\"dataframe\">\n",
       "  <thead>\n",
       "    <tr style=\"text-align: right;\">\n",
       "      <th></th>\n",
       "      <th>strain</th>\n",
       "      <th>country</th>\n",
       "      <th>date</th>\n",
       "      <th>passage_category</th>\n",
       "      <th>aaSubstitutions</th>\n",
       "      <th>year</th>\n",
       "    </tr>\n",
       "  </thead>\n",
       "  <tbody>\n",
       "    <tr>\n",
       "      <th>161</th>\n",
       "      <td>A/Vietnam/941/2009</td>\n",
       "      <td>Vietnam</td>\n",
       "      <td>2009-05-25</td>\n",
       "      <td>cell</td>\n",
       "      <td>HA1:I3L,HA1:R33Q,HA1:N45S,HA1:I48T,HA1:G53D,HA...</td>\n",
       "      <td>2009</td>\n",
       "    </tr>\n",
       "    <tr>\n",
       "      <th>162</th>\n",
       "      <td>A/Vietnam/HN31812/2009</td>\n",
       "      <td>Vietnam</td>\n",
       "      <td>2009-06-16</td>\n",
       "      <td>undetermined</td>\n",
       "      <td>HA1:I3L,HA1:R33Q,HA1:N45S,HA1:I48T,HA1:G53D,HA...</td>\n",
       "      <td>2009</td>\n",
       "    </tr>\n",
       "    <tr>\n",
       "      <th>163</th>\n",
       "      <td>A/Vietnam/HN31959/2009</td>\n",
       "      <td>Vietnam</td>\n",
       "      <td>2009-07-07</td>\n",
       "      <td>undetermined</td>\n",
       "      <td>HA1:I3L,HA1:R33Q,HA1:N45S,HA1:I48T,HA1:G53D,HA...</td>\n",
       "      <td>2009</td>\n",
       "    </tr>\n",
       "    <tr>\n",
       "      <th>164</th>\n",
       "      <td>A/HoChiMinh/6268/2010</td>\n",
       "      <td>Vietnam</td>\n",
       "      <td>2010-08-10</td>\n",
       "      <td>unpassaged</td>\n",
       "      <td>HA1:I3L,HA1:R33Q,HA1:N45S,HA1:I48T,HA1:G53N,HA...</td>\n",
       "      <td>2010</td>\n",
       "    </tr>\n",
       "    <tr>\n",
       "      <th>165</th>\n",
       "      <td>A/Vietnam/N199/2009</td>\n",
       "      <td>Vietnam</td>\n",
       "      <td>2009-05-22</td>\n",
       "      <td>cell</td>\n",
       "      <td>HA1:I3L,HA1:R33Q,HA1:N45S,HA1:I48T,HA1:G53D,HA...</td>\n",
       "      <td>2009</td>\n",
       "    </tr>\n",
       "  </tbody>\n",
       "</table>\n",
       "</div>"
      ],
      "text/plain": [
       "                     strain  country        date passage_category  \\\n",
       "161      A/Vietnam/941/2009  Vietnam  2009-05-25             cell   \n",
       "162  A/Vietnam/HN31812/2009  Vietnam  2009-06-16     undetermined   \n",
       "163  A/Vietnam/HN31959/2009  Vietnam  2009-07-07     undetermined   \n",
       "164   A/HoChiMinh/6268/2010  Vietnam  2010-08-10       unpassaged   \n",
       "165     A/Vietnam/N199/2009  Vietnam  2009-05-22             cell   \n",
       "\n",
       "                                       aaSubstitutions  year  \n",
       "161  HA1:I3L,HA1:R33Q,HA1:N45S,HA1:I48T,HA1:G53D,HA...  2009  \n",
       "162  HA1:I3L,HA1:R33Q,HA1:N45S,HA1:I48T,HA1:G53D,HA...  2009  \n",
       "163  HA1:I3L,HA1:R33Q,HA1:N45S,HA1:I48T,HA1:G53D,HA...  2009  \n",
       "164  HA1:I3L,HA1:R33Q,HA1:N45S,HA1:I48T,HA1:G53N,HA...  2010  \n",
       "165  HA1:I3L,HA1:R33Q,HA1:N45S,HA1:I48T,HA1:G53D,HA...  2009  "
      ]
     },
     "execution_count": 5,
     "metadata": {},
     "output_type": "execute_result"
    }
   ],
   "source": [
    "df.tail()"
   ]
  },
  {
   "cell_type": "code",
   "execution_count": 6,
   "id": "e39c6992-a0f7-41df-8855-20eecca815eb",
   "metadata": {
    "tags": []
   },
   "outputs": [],
   "source": [
    "# filter to just HA1 substitutions\n",
    "df['aaSubstitutions'] = df['aaSubstitutions'].apply(lambda x: ','.join([item for item in x.split(',') if 'HA1' in item]))"
   ]
  },
  {
   "cell_type": "code",
   "execution_count": 7,
   "id": "b41a5d39-0f02-4b08-9e89-36df10c12ce2",
   "metadata": {
    "tags": []
   },
   "outputs": [],
   "source": [
    "perth_subs = set(df.loc[df[\"strain\"] == \"A/Perth/16/2009\", \"aaSubstitutions\"].values[0].split(\",\"))"
   ]
  },
  {
   "cell_type": "code",
   "execution_count": 8,
   "id": "2b2ed3fd-d61b-431f-80e7-1b6f0d12acd1",
   "metadata": {
    "tags": []
   },
   "outputs": [
    {
     "data": {
      "text/plain": [
       "30"
      ]
     },
     "execution_count": 8,
     "metadata": {},
     "output_type": "execute_result"
    }
   ],
   "source": [
    "len(perth_subs)"
   ]
  },
  {
   "cell_type": "code",
   "execution_count": 9,
   "id": "8fd90b6d-5788-45dd-a9be-4fa823cfa759",
   "metadata": {
    "tags": []
   },
   "outputs": [
    {
     "data": {
      "text/plain": [
       "{'HA1:A212T',\n",
       " 'HA1:D186G',\n",
       " 'HA1:D225N',\n",
       " 'HA1:E83K',\n",
       " 'HA1:F195Y',\n",
       " 'HA1:G142R',\n",
       " 'HA1:G53D',\n",
       " 'HA1:G62K',\n",
       " 'HA1:I160K',\n",
       " 'HA1:I214S',\n",
       " 'HA1:I223V',\n",
       " 'HA1:I3L',\n",
       " 'HA1:I48T',\n",
       " 'HA1:K121N',\n",
       " 'HA1:K131T',\n",
       " 'HA1:K171N',\n",
       " 'HA1:K278N',\n",
       " 'HA1:N159F',\n",
       " 'HA1:N190D',\n",
       " 'HA1:N45S',\n",
       " 'HA1:N94Y',\n",
       " 'HA1:Q164L',\n",
       " 'HA1:R33Q',\n",
       " 'HA1:R92K',\n",
       " 'HA1:S144K',\n",
       " 'HA1:S145N',\n",
       " 'HA1:S156H',\n",
       " 'HA1:S193F',\n",
       " 'HA1:S198A',\n",
       " 'HA1:S312N'}"
      ]
     },
     "execution_count": 9,
     "metadata": {},
     "output_type": "execute_result"
    }
   ],
   "source": [
    "perth_subs"
   ]
  },
  {
   "cell_type": "markdown",
   "id": "bc3251e6-215c-409a-9635-4cffdea05292",
   "metadata": {},
   "source": [
    "Count the number of AA substitutions that only occur in each strain (not in Perth) or only occur in Perth (not in the current strain). This number is the AA distance between each strain and Perth."
   ]
  },
  {
   "cell_type": "code",
   "execution_count": 10,
   "id": "f7c1afe5-e308-4e46-8088-3fac0a9b6819",
   "metadata": {
    "tags": []
   },
   "outputs": [],
   "source": [
    "df[\"aa_distance_to_perth\"] = df[\"aaSubstitutions\"].apply(\n",
    "    lambda subs: len(set(subs.split(\",\")) - perth_subs) + len(perth_subs - set(subs.split(\",\")))\n",
    ")\n",
    "\n",
    "df = df[df['country'] != 'Usa']"
   ]
  },
  {
   "cell_type": "code",
   "execution_count": 11,
   "id": "b62519ee-a09e-4caf-966c-e55e8ad1c224",
   "metadata": {
    "tags": []
   },
   "outputs": [
    {
     "data": {
      "image/png": "[encoded data removed]",
      "text/plain": [
       "<Figure size 720x720 with 1 Axes>"
      ]
     },
     "metadata": {},
     "output_type": "display_data"
    }
   ],
   "source": [
    "fig, ax = plt.subplots(1, 1, figsize=(6, 6), dpi=120)\n",
    "ax = sns.boxplot(\n",
    "    data=df,\n",
    "    x=\"country\",\n",
    "    y=\"aa_distance_to_perth\",\n",
    "    ax=ax,\n",
    "    fliersize=0,\n",
    "    # fill=None,\n",
    ")\n",
    "ax = sns.stripplot(\n",
    "    data=df,\n",
    "    x=\"country\",\n",
    "    y=\"aa_distance_to_perth\",\n",
    "    ax=ax,\n",
    "    alpha=0.5,\n",
    "    color=\"#999999\",\n",
    ")\n",
    "\n",
    "ax.set_xlabel(\"Country\")\n",
    "ax.set_ylabel(\"HA1 AA distance to A/Perth/16/2009\")\n",
    "\n",
    "sns.despine()\n",
    "plt.tight_layout()\n",
    "plt.savefig(\"aa_distance_ha1.png\", dpi=300)"
   ]
  },
  {
   "cell_type": "code",
   "execution_count": 12,
   "id": "cb95e226-fe70-4a93-8e7c-92d27be92632",
   "metadata": {
    "tags": []
   },
   "outputs": [
    {
     "data": {
      "text/plain": [
       "country\n",
       "Australia    10.071429\n",
       "Vietnam      11.054545\n",
       "Name: aa_distance_to_perth, dtype: float64"
      ]
     },
     "execution_count": 12,
     "metadata": {},
     "output_type": "execute_result"
    }
   ],
   "source": [
    "df.groupby(\"country\")[\"aa_distance_to_perth\"].mean()"
   ]
  },
  {
   "cell_type": "code",
   "execution_count": 13,
   "id": "47205e8d-4066-4494-a8bc-8b029307a0de",
   "metadata": {
    "tags": []
   },
   "outputs": [
    {
     "data": {
      "text/plain": [
       "country\n",
       "Australia    11.0\n",
       "Vietnam      13.0\n",
       "Name: aa_distance_to_perth, dtype: float64"
      ]
     },
     "execution_count": 13,
     "metadata": {},
     "output_type": "execute_result"
    }
   ],
   "source": [
    "df.groupby(\"country\")[\"aa_distance_to_perth\"].median()"
   ]
  },
  {
   "cell_type": "code",
   "execution_count": 14,
   "id": "ab13269c-7575-4f11-86f7-f102b7d90c0d",
   "metadata": {
    "tags": []
   },
   "outputs": [
    {
     "data": {
      "text/plain": [
       "country\n",
       "Australia    4.168528\n",
       "Vietnam      5.236687\n",
       "Name: aa_distance_to_perth, dtype: float64"
      ]
     },
     "execution_count": 14,
     "metadata": {},
     "output_type": "execute_result"
    }
   ],
   "source": [
    "df.groupby(\"country\")[\"aa_distance_to_perth\"].std()"
   ]
  },
  {
   "cell_type": "code",
   "execution_count": 15,
   "id": "aff880d8-3022-4908-9168-35c3c09f43aa",
   "metadata": {
    "tags": []
   },
   "outputs": [
    {
     "data": {
      "text/plain": [
       "country\n",
       "Australia    0\n",
       "Vietnam      3\n",
       "Name: aa_distance_to_perth, dtype: int64"
      ]
     },
     "execution_count": 15,
     "metadata": {},
     "output_type": "execute_result"
    }
   ],
   "source": [
    "df.groupby(\"country\")[\"aa_distance_to_perth\"].min()"
   ]
  },
  {
   "cell_type": "code",
   "execution_count": null,
   "id": "c6eda669-5109-4f17-afe1-11646f47be29",
   "metadata": {},
   "outputs": [],
   "source": []
  }
 ],
 "metadata": {
  "kernelspec": {
   "display_name": "Python 3 (ipykernel)",
   "language": "python",
   "name": "python3"
  },
  "language_info": {
   "codemirror_mode": {
    "name": "ipython",
    "version": 3
   },
   "file_extension": ".py",
   "mimetype": "text/x-python",
   "name": "python",
   "nbconvert_exporter": "python",
   "pygments_lexer": "ipython3",
   "version": "3.11.3"
  }
 },
 "nbformat": 4,
 "nbformat_minor": 5
}
