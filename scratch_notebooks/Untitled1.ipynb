{
 "cells": [
  {
   "cell_type": "code",
   "execution_count": 5,
   "id": "81cdb925",
   "metadata": {},
   "outputs": [],
   "source": [
    "import pandas as pd"
   ]
  },
  {
   "cell_type": "code",
   "execution_count": 2,
   "id": "9bbbeff2",
   "metadata": {},
   "outputs": [],
   "source": [
    "import os\n",
    "os.chdir('../')"
   ]
  },
  {
   "cell_type": "code",
   "execution_count": 30,
   "id": "b722c64e",
   "metadata": {},
   "outputs": [],
   "source": [
    "samples = [\n",
    "    'libA_221108_1_no-VEP_control_1.csv',\n",
    "    'libA_221108_1_no-VEP_control_2.csv',\n",
    "    'libB_221108_1_no-VEP_control_1.csv',\n",
    "    'libB_221108_1_no-VEP_control_2.csv'\n",
    "]"
   ]
  },
  {
   "cell_type": "code",
   "execution_count": 31,
   "id": "e8368d60",
   "metadata": {},
   "outputs": [
    {
     "data": {
      "text/plain": [
       "[0.0005385600423053528,\n",
       " 0.0005953449731608932,\n",
       " 0.00036544829992046123,\n",
       " 0.0003768101827210416]"
      ]
     },
     "execution_count": 31,
     "metadata": {},
     "output_type": "execute_result"
    }
   ],
   "source": [
    "neut_std_barcodes = pd.read_csv('data/neutralization_standard_barcodes.csv')\n",
    "neut_std_barcodes = neut_std_barcodes['barcode'].to_list()\n",
    "\n",
    "neut_std_fracs = []\n",
    "\n",
    "for sample in samples:\n",
    "    df = pd.read_csv(f'results/variant_counts/{sample}')\n",
    "    total_counts = df['count'].sum()\n",
    "    \n",
    "    neut_std = df.loc[df['barcode'].isin(neut_std_barcodes)]\n",
    "    neut_std_count = neut_std['count'].sum()\n",
    "    \n",
    "    neut_std_fracs.append(neut_std_count / total_counts)\n",
    "    \n",
    "neut_std_fracs"
   ]
  },
  {
   "cell_type": "code",
   "execution_count": 12,
   "id": "c3586eef",
   "metadata": {},
   "outputs": [
    {
     "data": {
      "text/html": [
       "<div>\n",
       "<style scoped>\n",
       "    .dataframe tbody tr th:only-of-type {\n",
       "        vertical-align: middle;\n",
       "    }\n",
       "\n",
       "    .dataframe tbody tr th {\n",
       "        vertical-align: top;\n",
       "    }\n",
       "\n",
       "    .dataframe thead th {\n",
       "        text-align: right;\n",
       "    }\n",
       "</style>\n",
       "<table border=\"1\" class=\"dataframe\">\n",
       "  <thead>\n",
       "    <tr style=\"text-align: right;\">\n",
       "      <th></th>\n",
       "      <th>barcode</th>\n",
       "      <th>count</th>\n",
       "      <th>codon_substitutions</th>\n",
       "      <th>aa_substitutions</th>\n",
       "      <th>variant_call_support</th>\n",
       "    </tr>\n",
       "  </thead>\n",
       "  <tbody>\n",
       "    <tr>\n",
       "      <th>0</th>\n",
       "      <td>ATAACACAAAAAAGTA</td>\n",
       "      <td>146532</td>\n",
       "      <td>AAG297ATA</td>\n",
       "      <td>K297I</td>\n",
       "      <td>4</td>\n",
       "    </tr>\n",
       "    <tr>\n",
       "      <th>1</th>\n",
       "      <td>AGCCTATTAGGATTCG</td>\n",
       "      <td>53119</td>\n",
       "      <td>NaN</td>\n",
       "      <td>NaN</td>\n",
       "      <td>5</td>\n",
       "    </tr>\n",
       "    <tr>\n",
       "      <th>2</th>\n",
       "      <td>TATCTACCTAACGAAA</td>\n",
       "      <td>51094</td>\n",
       "      <td>AGA111AGC GTG366ATG CGA402TCA</td>\n",
       "      <td>R111S V366M R402S</td>\n",
       "      <td>5</td>\n",
       "    </tr>\n",
       "    <tr>\n",
       "      <th>3</th>\n",
       "      <td>AAAAATCTGAGACAAA</td>\n",
       "      <td>43702</td>\n",
       "      <td>AAA46GCA ATC301GTG GAG409ATG</td>\n",
       "      <td>K46A I301V E409M</td>\n",
       "      <td>4</td>\n",
       "    </tr>\n",
       "    <tr>\n",
       "      <th>4</th>\n",
       "      <td>GTCCCGCATCAGTTTC</td>\n",
       "      <td>42904</td>\n",
       "      <td>CAG63GTG AAA154AAT AGG318ATG</td>\n",
       "      <td>Q63V K154N R318M</td>\n",
       "      <td>5</td>\n",
       "    </tr>\n",
       "    <tr>\n",
       "      <th>...</th>\n",
       "      <td>...</td>\n",
       "      <td>...</td>\n",
       "      <td>...</td>\n",
       "      <td>...</td>\n",
       "      <td>...</td>\n",
       "    </tr>\n",
       "    <tr>\n",
       "      <th>66580</th>\n",
       "      <td>TTTTTTCATGCATAGA</td>\n",
       "      <td>0</td>\n",
       "      <td>AAT25AAA GAA69TCA TTT98ATA CAA216ACA AGA326AAA...</td>\n",
       "      <td>N25K E69S F98I Q216T R326K S377C T435S S461D</td>\n",
       "      <td>5</td>\n",
       "    </tr>\n",
       "    <tr>\n",
       "      <th>66581</th>\n",
       "      <td>TTTTTTGAACCTACAA</td>\n",
       "      <td>0</td>\n",
       "      <td>ACA179TCG TCC212TTT AGA227CAA AAA491ACA</td>\n",
       "      <td>T179S S212F R227Q K491T</td>\n",
       "      <td>3</td>\n",
       "    </tr>\n",
       "    <tr>\n",
       "      <th>66582</th>\n",
       "      <td>TTTTTTTCAAAATAAC</td>\n",
       "      <td>0</td>\n",
       "      <td>ACG206AAT GTG509GCA</td>\n",
       "      <td>T206N V509A</td>\n",
       "      <td>2</td>\n",
       "    </tr>\n",
       "    <tr>\n",
       "      <th>66583</th>\n",
       "      <td>TTTTTTTCTAAGGATC</td>\n",
       "      <td>0</td>\n",
       "      <td>ACA49GAA TTA176AAT GCA549TCA</td>\n",
       "      <td>T49E L176N A549S</td>\n",
       "      <td>3</td>\n",
       "    </tr>\n",
       "    <tr>\n",
       "      <th>66584</th>\n",
       "      <td>TTTTTTTCTGAAGTAG</td>\n",
       "      <td>0</td>\n",
       "      <td>CCT23GCA GTG121ATA GGC135GGA AAT141ATA AGT163G...</td>\n",
       "      <td>P23A V121I N141I S163D Y178L T179R H202E S212C...</td>\n",
       "      <td>6</td>\n",
       "    </tr>\n",
       "  </tbody>\n",
       "</table>\n",
       "<p>66585 rows × 5 columns</p>\n",
       "</div>"
      ],
      "text/plain": [
       "                barcode   count  \\\n",
       "0      ATAACACAAAAAAGTA  146532   \n",
       "1      AGCCTATTAGGATTCG   53119   \n",
       "2      TATCTACCTAACGAAA   51094   \n",
       "3      AAAAATCTGAGACAAA   43702   \n",
       "4      GTCCCGCATCAGTTTC   42904   \n",
       "...                 ...     ...   \n",
       "66580  TTTTTTCATGCATAGA       0   \n",
       "66581  TTTTTTGAACCTACAA       0   \n",
       "66582  TTTTTTTCAAAATAAC       0   \n",
       "66583  TTTTTTTCTAAGGATC       0   \n",
       "66584  TTTTTTTCTGAAGTAG       0   \n",
       "\n",
       "                                     codon_substitutions  \\\n",
       "0                                              AAG297ATA   \n",
       "1                                                    NaN   \n",
       "2                          AGA111AGC GTG366ATG CGA402TCA   \n",
       "3                           AAA46GCA ATC301GTG GAG409ATG   \n",
       "4                           CAG63GTG AAA154AAT AGG318ATG   \n",
       "...                                                  ...   \n",
       "66580  AAT25AAA GAA69TCA TTT98ATA CAA216ACA AGA326AAA...   \n",
       "66581            ACA179TCG TCC212TTT AGA227CAA AAA491ACA   \n",
       "66582                                ACG206AAT GTG509GCA   \n",
       "66583                       ACA49GAA TTA176AAT GCA549TCA   \n",
       "66584  CCT23GCA GTG121ATA GGC135GGA AAT141ATA AGT163G...   \n",
       "\n",
       "                                        aa_substitutions  variant_call_support  \n",
       "0                                                  K297I                     4  \n",
       "1                                                    NaN                     5  \n",
       "2                                      R111S V366M R402S                     5  \n",
       "3                                       K46A I301V E409M                     4  \n",
       "4                                       Q63V K154N R318M                     5  \n",
       "...                                                  ...                   ...  \n",
       "66580       N25K E69S F98I Q216T R326K S377C T435S S461D                     5  \n",
       "66581                            T179S S212F R227Q K491T                     3  \n",
       "66582                                        T206N V509A                     2  \n",
       "66583                                   T49E L176N A549S                     3  \n",
       "66584  P23A V121I N141I S163D Y178L T179R H202E S212C...                     6  \n",
       "\n",
       "[66585 rows x 5 columns]"
      ]
     },
     "execution_count": 12,
     "metadata": {},
     "output_type": "execute_result"
    }
   ],
   "source": [
    "df = pd.read_csv('results/variant_counts/libA_221108_1_no-VEP_control_1.csv')\n",
    "df"
   ]
  },
  {
   "cell_type": "code",
   "execution_count": 16,
   "id": "03c61643",
   "metadata": {},
   "outputs": [],
   "source": [
    "neut_std_barcodes = pd.read_csv('data/neutralization_standard_barcodes.csv')\n",
    "neut_std_barcodes = neut_std_barcodes['barcode'].to_list()"
   ]
  },
  {
   "cell_type": "code",
   "execution_count": 17,
   "id": "dd48afdc",
   "metadata": {},
   "outputs": [
    {
     "data": {
      "text/plain": [
       "['TGACGAATCATTCCGC',\n",
       " 'ATCGCTTGACGCAACT',\n",
       " 'GATTAGGCTGCATTAA',\n",
       " 'CCGATCCAGTAGGGTG']"
      ]
     },
     "execution_count": 17,
     "metadata": {},
     "output_type": "execute_result"
    }
   ],
   "source": [
    "neut_std_barcodes"
   ]
  },
  {
   "cell_type": "code",
   "execution_count": 24,
   "id": "ef4905aa",
   "metadata": {},
   "outputs": [
    {
     "data": {
      "text/plain": [
       "3206"
      ]
     },
     "execution_count": 24,
     "metadata": {},
     "output_type": "execute_result"
    }
   ],
   "source": [
    "df_small = df.loc[df['barcode'].isin(neut_std_barcodes)]\n",
    "df_small['count'].sum()"
   ]
  },
  {
   "cell_type": "code",
   "execution_count": 25,
   "id": "d4ca41a9",
   "metadata": {},
   "outputs": [
    {
     "data": {
      "text/html": [
       "<div>\n",
       "<style scoped>\n",
       "    .dataframe tbody tr th:only-of-type {\n",
       "        vertical-align: middle;\n",
       "    }\n",
       "\n",
       "    .dataframe tbody tr th {\n",
       "        vertical-align: top;\n",
       "    }\n",
       "\n",
       "    .dataframe thead th {\n",
       "        text-align: right;\n",
       "    }\n",
       "</style>\n",
       "<table border=\"1\" class=\"dataframe\">\n",
       "  <thead>\n",
       "    <tr style=\"text-align: right;\">\n",
       "      <th></th>\n",
       "      <th>barcode</th>\n",
       "      <th>count</th>\n",
       "      <th>codon_substitutions</th>\n",
       "      <th>aa_substitutions</th>\n",
       "      <th>variant_call_support</th>\n",
       "    </tr>\n",
       "  </thead>\n",
       "  <tbody>\n",
       "    <tr>\n",
       "      <th>801</th>\n",
       "      <td>GATTAGGCTGCATTAA</td>\n",
       "      <td>1104</td>\n",
       "      <td>neut_standard</td>\n",
       "      <td>neut_standard</td>\n",
       "      <td>35</td>\n",
       "    </tr>\n",
       "    <tr>\n",
       "      <th>899</th>\n",
       "      <td>TGACGAATCATTCCGC</td>\n",
       "      <td>1003</td>\n",
       "      <td>neut_standard</td>\n",
       "      <td>neut_standard</td>\n",
       "      <td>35</td>\n",
       "    </tr>\n",
       "    <tr>\n",
       "      <th>1392</th>\n",
       "      <td>CCGATCCAGTAGGGTG</td>\n",
       "      <td>682</td>\n",
       "      <td>neut_standard</td>\n",
       "      <td>neut_standard</td>\n",
       "      <td>35</td>\n",
       "    </tr>\n",
       "    <tr>\n",
       "      <th>2342</th>\n",
       "      <td>ATCGCTTGACGCAACT</td>\n",
       "      <td>417</td>\n",
       "      <td>neut_standard</td>\n",
       "      <td>neut_standard</td>\n",
       "      <td>35</td>\n",
       "    </tr>\n",
       "  </tbody>\n",
       "</table>\n",
       "</div>"
      ],
      "text/plain": [
       "               barcode  count codon_substitutions aa_substitutions  \\\n",
       "801   GATTAGGCTGCATTAA   1104       neut_standard    neut_standard   \n",
       "899   TGACGAATCATTCCGC   1003       neut_standard    neut_standard   \n",
       "1392  CCGATCCAGTAGGGTG    682       neut_standard    neut_standard   \n",
       "2342  ATCGCTTGACGCAACT    417       neut_standard    neut_standard   \n",
       "\n",
       "      variant_call_support  \n",
       "801                     35  \n",
       "899                     35  \n",
       "1392                    35  \n",
       "2342                    35  "
      ]
     },
     "execution_count": 25,
     "metadata": {},
     "output_type": "execute_result"
    }
   ],
   "source": [
    "df_small"
   ]
  },
  {
   "cell_type": "code",
   "execution_count": null,
   "id": "137b6b0c",
   "metadata": {},
   "outputs": [],
   "source": []
  }
 ],
 "metadata": {
  "kernelspec": {
   "display_name": "Python 3 (ipykernel)",
   "language": "python",
   "name": "python3"
  },
  "language_info": {
   "codemirror_mode": {
    "name": "ipython",
    "version": 3
   },
   "file_extension": ".py",
   "mimetype": "text/x-python",
   "name": "python",
   "nbconvert_exporter": "python",
   "pygments_lexer": "ipython3",
   "version": "3.8.12"
  }
 },
 "nbformat": 4,
 "nbformat_minor": 5
}
