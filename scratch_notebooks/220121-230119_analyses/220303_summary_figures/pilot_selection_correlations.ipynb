{
 "cells": [
  {
   "cell_type": "markdown",
   "id": "34cee08c-b6ee-450d-ae33-edd181df02b4",
   "metadata": {},
   "source": [
    "# Analyze barcode correlation between replicates\n",
    "Samples from the 2-24-22 run included both infection replicates and RT replicates. This notebook generates scatterplots showing pairwise correlation between barcode counts from different runs. Plots are saved in `scratch_figs/`"
   ]
  },
  {
   "cell_type": "code",
   "execution_count": 1,
   "id": "a2b4fb9f-ad03-4348-8c99-1dfda78b0dde",
   "metadata": {
    "tags": []
   },
   "outputs": [],
   "source": [
    "import os\n",
    "\n",
    "import altair as alt\n",
    "\n",
    "import Bio.SeqIO\n",
    "\n",
    "import dms_variants.codonvarianttable\n",
    "import dms_variants.utils\n",
    "import dms_variants.plotnine_themes\n",
    "\n",
    "import scipy.stats\n",
    "\n",
    "import pandas as pd\n",
    "\n",
    "import yaml\n",
    "\n",
    "from plotnine import *\n",
    "_ = theme_set(dms_variants.plotnine_themes.theme_graygrid())"
   ]
  },
  {
   "cell_type": "code",
   "execution_count": 2,
   "id": "dfdbecf5-ead3-4d3e-a0ae-106cc124bce5",
   "metadata": {
    "tags": []
   },
   "outputs": [],
   "source": [
    "# allow more rows for Altair\n",
    "_ = alt.data_transformers.disable_max_rows()"
   ]
  },
  {
   "cell_type": "markdown",
   "id": "686a8cb3-92b6-4b41-aae4-e1d97907c8fd",
   "metadata": {},
   "source": [
    "Change working directory to top directory of repo:"
   ]
  },
  {
   "cell_type": "code",
   "execution_count": 3,
   "id": "4a4cbbc8-9cd4-46f7-923e-d32242183a36",
   "metadata": {
    "tags": []
   },
   "outputs": [],
   "source": [
    "os.chdir('../../')"
   ]
  },
  {
   "cell_type": "markdown",
   "id": "649e0dcc-7e23-4386-84d8-3cafba0ec69b",
   "metadata": {},
   "source": [
    "Read configuration:"
   ]
  },
  {
   "cell_type": "code",
   "execution_count": 4,
   "id": "6aa10c89-ae3b-43da-a707-a6bef3d454d6",
   "metadata": {
    "tags": []
   },
   "outputs": [],
   "source": [
    "with open('config.yaml') as f:\n",
    "    config = yaml.safe_load(f)"
   ]
  },
  {
   "cell_type": "markdown",
   "id": "5874b79d-a130-4aa4-9917-60c33e0cac9a",
   "metadata": {},
   "source": [
    "Read the barcode counts and barcode runs:"
   ]
  },
  {
   "cell_type": "code",
   "execution_count": 5,
   "id": "cbf2aa94-05c1-4669-baf4-190d0e1c9c15",
   "metadata": {
    "tags": []
   },
   "outputs": [],
   "source": [
    "barcode_runs = (\n",
    "    pd.read_csv(config[\"barcode_runs\"])\n",
    "    .assign(antibody=lambda x: x[\"antibody\"].fillna(\"no antibody\"))\n",
    ")\n",
    "\n",
    "barcode_counts = pd.read_csv(config[\"barcode_counts\"])"
   ]
  },
  {
   "cell_type": "markdown",
   "id": "a291ee61-0679-4de8-855a-91341e4502ec",
   "metadata": {},
   "source": [
    "Read the parental gene sequence:"
   ]
  },
  {
   "cell_type": "code",
   "execution_count": 6,
   "id": "0c4aa6e6-9033-49be-8048-e230db81fca0",
   "metadata": {},
   "outputs": [],
   "source": [
    "geneseq = str(Bio.SeqIO.read(config['gene_sequence_codon'], 'fasta').seq)\n",
    "assert len(geneseq) % 3 == 0"
   ]
  },
  {
   "cell_type": "markdown",
   "id": "aae813f8-776c-46a4-b8ba-b24687149f1c",
   "metadata": {},
   "source": [
    "Get the primary target:"
   ]
  },
  {
   "cell_type": "code",
   "execution_count": 7,
   "id": "521db153-3710-41dc-8df0-b11eaf5e895c",
   "metadata": {},
   "outputs": [],
   "source": [
    "primary_target = config[\"gene\"]"
   ]
  },
  {
   "cell_type": "markdown",
   "id": "0d6e70b4",
   "metadata": {},
   "source": [
    "## General Data Setup\n",
    "\n",
    "Create a [dms_variants codon-variant table](https://jbloomlab.github.io/dms_variants/codonvariant_sim_data.html):"
   ]
  },
  {
   "cell_type": "code",
   "execution_count": 8,
   "id": "b5575ce9",
   "metadata": {
    "tags": []
   },
   "outputs": [],
   "source": [
    "variants = dms_variants.codonvarianttable.CodonVariantTable(\n",
    "    barcode_variant_file=config[\"virus_variants_w_neut_standard\"],\n",
    "    geneseq=geneseq,\n",
    "    substitutions_are_codon=True,\n",
    "    substitutions_col=\"codon_substitutions\",\n",
    "    allowgaps=True,\n",
    "    primary_target=config[\"gene\"],\n",
    ")"
   ]
  },
  {
   "cell_type": "markdown",
   "id": "beea645e-8813-4295-b74e-45102070e746",
   "metadata": {},
   "source": [
    "Now add the sample counts:"
   ]
  },
  {
   "cell_type": "code",
   "execution_count": 9,
   "id": "a6b4bb48-6f7f-429f-a89f-ec81147f9db5",
   "metadata": {},
   "outputs": [],
   "source": [
    "variants.add_sample_counts_df(barcode_counts)"
   ]
  },
  {
   "cell_type": "code",
   "execution_count": 10,
   "id": "e985d102",
   "metadata": {
    "tags": []
   },
   "outputs": [],
   "source": [
    "variant_counts = (\n",
    "    variants.variant_count_df\n",
    "    .query(\"target == @primary_target\")\n",
    "    [[\"library\", \"sample\", \"barcode\", \"count\", \"aa_substitutions\"]]\n",
    "    .merge(barcode_runs.drop(columns=[\"fastq_R1\", \"notes\", \"antibody_concentration\"]))\n",
    "    .assign(percent=lambda x: 100 * x[\"count\"] / x.groupby(\"library_sample\")[\"count\"].transform(\"sum\"))\n",
    "    .sort_values([\"library\", \"sample\", \"count\"], ascending=[True, True, False])\n",
    ")"
   ]
  },
  {
   "cell_type": "markdown",
   "id": "f86f38ed",
   "metadata": {},
   "source": [
    "Reduce dataframe to just samples from 2-24-22, and simplify names for clearer analysis"
   ]
  },
  {
   "cell_type": "code",
   "execution_count": 11,
   "id": "f8172395",
   "metadata": {},
   "outputs": [],
   "source": [
    "reformatted_variants = variant_counts.drop(columns='library')\n",
    "reformatted_variants['date'] = reformatted_variants['sample'].str.split('_').str[0]\n",
    "\n",
    "short_names = {\n",
    "    '220224_1_antibody_AUSAB-07_0.000158_1_rt1': 'serum-IC65_1_RT-1',\n",
    "    '220224_1_antibody_AUSAB-07_0.000158_1_rt2': 'serum-IC65_1_RT-2',\n",
    "    '220224_1_antibody_AUSAB-07_0.000158_2': 'serum-IC65_2',\n",
    "    '220224_1_antibody_AUSAB-07_0.00632_1': 'serum-IC99.90_1',\n",
    "    '220224_1_antibody_AUSAB-07_0.00632_2': 'serum-IC99.90_2',\n",
    "    '220224_1_antibody_AUSAB-07_0.0158_1': 'serum-IC99.99_1',\n",
    "    '220224_1_antibody_AUSAB-07_0.0158_2_rt1': 'serum-IC99.99_2_RT-1',\n",
    "    '220224_1_antibody_AUSAB-07_0.0158_2_rt2': 'serum-IC99.99_2_RT-2',\n",
    "    '220224_1_no-antibody_control_670ng_1': 'no-Ab_1',\n",
    "    '220224_1_no-antibody_control_670ng_2': 'no-Ab_2'\n",
    "}\n",
    "\n",
    "reformatted_variants['sample'] = reformatted_variants['sample'].map(short_names)\n",
    "reformatted_variants = reformatted_variants.dropna()    "
   ]
  },
  {
   "cell_type": "code",
   "execution_count": 12,
   "id": "4a0171ab",
   "metadata": {},
   "outputs": [
    {
     "name": "stderr",
     "output_type": "stream",
     "text": [
      "/fh/fast/bloom_j/software/miniconda3/envs/BloomLab/lib/python3.8/site-packages/pandas/core/indexing.py:1732: SettingWithCopyWarning: \n",
      "A value is trying to be set on a copy of a slice from a DataFrame\n",
      "\n",
      "See the caveats in the documentation: https://pandas.pydata.org/pandas-docs/stable/user_guide/indexing.html#returning-a-view-versus-a-copy\n"
     ]
    },
    {
     "data": {
      "text/html": [
       "<div>\n",
       "<style scoped>\n",
       "    .dataframe tbody tr th:only-of-type {\n",
       "        vertical-align: middle;\n",
       "    }\n",
       "\n",
       "    .dataframe tbody tr th {\n",
       "        vertical-align: top;\n",
       "    }\n",
       "\n",
       "    .dataframe thead th {\n",
       "        text-align: right;\n",
       "    }\n",
       "</style>\n",
       "<table border=\"1\" class=\"dataframe\">\n",
       "  <thead>\n",
       "    <tr style=\"text-align: right;\">\n",
       "      <th></th>\n",
       "      <th>sample</th>\n",
       "      <th>barcode</th>\n",
       "      <th>count</th>\n",
       "      <th>aa_substitutions</th>\n",
       "      <th>date</th>\n",
       "      <th>virus_batch</th>\n",
       "      <th>sample_type</th>\n",
       "      <th>antibody</th>\n",
       "      <th>replicate</th>\n",
       "      <th>library_sample</th>\n",
       "      <th>percent</th>\n",
       "      <th>condition</th>\n",
       "    </tr>\n",
       "  </thead>\n",
       "  <tbody>\n",
       "    <tr>\n",
       "      <th>959340</th>\n",
       "      <td>serum-IC65_1_RT-1</td>\n",
       "      <td>ATAACACAAAAAAGTA</td>\n",
       "      <td>55740</td>\n",
       "      <td>K297I</td>\n",
       "      <td>220224</td>\n",
       "      <td>1</td>\n",
       "      <td>antibody</td>\n",
       "      <td>AUSAB-07</td>\n",
       "      <td>1_rt1</td>\n",
       "      <td>libA_220224_1_antibody_AUSAB-07_0.000158_1_rt1</td>\n",
       "      <td>2.945222</td>\n",
       "      <td>serum-IC65</td>\n",
       "    </tr>\n",
       "    <tr>\n",
       "      <th>959341</th>\n",
       "      <td>serum-IC65_1_RT-1</td>\n",
       "      <td>AGACACTAAATACAGC</td>\n",
       "      <td>15854</td>\n",
       "      <td>Y113N T150K L263H V342Y</td>\n",
       "      <td>220224</td>\n",
       "      <td>1</td>\n",
       "      <td>antibody</td>\n",
       "      <td>AUSAB-07</td>\n",
       "      <td>1_rt1</td>\n",
       "      <td>libA_220224_1_antibody_AUSAB-07_0.000158_1_rt1</td>\n",
       "      <td>0.837703</td>\n",
       "      <td>serum-IC65</td>\n",
       "    </tr>\n",
       "    <tr>\n",
       "      <th>959342</th>\n",
       "      <td>serum-IC65_1_RT-1</td>\n",
       "      <td>AAACATAAATGGACTA</td>\n",
       "      <td>15472</td>\n",
       "      <td>K190H T347D L386K D457H</td>\n",
       "      <td>220224</td>\n",
       "      <td>1</td>\n",
       "      <td>antibody</td>\n",
       "      <td>AUSAB-07</td>\n",
       "      <td>1_rt1</td>\n",
       "      <td>libA_220224_1_antibody_AUSAB-07_0.000158_1_rt1</td>\n",
       "      <td>0.817518</td>\n",
       "      <td>serum-IC65</td>\n",
       "    </tr>\n",
       "    <tr>\n",
       "      <th>959343</th>\n",
       "      <td>serum-IC65_1_RT-1</td>\n",
       "      <td>TACAGGTTCAACTAAT</td>\n",
       "      <td>13389</td>\n",
       "      <td>G24F T206A L263S W536L</td>\n",
       "      <td>220224</td>\n",
       "      <td>1</td>\n",
       "      <td>antibody</td>\n",
       "      <td>AUSAB-07</td>\n",
       "      <td>1_rt1</td>\n",
       "      <td>libA_220224_1_antibody_AUSAB-07_0.000158_1_rt1</td>\n",
       "      <td>0.707456</td>\n",
       "      <td>serum-IC65</td>\n",
       "    </tr>\n",
       "    <tr>\n",
       "      <th>959344</th>\n",
       "      <td>serum-IC65_1_RT-1</td>\n",
       "      <td>AAAAATCTGAGACAAA</td>\n",
       "      <td>12619</td>\n",
       "      <td>K46A I301V E409M</td>\n",
       "      <td>220224</td>\n",
       "      <td>1</td>\n",
       "      <td>antibody</td>\n",
       "      <td>AUSAB-07</td>\n",
       "      <td>1_rt1</td>\n",
       "      <td>libA_220224_1_antibody_AUSAB-07_0.000158_1_rt1</td>\n",
       "      <td>0.666770</td>\n",
       "      <td>serum-IC65</td>\n",
       "    </tr>\n",
       "  </tbody>\n",
       "</table>\n",
       "</div>"
      ],
      "text/plain": [
       "                   sample           barcode  count         aa_substitutions  \\\n",
       "959340  serum-IC65_1_RT-1  ATAACACAAAAAAGTA  55740                    K297I   \n",
       "959341  serum-IC65_1_RT-1  AGACACTAAATACAGC  15854  Y113N T150K L263H V342Y   \n",
       "959342  serum-IC65_1_RT-1  AAACATAAATGGACTA  15472  K190H T347D L386K D457H   \n",
       "959343  serum-IC65_1_RT-1  TACAGGTTCAACTAAT  13389   G24F T206A L263S W536L   \n",
       "959344  serum-IC65_1_RT-1  AAAAATCTGAGACAAA  12619         K46A I301V E409M   \n",
       "\n",
       "          date  virus_batch sample_type  antibody replicate  \\\n",
       "959340  220224            1    antibody  AUSAB-07     1_rt1   \n",
       "959341  220224            1    antibody  AUSAB-07     1_rt1   \n",
       "959342  220224            1    antibody  AUSAB-07     1_rt1   \n",
       "959343  220224            1    antibody  AUSAB-07     1_rt1   \n",
       "959344  220224            1    antibody  AUSAB-07     1_rt1   \n",
       "\n",
       "                                        library_sample   percent   condition  \n",
       "959340  libA_220224_1_antibody_AUSAB-07_0.000158_1_rt1  2.945222  serum-IC65  \n",
       "959341  libA_220224_1_antibody_AUSAB-07_0.000158_1_rt1  0.837703  serum-IC65  \n",
       "959342  libA_220224_1_antibody_AUSAB-07_0.000158_1_rt1  0.817518  serum-IC65  \n",
       "959343  libA_220224_1_antibody_AUSAB-07_0.000158_1_rt1  0.707456  serum-IC65  \n",
       "959344  libA_220224_1_antibody_AUSAB-07_0.000158_1_rt1  0.666770  serum-IC65  "
      ]
     },
     "execution_count": 12,
     "metadata": {},
     "output_type": "execute_result"
    }
   ],
   "source": [
    "# add condition column for grouping\n",
    "reformatted_variants['condition'] = reformatted_variants['sample'].str.split('_').str[0]\n",
    "\n",
    "# make a specific edit to replicate -\n",
    "reformatted_variants['replicate'].loc[(reformatted_variants['replicate'] == '670ng_1')] = '1'\n",
    "reformatted_variants['replicate'].loc[(reformatted_variants['replicate'] == '670ng_2')] = '2'\n",
    "\n",
    "reformatted_variants.head()"
   ]
  },
  {
   "cell_type": "markdown",
   "id": "54f94116",
   "metadata": {},
   "source": [
    "Previous analysis indicated that a single outlier dominated variant counts, making up ~3% of the library variants. Remove this single outlier to avoid skewing visualizations:"
   ]
  },
  {
   "cell_type": "code",
   "execution_count": 13,
   "id": "ee060d37",
   "metadata": {
    "scrolled": false
   },
   "outputs": [],
   "source": [
    "drop_top_n = 1\n",
    "\n",
    "reformatted_variants = (reformatted_variants\n",
    "                             .sort_values([\"count\"], ascending=[False])\n",
    "                             .groupby('library_sample')\n",
    "                             .apply(lambda group: group.iloc[drop_top_n:])\n",
    "                            )"
   ]
  },
  {
   "cell_type": "markdown",
   "id": "9a22398e",
   "metadata": {},
   "source": [
    "## Generate Correlation Scatterplots\n",
    "\n",
    "Define functions that will: \n",
    "* generate tidy, plottable dataframes of barcode counts for replicates of interest\n",
    "* plot correlations between these replicates and label with r2 from linear regression"
   ]
  },
  {
   "cell_type": "code",
   "execution_count": 14,
   "id": "40fa1c26",
   "metadata": {},
   "outputs": [],
   "source": [
    "def pivot_counts(df, condition):\n",
    "    counts_by_condition = (\n",
    "        df.loc[df['condition'] == condition]\n",
    "        .pivot(index='barcode', columns='sample', values='count')\n",
    "        .reset_index()\n",
    "        .rename_axis(None, axis=1)\n",
    "    )\n",
    "    \n",
    "    return counts_by_condition\n",
    "\n",
    "\n",
    "def plot_correlates(df, condition, replicate_pairs, figs_dir):\n",
    "    \n",
    "    for pair in replicate_pairs:\n",
    "        slope, intercept, r_value, p_value, std_err = scipy.stats.linregress(\n",
    "            df[f'{condition}_{pair[0]}'], df[f'{condition}_{pair[1]}'])\n",
    "        \n",
    "        r2 = r_value**2\n",
    "\n",
    "        p = (\n",
    "            ggplot(\n",
    "            df,\n",
    "            aes(x=f'{condition}_{pair[0]}', y=f'{condition}_{pair[1]}')) + \n",
    "        geom_point() + \n",
    "        annotate('text', \n",
    "                 x=((df[f'{condition}_{pair[0]}'].max())*0.16), \n",
    "                 y=((df[f'{condition}_{pair[1]}'].max())*0.9), \n",
    "                 label=f'r2={str(r2)[0:5]}', size=10) +\n",
    "        theme(figure_size=(3, 3),\n",
    "             panel_grid_major_x=element_blank(),\n",
    "             ))\n",
    "        \n",
    "        plotfile = os.path.join(figs_dir, f\"{condition}_{pair[0]}_{pair[1]}_corr.png\")\n",
    "        print(f'saving plot to {plotfile}')\n",
    "        p.save(plotfile, verbose=False)\n",
    "\n",
    "        _ = p.draw()\n",
    "        "
   ]
  },
  {
   "cell_type": "markdown",
   "id": "4b6576cd",
   "metadata": {},
   "source": [
    "*Note on following code - I ended up doing this roughly, because each serum selection condition had slightly different replicate labels. Since this was a one-off analysis, I didn't take the time to clean up the naming / code. See `scratch_figs/220224_correlations/` for full set of correlation scatterplots.*"
   ]
  },
  {
   "cell_type": "code",
   "execution_count": 15,
   "id": "8b3f7c53",
   "metadata": {
    "scrolled": false
   },
   "outputs": [
    {
     "name": "stdout",
     "output_type": "stream",
     "text": [
      "saving plot to scratch_notebooks/220303_summary_figures/scratch_figs/220224_correlations/serum-IC99.99_2_RT-1_2_RT-2_corr.png\n",
      "saving plot to scratch_notebooks/220303_summary_figures/scratch_figs/220224_correlations/serum-IC99.99_2_RT-1_1_corr.png\n"
     ]
    },
    {
     "data": {
      "image/png": "[encoded data removed]",
      "text/plain": [
       "<Figure size 300x300 with 1 Axes>"
      ]
     },
     "metadata": {
      "needs_background": "light"
     },
     "output_type": "display_data"
    },
    {
     "data": {
      "image/png": "[encoded data removed]",
      "text/plain": [
       "<Figure size 300x300 with 1 Axes>"
      ]
     },
     "metadata": {
      "needs_background": "light"
     },
     "output_type": "display_data"
    }
   ],
   "source": [
    "figs_dir = 'scratch_notebooks/220303_summary_figures/scratch_figs/220224_correlations'\n",
    "conditions = ['serum-IC99.99']\n",
    "replicate_pairs = [['2_RT-1','2_RT-2'], ['2_RT-1', '1']]\n",
    "# replicate_pairs = [['1', '2']]\n",
    "\n",
    "for coverage in conditions:\n",
    "    counts_by_replicate = pivot_counts(reformatted_variants, coverage)\n",
    "    plot_correlates(counts_by_replicate, coverage, replicate_pairs, figs_dir)"
   ]
  },
  {
   "cell_type": "markdown",
   "id": "e44dd574",
   "metadata": {},
   "source": [
    "## Analyze number of unique variants in each condition\n",
    "One last plot - just see how many unique variants show up for each antibody selection condition, if we remove everything that had 0 counts"
   ]
  },
  {
   "cell_type": "code",
   "execution_count": 16,
   "id": "293cd51b",
   "metadata": {},
   "outputs": [
    {
     "data": {
      "text/html": [
       "<div>\n",
       "<style scoped>\n",
       "    .dataframe tbody tr th:only-of-type {\n",
       "        vertical-align: middle;\n",
       "    }\n",
       "\n",
       "    .dataframe tbody tr th {\n",
       "        vertical-align: top;\n",
       "    }\n",
       "\n",
       "    .dataframe thead th {\n",
       "        text-align: right;\n",
       "    }\n",
       "</style>\n",
       "<table border=\"1\" class=\"dataframe\">\n",
       "  <thead>\n",
       "    <tr style=\"text-align: right;\">\n",
       "      <th></th>\n",
       "      <th>sample</th>\n",
       "      <th>barcode</th>\n",
       "      <th>count</th>\n",
       "      <th>aa_substitutions</th>\n",
       "      <th>date</th>\n",
       "      <th>virus_batch</th>\n",
       "      <th>sample_type</th>\n",
       "      <th>antibody</th>\n",
       "      <th>replicate</th>\n",
       "      <th>library_sample</th>\n",
       "      <th>percent</th>\n",
       "    </tr>\n",
       "  </thead>\n",
       "  <tbody>\n",
       "    <tr>\n",
       "      <th>959340</th>\n",
       "      <td>serum-IC65.00</td>\n",
       "      <td>ATAACACAAAAAAGTA</td>\n",
       "      <td>55740</td>\n",
       "      <td>K297I</td>\n",
       "      <td>220224</td>\n",
       "      <td>1</td>\n",
       "      <td>antibody</td>\n",
       "      <td>AUSAB-07</td>\n",
       "      <td>1_rt1</td>\n",
       "      <td>libA_220224_1_antibody_AUSAB-07_0.000158_1_rt1</td>\n",
       "      <td>2.945222</td>\n",
       "    </tr>\n",
       "    <tr>\n",
       "      <th>959341</th>\n",
       "      <td>serum-IC65.00</td>\n",
       "      <td>AGACACTAAATACAGC</td>\n",
       "      <td>15854</td>\n",
       "      <td>Y113N T150K L263H V342Y</td>\n",
       "      <td>220224</td>\n",
       "      <td>1</td>\n",
       "      <td>antibody</td>\n",
       "      <td>AUSAB-07</td>\n",
       "      <td>1_rt1</td>\n",
       "      <td>libA_220224_1_antibody_AUSAB-07_0.000158_1_rt1</td>\n",
       "      <td>0.837703</td>\n",
       "    </tr>\n",
       "    <tr>\n",
       "      <th>959342</th>\n",
       "      <td>serum-IC65.00</td>\n",
       "      <td>AAACATAAATGGACTA</td>\n",
       "      <td>15472</td>\n",
       "      <td>K190H T347D L386K D457H</td>\n",
       "      <td>220224</td>\n",
       "      <td>1</td>\n",
       "      <td>antibody</td>\n",
       "      <td>AUSAB-07</td>\n",
       "      <td>1_rt1</td>\n",
       "      <td>libA_220224_1_antibody_AUSAB-07_0.000158_1_rt1</td>\n",
       "      <td>0.817518</td>\n",
       "    </tr>\n",
       "    <tr>\n",
       "      <th>959343</th>\n",
       "      <td>serum-IC65.00</td>\n",
       "      <td>TACAGGTTCAACTAAT</td>\n",
       "      <td>13389</td>\n",
       "      <td>G24F T206A L263S W536L</td>\n",
       "      <td>220224</td>\n",
       "      <td>1</td>\n",
       "      <td>antibody</td>\n",
       "      <td>AUSAB-07</td>\n",
       "      <td>1_rt1</td>\n",
       "      <td>libA_220224_1_antibody_AUSAB-07_0.000158_1_rt1</td>\n",
       "      <td>0.707456</td>\n",
       "    </tr>\n",
       "    <tr>\n",
       "      <th>959344</th>\n",
       "      <td>serum-IC65.00</td>\n",
       "      <td>AAAAATCTGAGACAAA</td>\n",
       "      <td>12619</td>\n",
       "      <td>K46A I301V E409M</td>\n",
       "      <td>220224</td>\n",
       "      <td>1</td>\n",
       "      <td>antibody</td>\n",
       "      <td>AUSAB-07</td>\n",
       "      <td>1_rt1</td>\n",
       "      <td>libA_220224_1_antibody_AUSAB-07_0.000158_1_rt1</td>\n",
       "      <td>0.666770</td>\n",
       "    </tr>\n",
       "  </tbody>\n",
       "</table>\n",
       "</div>"
      ],
      "text/plain": [
       "               sample           barcode  count         aa_substitutions  \\\n",
       "959340  serum-IC65.00  ATAACACAAAAAAGTA  55740                    K297I   \n",
       "959341  serum-IC65.00  AGACACTAAATACAGC  15854  Y113N T150K L263H V342Y   \n",
       "959342  serum-IC65.00  AAACATAAATGGACTA  15472  K190H T347D L386K D457H   \n",
       "959343  serum-IC65.00  TACAGGTTCAACTAAT  13389   G24F T206A L263S W536L   \n",
       "959344  serum-IC65.00  AAAAATCTGAGACAAA  12619         K46A I301V E409M   \n",
       "\n",
       "          date  virus_batch sample_type  antibody replicate  \\\n",
       "959340  220224            1    antibody  AUSAB-07     1_rt1   \n",
       "959341  220224            1    antibody  AUSAB-07     1_rt1   \n",
       "959342  220224            1    antibody  AUSAB-07     1_rt1   \n",
       "959343  220224            1    antibody  AUSAB-07     1_rt1   \n",
       "959344  220224            1    antibody  AUSAB-07     1_rt1   \n",
       "\n",
       "                                        library_sample   percent  \n",
       "959340  libA_220224_1_antibody_AUSAB-07_0.000158_1_rt1  2.945222  \n",
       "959341  libA_220224_1_antibody_AUSAB-07_0.000158_1_rt1  0.837703  \n",
       "959342  libA_220224_1_antibody_AUSAB-07_0.000158_1_rt1  0.817518  \n",
       "959343  libA_220224_1_antibody_AUSAB-07_0.000158_1_rt1  0.707456  \n",
       "959344  libA_220224_1_antibody_AUSAB-07_0.000158_1_rt1  0.666770  "
      ]
     },
     "execution_count": 16,
     "metadata": {},
     "output_type": "execute_result"
    }
   ],
   "source": [
    "# edit names for virus meeting, drop to just 220224 samples\n",
    "\n",
    "rep_variants = variant_counts.drop(columns='library')\n",
    "# reformatted_variants['date'] = reformatted_variants['sample'].str.split('_').str[0]\n",
    "\n",
    "short_names = {\n",
    "#     '220121_1_no-antibody_control_50x_1': 'no-Ab_1',\n",
    "#     '220121_1_no-antibody_control_50x_2_rt1': 'no-Ab_2_RT-1',\n",
    "#     '220121_1_no-antibody_control_50x_2_rt2': 'no-Ab_2_RT-2',\n",
    "    '220224_1_antibody_AUSAB-07_0.000158_1_rt1': 'serum-IC65.00',\n",
    "#     '220224_1_antibody_AUSAB-07_0.000158_1_rt2': 'serum-IC65_1_RT-2',\n",
    "#     '220224_1_antibody_AUSAB-07_0.000158_2': 'serum-IC65_2',\n",
    "    '220224_1_antibody_AUSAB-07_0.000395_1': 'serum-IC90.00',\n",
    "#     '220224_1_antibody_AUSAB-07_0.000395_2': 'serum-IC90_2',\n",
    "    '220224_1_antibody_AUSAB-07_0.00158_1': 'serum-IC99.00',\n",
    "#     '220224_1_antibody_AUSAB-07_0.00158_2': 'serum-IC99_2',\n",
    "    '220224_1_antibody_AUSAB-07_0.00632_1': 'serum-IC99.90',\n",
    "#     '220224_1_antibody_AUSAB-07_0.00632_2': 'serum-IC99.90_2',\n",
    "    '220224_1_antibody_AUSAB-07_0.0158_1': 'serum-IC99.99',\n",
    "#     '220224_1_antibody_AUSAB-07_0.0158_2_rt1': 'serum-IC99.99_2_RT-1',\n",
    "#     '220224_1_antibody_AUSAB-07_0.0158_2_rt2': 'serum-IC99.99_2_RT-2',\n",
    "    '220224_1_no-antibody_control_670ng_1': 'no-Ab',\n",
    "#     '220224_1_no-antibody_control_670ng_2': 'no-Ab_2',\n",
    "    '220224_1_no-antibody_control_plasmid': 'plasmid'\n",
    "}\n",
    "\n",
    "\n",
    "rep_variants['sample'] = rep_variants['sample'].map(short_names)\n",
    "rep_variants = rep_variants.dropna(subset=['sample'])\n",
    "\n",
    "rep_variants.head()"
   ]
  },
  {
   "cell_type": "code",
   "execution_count": 17,
   "id": "6a59d7b7",
   "metadata": {},
   "outputs": [],
   "source": [
    "variants_seen = rep_variants.loc[rep_variants['count'] != 0]\n",
    "variants_seen = variants_seen.groupby(['sample']).size().reset_index(name='unique_variants')\n",
    "variants_seen['color'] = ['#999999', '#999999', '#FEC44F', '#FB9A29', '#EC7014', '#CC4C02', '#993404']"
   ]
  },
  {
   "cell_type": "code",
   "execution_count": 20,
   "id": "db27c5a6",
   "metadata": {},
   "outputs": [
    {
     "data": {
      "text/html": [
       "\n",
       "<div id=\"altair-viz-64c0265229ba447b97d5ba5ba1690422\"></div>\n",
       "<script type=\"text/javascript\">\n",
       "  var VEGA_DEBUG = (typeof VEGA_DEBUG == \"undefined\") ? {} : VEGA_DEBUG;\n",
       "  (function(spec, embedOpt){\n",
       "    let outputDiv = document.currentScript.previousElementSibling;\n",
       "    if (outputDiv.id !== \"altair-viz-64c0265229ba447b97d5ba5ba1690422\") {\n",
       "      outputDiv = document.getElementById(\"altair-viz-64c0265229ba447b97d5ba5ba1690422\");\n",
       "    }\n",
       "    const paths = {\n",
       "      \"vega\": \"https://cdn.jsdelivr.net/npm//vega@5?noext\",\n",
       "      \"vega-lib\": \"https://cdn.jsdelivr.net/npm//vega-lib?noext\",\n",
       "      \"vega-lite\": \"https://cdn.jsdelivr.net/npm//vega-lite@4.17.0?noext\",\n",
       "      \"vega-embed\": \"https://cdn.jsdelivr.net/npm//vega-embed@6?noext\",\n",
       "    };\n",
       "\n",
       "    function maybeLoadScript(lib, version) {\n",
       "      var key = `${lib.replace(\"-\", \"\")}_version`;\n",
       "      return (VEGA_DEBUG[key] == version) ?\n",
       "        Promise.resolve(paths[lib]) :\n",
       "        new Promise(function(resolve, reject) {\n",
       "          var s = document.createElement('script');\n",
       "          document.getElementsByTagName(\"head\")[0].appendChild(s);\n",
       "          s.async = true;\n",
       "          s.onload = () => {\n",
       "            VEGA_DEBUG[key] = version;\n",
       "            return resolve(paths[lib]);\n",
       "          };\n",
       "          s.onerror = () => reject(`Error loading script: ${paths[lib]}`);\n",
       "          s.src = paths[lib];\n",
       "        });\n",
       "    }\n",
       "\n",
       "    function showError(err) {\n",
       "      outputDiv.innerHTML = `<div class=\"error\" style=\"color:red;\">${err}</div>`;\n",
       "      throw err;\n",
       "    }\n",
       "\n",
       "    function displayChart(vegaEmbed) {\n",
       "      vegaEmbed(outputDiv, spec, embedOpt)\n",
       "        .catch(err => showError(`Javascript Error: ${err.message}<br>This usually means there's a typo in your chart specification. See the javascript console for the full traceback.`));\n",
       "    }\n",
       "\n",
       "    if(typeof define === \"function\" && define.amd) {\n",
       "      requirejs.config({paths});\n",
       "      require([\"vega-embed\"], displayChart, err => showError(`Error loading script: ${err.message}`));\n",
       "    } else {\n",
       "      maybeLoadScript(\"vega\", \"5\")\n",
       "        .then(() => maybeLoadScript(\"vega-lite\", \"4.17.0\"))\n",
       "        .then(() => maybeLoadScript(\"vega-embed\", \"6\"))\n",
       "        .catch(showError)\n",
       "        .then(() => displayChart(vegaEmbed));\n",
       "    }\n",
       "  })({\"config\": {\"view\": {\"continuousWidth\": 400, \"continuousHeight\": 300}, \"axis\": {\"labelLimit\": 500}}, \"data\": {\"name\": \"data-7232606b88cb8f9fc7574f3b73130a3d\"}, \"mark\": \"bar\", \"encoding\": {\"color\": {\"field\": \"color\", \"scale\": null, \"type\": \"nominal\"}, \"x\": {\"axis\": {\"grid\": false}, \"field\": \"unique_variants\", \"title\": \"unique variants sequenced\", \"type\": \"quantitative\"}, \"y\": {\"field\": \"sample\", \"sort\": [\"plasmid\", \"no-Ab\"], \"title\": null, \"type\": \"nominal\"}}, \"height\": {\"step\": 13}, \"width\": 300, \"$schema\": \"https://vega.github.io/schema/vega-lite/v4.17.0.json\", \"datasets\": {\"data-7232606b88cb8f9fc7574f3b73130a3d\": [{\"sample\": \"no-Ab\", \"unique_variants\": 52378, \"color\": \"#999999\"}, {\"sample\": \"plasmid\", \"unique_variants\": 79474, \"color\": \"#999999\"}, {\"sample\": \"serum-IC65.00\", \"unique_variants\": 49513, \"color\": \"#FEC44F\"}, {\"sample\": \"serum-IC90.00\", \"unique_variants\": 52474, \"color\": \"#FB9A29\"}, {\"sample\": \"serum-IC99.00\", \"unique_variants\": 49978, \"color\": \"#EC7014\"}, {\"sample\": \"serum-IC99.90\", \"unique_variants\": 46059, \"color\": \"#CC4C02\"}, {\"sample\": \"serum-IC99.99\", \"unique_variants\": 38620, \"color\": \"#993404\"}]}}, {\"mode\": \"vega-lite\"});\n",
       "</script>"
      ],
      "text/plain": [
       "alt.Chart(...)"
      ]
     },
     "execution_count": 20,
     "metadata": {},
     "output_type": "execute_result"
    }
   ],
   "source": [
    "# mutation_type_selection = alt.selection_multi(fields=[\"mutation_type\"], bind=\"legend\")\n",
    "\n",
    "avg_muts_chart = (\n",
    "    alt.Chart(\n",
    "        variants_seen\n",
    "                        )\n",
    "    .encode(\n",
    "        x=alt.X(\n",
    "            \"unique_variants\",\n",
    "            title=\"unique variants sequenced\",\n",
    "            axis=alt.Axis(grid=False),\n",
    "        ),\n",
    "        y=alt.Y(\n",
    "            \"sample\",\n",
    "            title=None,\n",
    "            sort=['plasmid', 'no-Ab']\n",
    "        ),\n",
    "        color=alt.Color('color', scale = None)\n",
    "#         color=alt.Color(\n",
    "#             \"mutation_type\",\n",
    "#             scale=alt.Scale(domain=mut_types_sort),\n",
    "#         ),\n",
    "#         order=alt.Order(\"order\", sort=\"descending\"),\n",
    "#         tooltip=[alt.Tooltip(c, format=\".3g\") if c in [\"count\", \"number\"] else c\n",
    "#                  for c in avg_muts.columns if c != \"sample\"],\n",
    "    )\n",
    "    .mark_bar()\n",
    "    .properties(height=alt.Step(13), width=300)\n",
    "    .configure_axis(labelLimit=500)\n",
    "#     .add_selection(mutation_type_selection, *selections)\n",
    "#     .transform_filter(mutation_type_selection)\n",
    ")\n",
    "\n",
    "# for selection in selections:\n",
    "#     avg_muts_chart = avg_muts_chart.transform_filter(selection)\n",
    "\n",
    "avg_muts_chart.save('scratch_notebooks/220303_summary_figures/scratch_figs/unique_variants.pdf')\n",
    "\n",
    "avg_muts_chart"
   ]
  }
 ],
 "metadata": {
  "kernelspec": {
   "display_name": "Python 3 (ipykernel)",
   "language": "python",
   "name": "python3"
  },
  "language_info": {
   "codemirror_mode": {
    "name": "ipython",
    "version": 3
   },
   "file_extension": ".py",
   "mimetype": "text/x-python",
   "name": "python",
   "nbconvert_exporter": "python",
   "pygments_lexer": "ipython3",
   "version": "3.8.12"
  }
 },
 "nbformat": 4,
 "nbformat_minor": 5
}
