{
 "cells": [
  {
   "cell_type": "markdown",
   "id": "34cee08c-b6ee-450d-ae33-edd181df02b4",
   "metadata": {},
   "source": [
    "# Analyze barcode correlation between replicates\n",
    "Our main goal with the infections on 1-21-22 was to test which minimum library coverage still has good pairwise correlation between replicate infections, and check if there's bottlenecking at the RT steps. Some correlation analysis can be found in `notebooks/analyze_variant_counts.ipynb`, but this notebook follows up in more detail.\n",
    "\n",
    "First, import Python modules:"
   ]
  },
  {
   "cell_type": "code",
   "execution_count": 1,
   "id": "a2b4fb9f-ad03-4348-8c99-1dfda78b0dde",
   "metadata": {
    "tags": []
   },
   "outputs": [],
   "source": [
    "import os\n",
    "\n",
    "import altair as alt\n",
    "\n",
    "import Bio.SeqIO\n",
    "\n",
    "import dms_variants.codonvarianttable\n",
    "import dms_variants.utils\n",
    "import dms_variants.plotnine_themes\n",
    "\n",
    "import scipy.stats\n",
    "\n",
    "import pandas as pd\n",
    "\n",
    "import yaml\n",
    "\n",
    "from plotnine import *\n",
    "_ = theme_set(dms_variants.plotnine_themes.theme_graygrid())"
   ]
  },
  {
   "cell_type": "code",
   "execution_count": 2,
   "id": "dfdbecf5-ead3-4d3e-a0ae-106cc124bce5",
   "metadata": {
    "tags": []
   },
   "outputs": [],
   "source": [
    "# allow more rows for Altair\n",
    "_ = alt.data_transformers.disable_max_rows()"
   ]
  },
  {
   "cell_type": "markdown",
   "id": "686a8cb3-92b6-4b41-aae4-e1d97907c8fd",
   "metadata": {},
   "source": [
    "Change working directory to top directory of repo:"
   ]
  },
  {
   "cell_type": "code",
   "execution_count": 3,
   "id": "4a4cbbc8-9cd4-46f7-923e-d32242183a36",
   "metadata": {
    "tags": []
   },
   "outputs": [],
   "source": [
    "os.chdir('../../../')"
   ]
  },
  {
   "cell_type": "markdown",
   "id": "649e0dcc-7e23-4386-84d8-3cafba0ec69b",
   "metadata": {},
   "source": [
    "Read configuration:"
   ]
  },
  {
   "cell_type": "code",
   "execution_count": 4,
   "id": "6aa10c89-ae3b-43da-a707-a6bef3d454d6",
   "metadata": {
    "tags": []
   },
   "outputs": [],
   "source": [
    "with open('config.yaml') as f:\n",
    "    config = yaml.safe_load(f)"
   ]
  },
  {
   "cell_type": "markdown",
   "id": "5874b79d-a130-4aa4-9917-60c33e0cac9a",
   "metadata": {},
   "source": [
    "Read the barcode counts and barcode runs:"
   ]
  },
  {
   "cell_type": "code",
   "execution_count": 14,
   "id": "cbf2aa94-05c1-4669-baf4-190d0e1c9c15",
   "metadata": {
    "tags": []
   },
   "outputs": [],
   "source": [
    "barcode_runs = (\n",
    "    pd.read_csv(config[\"barcode_runs\"])\n",
    "    .assign(antibody=lambda x: x[\"antibody\"].fillna(\"no antibody\"))\n",
    ")\n",
    "\n",
    "barcode_counts = pd.read_csv(config[\"barcode_counts\"])"
   ]
  },
  {
   "cell_type": "markdown",
   "id": "a291ee61-0679-4de8-855a-91341e4502ec",
   "metadata": {},
   "source": [
    "Read the parental gene sequence:"
   ]
  },
  {
   "cell_type": "code",
   "execution_count": 15,
   "id": "0c4aa6e6-9033-49be-8048-e230db81fca0",
   "metadata": {},
   "outputs": [],
   "source": [
    "geneseq = str(Bio.SeqIO.read(config['gene_sequence_codon'], 'fasta').seq)\n",
    "assert len(geneseq) % 3 == 0"
   ]
  },
  {
   "cell_type": "markdown",
   "id": "aae813f8-776c-46a4-b8ba-b24687149f1c",
   "metadata": {},
   "source": [
    "Get the primary target:"
   ]
  },
  {
   "cell_type": "code",
   "execution_count": 16,
   "id": "521db153-3710-41dc-8df0-b11eaf5e895c",
   "metadata": {},
   "outputs": [],
   "source": [
    "primary_target = config[\"gene\"]"
   ]
  },
  {
   "cell_type": "markdown",
   "id": "0d6e70b4",
   "metadata": {},
   "source": [
    "## Create codon-variant table and add counts:\n",
    "Create a [dms_variants codon-variant table](https://jbloomlab.github.io/dms_variants/codonvariant_sim_data.html):"
   ]
  },
  {
   "cell_type": "code",
   "execution_count": 17,
   "id": "b5575ce9",
   "metadata": {
    "tags": []
   },
   "outputs": [],
   "source": [
    "variants = dms_variants.codonvarianttable.CodonVariantTable(\n",
    "    barcode_variant_file=config[\"virus_variants_w_neut_standard\"],\n",
    "    geneseq=geneseq,\n",
    "    substitutions_are_codon=True,\n",
    "    substitutions_col=\"codon_substitutions\",\n",
    "    allowgaps=True,\n",
    "    primary_target=config[\"gene\"],\n",
    ")"
   ]
  },
  {
   "cell_type": "markdown",
   "id": "beea645e-8813-4295-b74e-45102070e746",
   "metadata": {},
   "source": [
    "Now add the sample counts:"
   ]
  },
  {
   "cell_type": "code",
   "execution_count": 18,
   "id": "a6b4bb48-6f7f-429f-a89f-ec81147f9db5",
   "metadata": {},
   "outputs": [],
   "source": [
    "variants.add_sample_counts_df(barcode_counts)"
   ]
  },
  {
   "cell_type": "code",
   "execution_count": 19,
   "id": "e985d102",
   "metadata": {
    "tags": []
   },
   "outputs": [],
   "source": [
    "variant_counts = (\n",
    "    variants.variant_count_df\n",
    "    .query(\"target == @primary_target\")\n",
    "    [[\"library\", \"sample\", \"barcode\", \"count\", \"aa_substitutions\"]]\n",
    "    .merge(barcode_runs.drop(columns=[\"fastq_R1\", \"notes\", \"antibody_concentration\"]))\n",
    "    .assign(percent=lambda x: 100 * x[\"count\"] / x.groupby(\"library_sample\")[\"count\"].transform(\"sum\"))\n",
    "    .sort_values([\"library\", \"sample\", \"count\"], ascending=[True, True, False])\n",
    ")"
   ]
  },
  {
   "cell_type": "markdown",
   "id": "277dacd0",
   "metadata": {},
   "source": [
    "Previous analysis indicated that a single outlier dominated variant counts, making up ~3% of the library variants. Make another version of `variant_counts` that removes this single outlier."
   ]
  },
  {
   "cell_type": "code",
   "execution_count": 20,
   "id": "b35f69b1",
   "metadata": {
    "scrolled": false
   },
   "outputs": [],
   "source": [
    "drop_top_n = 1\n",
    "\n",
    "variant_counts_no_outlier = (variant_counts\n",
    "                             .sort_values([\"count\"], ascending=[False])\n",
    "                             .groupby('library_sample')\n",
    "                             .apply(lambda group: group.iloc[drop_top_n:])\n",
    "                            )"
   ]
  },
  {
   "cell_type": "markdown",
   "id": "b2520488",
   "metadata": {},
   "source": [
    "## Pairwise correlation between variant counts\n",
    "Compute the pairwise correlations between variant counts for each library:"
   ]
  },
  {
   "cell_type": "code",
   "execution_count": 21,
   "id": "543779c3",
   "metadata": {},
   "outputs": [
    {
     "data": {
      "text/html": [
       "<div>\n",
       "<style scoped>\n",
       "    .dataframe tbody tr th:only-of-type {\n",
       "        vertical-align: middle;\n",
       "    }\n",
       "\n",
       "    .dataframe tbody tr th {\n",
       "        vertical-align: top;\n",
       "    }\n",
       "\n",
       "    .dataframe thead th {\n",
       "        text-align: right;\n",
       "    }\n",
       "</style>\n",
       "<table border=\"1\" class=\"dataframe\">\n",
       "  <thead>\n",
       "    <tr style=\"text-align: right;\">\n",
       "      <th></th>\n",
       "      <th>library</th>\n",
       "      <th>sample</th>\n",
       "      <th>barcode</th>\n",
       "      <th>count</th>\n",
       "      <th>aa_substitutions</th>\n",
       "      <th>date</th>\n",
       "      <th>virus_batch</th>\n",
       "      <th>sample_type</th>\n",
       "      <th>antibody</th>\n",
       "      <th>replicate</th>\n",
       "      <th>library_sample</th>\n",
       "      <th>percent</th>\n",
       "    </tr>\n",
       "    <tr>\n",
       "      <th>library_sample</th>\n",
       "      <th></th>\n",
       "      <th></th>\n",
       "      <th></th>\n",
       "      <th></th>\n",
       "      <th></th>\n",
       "      <th></th>\n",
       "      <th></th>\n",
       "      <th></th>\n",
       "      <th></th>\n",
       "      <th></th>\n",
       "      <th></th>\n",
       "      <th></th>\n",
       "    </tr>\n",
       "  </thead>\n",
       "  <tbody>\n",
       "  </tbody>\n",
       "</table>\n",
       "</div>"
      ],
      "text/plain": [
       "Empty DataFrame\n",
       "Columns: [library, sample, barcode, count, aa_substitutions, date, virus_batch, sample_type, antibody, replicate, library_sample, percent]\n",
       "Index: []"
      ]
     },
     "execution_count": 21,
     "metadata": {},
     "output_type": "execute_result"
    }
   ],
   "source": [
    "variant_counts_no_outlier.head()"
   ]
  },
  {
   "cell_type": "code",
   "execution_count": 22,
   "id": "19efde36",
   "metadata": {
    "tags": []
   },
   "outputs": [
    {
     "ename": "KeyError",
     "evalue": "\"The following 'id_vars' are not present in the DataFrame: ['sample']\"",
     "output_type": "error",
     "traceback": [
      "\u001b[0;31m---------------------------------------------------------------------------\u001b[0m",
      "\u001b[0;31mKeyError\u001b[0m                                  Traceback (most recent call last)",
      "\u001b[0;32m/tmp/ipykernel_61699/2423948536.py\u001b[0m in \u001b[0;36m<module>\u001b[0;34m\u001b[0m\n\u001b[1;32m      1\u001b[0m corrs = (\n\u001b[0;32m----> 2\u001b[0;31m     dms_variants.utils.tidy_to_corr(\n\u001b[0m\u001b[1;32m      3\u001b[0m         \u001b[0mdf\u001b[0m\u001b[0;34m=\u001b[0m\u001b[0mvariant_counts\u001b[0m\u001b[0;34m,\u001b[0m\u001b[0;34m\u001b[0m\u001b[0;34m\u001b[0m\u001b[0m\n\u001b[1;32m      4\u001b[0m         \u001b[0msample_col\u001b[0m\u001b[0;34m=\u001b[0m\u001b[0;34m\"sample\"\u001b[0m\u001b[0;34m,\u001b[0m\u001b[0;34m\u001b[0m\u001b[0;34m\u001b[0m\u001b[0m\n\u001b[1;32m      5\u001b[0m         \u001b[0mlabel_col\u001b[0m\u001b[0;34m=\u001b[0m\u001b[0;34m\"barcode\"\u001b[0m\u001b[0;34m,\u001b[0m\u001b[0;34m\u001b[0m\u001b[0;34m\u001b[0m\u001b[0m\n",
      "\u001b[0;32m/fh/fast/bloom_j/software/miniconda3/envs/BloomLab/lib/python3.8/site-packages/dms_variants/utils.py\u001b[0m in \u001b[0;36mtidy_to_corr\u001b[0;34m(df, sample_col, label_col, value_col, group_cols, return_type, method)\u001b[0m\n\u001b[1;32m    364\u001b[0m     \u001b[0;32mif\u001b[0m \u001b[0mreturn_type\u001b[0m \u001b[0;34m==\u001b[0m \u001b[0;34m\"tidy_pairs\"\u001b[0m\u001b[0;34m:\u001b[0m\u001b[0;34m\u001b[0m\u001b[0;34m\u001b[0m\u001b[0m\n\u001b[1;32m    365\u001b[0m         corr = (\n\u001b[0;32m--> 366\u001b[0;31m             corr.melt(\n\u001b[0m\u001b[1;32m    367\u001b[0m                 \u001b[0mid_vars\u001b[0m\u001b[0;34m=\u001b[0m\u001b[0mgroup_cols\u001b[0m \u001b[0;34m+\u001b[0m \u001b[0;34m[\u001b[0m\u001b[0msample_col\u001b[0m\u001b[0;34m]\u001b[0m\u001b[0;34m,\u001b[0m\u001b[0;34m\u001b[0m\u001b[0;34m\u001b[0m\u001b[0m\n\u001b[1;32m    368\u001b[0m                 \u001b[0mvar_name\u001b[0m\u001b[0;34m=\u001b[0m\u001b[0msample_col\u001b[0m \u001b[0;34m+\u001b[0m \u001b[0;34m\"_2\"\u001b[0m\u001b[0;34m,\u001b[0m\u001b[0;34m\u001b[0m\u001b[0;34m\u001b[0m\u001b[0m\n",
      "\u001b[0;32m/fh/fast/bloom_j/software/miniconda3/envs/BloomLab/lib/python3.8/site-packages/pandas/core/frame.py\u001b[0m in \u001b[0;36mmelt\u001b[0;34m(self, id_vars, value_vars, var_name, value_name, col_level, ignore_index)\u001b[0m\n\u001b[1;32m   8338\u001b[0m     ) -> DataFrame:\n\u001b[1;32m   8339\u001b[0m \u001b[0;34m\u001b[0m\u001b[0m\n\u001b[0;32m-> 8340\u001b[0;31m         return melt(\n\u001b[0m\u001b[1;32m   8341\u001b[0m             \u001b[0mself\u001b[0m\u001b[0;34m,\u001b[0m\u001b[0;34m\u001b[0m\u001b[0;34m\u001b[0m\u001b[0m\n\u001b[1;32m   8342\u001b[0m             \u001b[0mid_vars\u001b[0m\u001b[0;34m=\u001b[0m\u001b[0mid_vars\u001b[0m\u001b[0;34m,\u001b[0m\u001b[0;34m\u001b[0m\u001b[0;34m\u001b[0m\u001b[0m\n",
      "\u001b[0;32m/fh/fast/bloom_j/software/miniconda3/envs/BloomLab/lib/python3.8/site-packages/pandas/core/reshape/melt.py\u001b[0m in \u001b[0;36mmelt\u001b[0;34m(frame, id_vars, value_vars, var_name, value_name, col_level, ignore_index)\u001b[0m\n\u001b[1;32m     80\u001b[0m             \u001b[0mmissing\u001b[0m \u001b[0;34m=\u001b[0m \u001b[0mIndex\u001b[0m\u001b[0;34m(\u001b[0m\u001b[0mcom\u001b[0m\u001b[0;34m.\u001b[0m\u001b[0mflatten\u001b[0m\u001b[0;34m(\u001b[0m\u001b[0mid_vars\u001b[0m\u001b[0;34m)\u001b[0m\u001b[0;34m)\u001b[0m\u001b[0;34m.\u001b[0m\u001b[0mdifference\u001b[0m\u001b[0;34m(\u001b[0m\u001b[0mcols\u001b[0m\u001b[0;34m)\u001b[0m\u001b[0;34m\u001b[0m\u001b[0;34m\u001b[0m\u001b[0m\n\u001b[1;32m     81\u001b[0m             \u001b[0;32mif\u001b[0m \u001b[0;32mnot\u001b[0m \u001b[0mmissing\u001b[0m\u001b[0;34m.\u001b[0m\u001b[0mempty\u001b[0m\u001b[0;34m:\u001b[0m\u001b[0;34m\u001b[0m\u001b[0;34m\u001b[0m\u001b[0m\n\u001b[0;32m---> 82\u001b[0;31m                 raise KeyError(\n\u001b[0m\u001b[1;32m     83\u001b[0m                     \u001b[0;34m\"The following 'id_vars' are not present \"\u001b[0m\u001b[0;34m\u001b[0m\u001b[0;34m\u001b[0m\u001b[0m\n\u001b[1;32m     84\u001b[0m                     \u001b[0;34mf\"in the DataFrame: {list(missing)}\"\u001b[0m\u001b[0;34m\u001b[0m\u001b[0;34m\u001b[0m\u001b[0m\n",
      "\u001b[0;31mKeyError\u001b[0m: \"The following 'id_vars' are not present in the DataFrame: ['sample']\""
     ]
    }
   ],
   "source": [
    "corrs = (\n",
    "    dms_variants.utils.tidy_to_corr(\n",
    "        df=variant_counts,\n",
    "        sample_col=\"sample\",\n",
    "        label_col=\"barcode\",\n",
    "        value_col=\"count\",\n",
    "        group_cols=[\"library\"],\n",
    "    )\n",
    "    .assign(r2=lambda x: x[\"correlation\"]**2)\n",
    "    .drop(columns=\"correlation\")\n",
    "    .sort_values([\"library\", \"sample_1\", \"sample_2\"])\n",
    ")\n",
    "\n",
    "# add other properties and flag samples that share these\n",
    "suffixes = [\"_1\", \"_2\"]\n",
    "cols_to_add =  [\"antibody\", \"virus_batch\", \"sample_type\", \"date\"]\n",
    "for suffix in suffixes:\n",
    "    corrs = (\n",
    "        corrs.merge(\n",
    "            barcode_runs[[\"library\", \"sample\", *cols_to_add]],\n",
    "            left_on=[\"library\", f\"sample{suffix}\"],\n",
    "            right_on=[\"library\", \"sample\"],\n",
    "            validate=\"many_to_one\",\n",
    "            suffixes=suffixes,\n",
    "        )\n",
    "        .drop(columns=\"sample\")\n",
    "    )\n",
    "for col in cols_to_add:\n",
    "    corrs = (\n",
    "        corrs\n",
    "        .assign(\n",
    "            equal=lambda x: x[f\"{col}_1\"] == x[f\"{col}_2\"],\n",
    "            **{col: lambda x: x[f\"{col}_1\"].where(x[\"equal\"], pd.NA)},\n",
    "        )\n",
    "        .drop(columns=[f\"{col}{suffix}\" for suffix in suffixes])\n",
    "    )"
   ]
  },
  {
   "cell_type": "markdown",
   "id": "bfbf0521",
   "metadata": {},
   "source": [
    "Plot on a log scale, to better resolve differences in pairwise correlations"
   ]
  },
  {
   "cell_type": "code",
   "execution_count": null,
   "id": "27280d9c",
   "metadata": {
    "tags": []
   },
   "outputs": [],
   "source": [
    "corr_charts = []\n",
    "for library, library_corr in corrs.groupby(\"library\"):\n",
    "    corr_chart = (\n",
    "        alt.Chart(library_corr)\n",
    "        .encode(\n",
    "            alt.X(\"sample_1\", title=None),\n",
    "            alt.Y(\"sample_2\", title=None),\n",
    "            color=alt.Color(\"r2\", scale=alt.Scale(type='log')),\n",
    "            tooltip=[\n",
    "                \"library\",\n",
    "                \"sample_1\",\n",
    "                \"sample_2\",\n",
    "                alt.Tooltip(\"r2\", format=\".3f\")\n",
    "            ],\n",
    "        )\n",
    "        .mark_rect(stroke=\"black\")\n",
    "        .properties(width=alt.Step(15), height=alt.Step(15), title=library)\n",
    "#         .add_selection(*selections)\n",
    "    )\n",
    "#     for selection in selections:\n",
    "#         corr_chart = corr_chart.transform_filter(selection)\n",
    "    corr_charts.append(corr_chart)\n",
    "\n",
    "corr_chart = (\n",
    "    alt.vconcat(*corr_charts)\n",
    "    .configure_axis(labelLimit=500)\n",
    "\n",
    ")\n",
    "\n",
    "corr_chart"
   ]
  },
  {
   "cell_type": "markdown",
   "id": "ec4a9970",
   "metadata": {},
   "source": [
    "Then try plotting again with the outlier removed"
   ]
  },
  {
   "cell_type": "code",
   "execution_count": null,
   "id": "77029fad",
   "metadata": {
    "tags": []
   },
   "outputs": [],
   "source": [
    "corrs = (\n",
    "    dms_variants.utils.tidy_to_corr(\n",
    "        df=variant_counts_no_outlier,\n",
    "        sample_col=\"sample\",\n",
    "        label_col=\"barcode\",\n",
    "        value_col=\"count\",\n",
    "        group_cols=[\"library\"],\n",
    "    )\n",
    "    .assign(r2=lambda x: x[\"correlation\"]**2)\n",
    "    .drop(columns=\"correlation\")\n",
    "    .sort_values([\"library\", \"sample_1\", \"sample_2\"])\n",
    ")\n",
    "\n",
    "# add other properties and flag samples that share these\n",
    "suffixes = [\"_1\", \"_2\"]\n",
    "cols_to_add =  [\"antibody\", \"virus_batch\", \"sample_type\", \"date\"]\n",
    "for suffix in suffixes:\n",
    "    corrs = (\n",
    "        corrs.merge(\n",
    "            barcode_runs[[\"library\", \"sample\", *cols_to_add]],\n",
    "            left_on=[\"library\", f\"sample{suffix}\"],\n",
    "            right_on=[\"library\", \"sample\"],\n",
    "            validate=\"many_to_one\",\n",
    "            suffixes=suffixes,\n",
    "        )\n",
    "        .drop(columns=\"sample\")\n",
    "    )\n",
    "for col in cols_to_add:\n",
    "    corrs = (\n",
    "        corrs\n",
    "        .assign(\n",
    "            equal=lambda x: x[f\"{col}_1\"] == x[f\"{col}_2\"],\n",
    "            **{col: lambda x: x[f\"{col}_1\"].where(x[\"equal\"], pd.NA)},\n",
    "        )\n",
    "        .drop(columns=[f\"{col}{suffix}\" for suffix in suffixes])\n",
    "    )"
   ]
  },
  {
   "cell_type": "code",
   "execution_count": null,
   "id": "c8799ca2",
   "metadata": {
    "tags": []
   },
   "outputs": [],
   "source": [
    "corr_charts = []\n",
    "for library, library_corr in corrs.groupby(\"library\"):\n",
    "    corr_chart = (\n",
    "        alt.Chart(library_corr)\n",
    "        .encode(\n",
    "            alt.X(\"sample_1\", title=None),\n",
    "            alt.Y(\"sample_2\", title=None),\n",
    "            color=alt.Color(\"r2\", scale=alt.Scale(type='log')),\n",
    "            tooltip=[\n",
    "                \"library\",\n",
    "                \"sample_1\",\n",
    "                \"sample_2\",\n",
    "                alt.Tooltip(\"r2\", format=\".3f\")\n",
    "            ],\n",
    "        )\n",
    "        .mark_rect(stroke=\"black\")\n",
    "        .properties(width=alt.Step(15), height=alt.Step(15), title=library)\n",
    "#         .add_selection(*selections)\n",
    "    )\n",
    "#     for selection in selections:\n",
    "#         corr_chart = corr_chart.transform_filter(selection)\n",
    "    corr_charts.append(corr_chart)\n",
    "\n",
    "corr_chart = (\n",
    "    alt.vconcat(*corr_charts)\n",
    "    .configure_axis(labelLimit=500)\n",
    "\n",
    ")\n",
    "\n",
    "corr_chart"
   ]
  },
  {
   "cell_type": "markdown",
   "id": "2ad056f9",
   "metadata": {},
   "source": [
    "Removing the outlier didn't seem to make a huge impact on correlations - the r2 scale only dropped by ~0.01. \n",
    "\n",
    "These r2 values are surprisingly high, so we next want to look at individual scatterplots to confirm whether we are indeed getting good correlations. This could be skewed if, say, there are two populations of barcodes at low and high counts."
   ]
  },
  {
   "cell_type": "code",
   "execution_count": null,
   "id": "a6934aa1",
   "metadata": {},
   "outputs": [],
   "source": [
    "# add lib_coverage column for grouping\n",
    "variant_counts_no_outlier['lib_coverage'] = variant_counts_no_outlier['replicate'].str.split('_').str[0]"
   ]
  },
  {
   "cell_type": "code",
   "execution_count": null,
   "id": "214be4ce",
   "metadata": {},
   "outputs": [],
   "source": [
    "def pivot_counts(df, coverage):\n",
    "    counts_by_replicate = (\n",
    "        df.loc[df['lib_coverage'] == coverage]\n",
    "        .pivot(index='barcode', columns='replicate', values='count')\n",
    "        .reset_index()\n",
    "        .rename_axis(None, axis=1)\n",
    "    )\n",
    "    \n",
    "    return counts_by_replicate\n",
    "\n",
    "\n",
    "def plot_correlates(df, coverage, replicate_pairs, figs_dir):\n",
    "    \n",
    "    for pair in replicate_pairs:\n",
    "        slope, intercept, r_value, p_value, std_err = scipy.stats.linregress(\n",
    "            df[f'{coverage}_{pair[0]}'], df[f'{coverage}_{pair[1]}'])\n",
    "        \n",
    "        r2 = r_value**2\n",
    "\n",
    "        p = (\n",
    "            ggplot(\n",
    "            df,\n",
    "            aes(x=f'{coverage}_{pair[0]}', y=f'{coverage}_{pair[1]}')) + \n",
    "        geom_point() + \n",
    "        annotate('text', \n",
    "                 x=((df[f'{coverage}_{pair[0]}'].max())*0.16), \n",
    "                 y=((df[f'{coverage}_{pair[1]}'].max())*0.9), \n",
    "                 label=f'r2={str(r2)[0:5]}', size=10) +\n",
    "        theme(figure_size=(3, 3),\n",
    "             panel_grid_major_x=element_blank(),\n",
    "             ))\n",
    "        \n",
    "        plotfile = os.path.join(figs_dir, f\"{coverage}_{pair[0]}_{pair[1]}_corr.png\")\n",
    "        print(f'saving plot to {plotfile}')\n",
    "        p.save(plotfile, verbose=False)\n",
    "\n",
    "        _ = p.draw()\n",
    "        "
   ]
  },
  {
   "cell_type": "code",
   "execution_count": null,
   "id": "f1609551",
   "metadata": {
    "scrolled": false
   },
   "outputs": [],
   "source": [
    "figs_dir = 'experiments/infections/220121_libA_no-Ab/220121_correlations'\n",
    "conditions = ['25x', '50x', '100x']\n",
    "replicate_pairs = [['1','2_rt1'], ['2_rt2', '2_rt1']]\n",
    "\n",
    "for coverage in conditions:\n",
    "    counts_by_replicate = pivot_counts(variant_counts_no_outlier, coverage)\n",
    "    plot_correlates(counts_by_replicate, coverage, replicate_pairs, figs_dir)"
   ]
  },
  {
   "cell_type": "markdown",
   "id": "4d5d1dc0",
   "metadata": {},
   "source": [
    "Correlations look great! Note that cells were infected at an MOI of 5, under no selection conditions, so maybe it's expected that we have very little noise between replicates. But this is a promising start."
   ]
  }
 ],
 "metadata": {
  "kernelspec": {
   "display_name": "Python 3 (ipykernel)",
   "language": "python",
   "name": "python3"
  },
  "language_info": {
   "codemirror_mode": {
    "name": "ipython",
    "version": 3
   },
   "file_extension": ".py",
   "mimetype": "text/x-python",
   "name": "python",
   "nbconvert_exporter": "python",
   "pygments_lexer": "ipython3",
   "version": "3.8.12"
  }
 },
 "nbformat": 4,
 "nbformat_minor": 5
}
