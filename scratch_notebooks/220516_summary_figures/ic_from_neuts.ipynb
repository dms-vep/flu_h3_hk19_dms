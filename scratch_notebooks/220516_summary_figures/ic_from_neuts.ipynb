{
 "cells": [
  {
   "cell_type": "markdown",
   "id": "76062cfe",
   "metadata": {},
   "source": [
    "# Get IC# from neut data"
   ]
  },
  {
   "cell_type": "code",
   "execution_count": 1,
   "id": "cf1da41b",
   "metadata": {},
   "outputs": [],
   "source": [
    "import os\n",
    "import pickle\n",
    "\n",
    "import altair as alt\n",
    "\n",
    "import pandas as pd\n",
    "\n",
    "import yaml\n",
    "\n",
    "import neutcurve\n",
    "from neutcurve.colorschemes import CBMARKERS, CBPALETTE\n",
    "from matplotlib import pyplot as plt\n",
    "\n",
    "import matplotlib.transforms\n",
    "import warnings \n",
    "warnings.filterwarnings(\"ignore\")"
   ]
  },
  {
   "cell_type": "code",
   "execution_count": 2,
   "id": "f91e8a7d",
   "metadata": {},
   "outputs": [],
   "source": [
    "# change working directory to top of repo\n",
    "os.chdir('../')"
   ]
  },
  {
   "cell_type": "code",
   "execution_count": 3,
   "id": "3ed5cb15",
   "metadata": {},
   "outputs": [],
   "source": [
    "with open('config.yaml') as f:\n",
    "    config = yaml.safe_load(f)"
   ]
  },
  {
   "cell_type": "code",
   "execution_count": null,
   "id": "121eb182",
   "metadata": {},
   "outputs": [],
   "source": []
  },
  {
   "cell_type": "code",
   "execution_count": 50,
   "id": "8780b933",
   "metadata": {},
   "outputs": [],
   "source": [
    "def get_ic_dilution(serum, ic_number):\n",
    "    ser_run2 = (\n",
    "        pd.read_excel('experiments/neut_assays/neut_data/2022-01-19_HK19_redone_H6R235M_AG_AUSAB_tidy.xlsx')\n",
    "        .query(f'serum == \"{serum}\"')\n",
    "    )\n",
    "\n",
    "#     ser_run2['virus'] = ser_run2.apply(lambda x: 'HK19_WT_run2' if x['virus'] == 'HK19_WT' else x['virus'], axis=1)\n",
    "\n",
    "    ser_run1 = (\n",
    "        pd.read_excel('experiments/neut_assays/neut_data/2022-01-14-HK19_AlexGreninger_AUSAB01-16_tidy.xlsx')\n",
    "        .query(f'serum == \"{serum}\"')\n",
    "        .query('concentration != 0.000390625') # drop this, measured in second run already\n",
    "    )\n",
    "    \n",
    "#     ser_run1 = ser_run1[ser_run1.concentration.isin([0.050000, 0.025000])] # only take highest two conc from run 1\n",
    "\n",
    "#     ser_run1['virus'] = ser_run1.apply(lambda x: 'HK19_WT_run1' if x['virus'] == 'HK19_WT' else x['virus'], axis=1)\n",
    "\n",
    "\n",
    "    ser_full = ser_run1.append(ser_run2)\n",
    "    \n",
    "    fits = neutcurve.CurveFits(ser_full)\n",
    "    ic = fits.fitParams(ics=[ic_number]).query('virus == \"HK19_WT\"').iloc[0][f'ic{ic_number}']\n",
    "\n",
    "    return ic"
   ]
  },
  {
   "cell_type": "code",
   "execution_count": 34,
   "id": "dd630cda",
   "metadata": {},
   "outputs": [
    {
     "data": {
      "text/html": [
       "<div>\n",
       "<style scoped>\n",
       "    .dataframe tbody tr th:only-of-type {\n",
       "        vertical-align: middle;\n",
       "    }\n",
       "\n",
       "    .dataframe tbody tr th {\n",
       "        vertical-align: top;\n",
       "    }\n",
       "\n",
       "    .dataframe thead th {\n",
       "        text-align: right;\n",
       "    }\n",
       "</style>\n",
       "<table border=\"1\" class=\"dataframe\">\n",
       "  <thead>\n",
       "    <tr style=\"text-align: right;\">\n",
       "      <th></th>\n",
       "      <th>serum</th>\n",
       "      <th>virus</th>\n",
       "      <th>replicate</th>\n",
       "      <th>concentration</th>\n",
       "      <th>fraction infectivity</th>\n",
       "    </tr>\n",
       "  </thead>\n",
       "  <tbody>\n",
       "    <tr>\n",
       "      <th>64</th>\n",
       "      <td>05-AUSAB</td>\n",
       "      <td>HK19_WT</td>\n",
       "      <td>1</td>\n",
       "      <td>0.050000</td>\n",
       "      <td>0.064531</td>\n",
       "    </tr>\n",
       "    <tr>\n",
       "      <th>65</th>\n",
       "      <td>05-AUSAB</td>\n",
       "      <td>HK19_WT</td>\n",
       "      <td>1</td>\n",
       "      <td>0.025000</td>\n",
       "      <td>0.029729</td>\n",
       "    </tr>\n",
       "    <tr>\n",
       "      <th>66</th>\n",
       "      <td>05-AUSAB</td>\n",
       "      <td>HK19_WT</td>\n",
       "      <td>1</td>\n",
       "      <td>0.012500</td>\n",
       "      <td>0.026780</td>\n",
       "    </tr>\n",
       "    <tr>\n",
       "      <th>67</th>\n",
       "      <td>05-AUSAB</td>\n",
       "      <td>HK19_WT</td>\n",
       "      <td>1</td>\n",
       "      <td>0.006250</td>\n",
       "      <td>0.055546</td>\n",
       "    </tr>\n",
       "    <tr>\n",
       "      <th>68</th>\n",
       "      <td>05-AUSAB</td>\n",
       "      <td>HK19_WT</td>\n",
       "      <td>1</td>\n",
       "      <td>0.003125</td>\n",
       "      <td>0.246128</td>\n",
       "    </tr>\n",
       "    <tr>\n",
       "      <th>69</th>\n",
       "      <td>05-AUSAB</td>\n",
       "      <td>HK19_WT</td>\n",
       "      <td>1</td>\n",
       "      <td>0.001563</td>\n",
       "      <td>0.425477</td>\n",
       "    </tr>\n",
       "    <tr>\n",
       "      <th>70</th>\n",
       "      <td>05-AUSAB</td>\n",
       "      <td>HK19_WT</td>\n",
       "      <td>1</td>\n",
       "      <td>0.000781</td>\n",
       "      <td>0.700672</td>\n",
       "    </tr>\n",
       "    <tr>\n",
       "      <th>71</th>\n",
       "      <td>05-AUSAB</td>\n",
       "      <td>HK19_WT</td>\n",
       "      <td>1</td>\n",
       "      <td>0.000391</td>\n",
       "      <td>0.681768</td>\n",
       "    </tr>\n",
       "    <tr>\n",
       "      <th>72</th>\n",
       "      <td>05-AUSAB</td>\n",
       "      <td>HK19_WT</td>\n",
       "      <td>2</td>\n",
       "      <td>0.050000</td>\n",
       "      <td>0.044946</td>\n",
       "    </tr>\n",
       "    <tr>\n",
       "      <th>73</th>\n",
       "      <td>05-AUSAB</td>\n",
       "      <td>HK19_WT</td>\n",
       "      <td>2</td>\n",
       "      <td>0.025000</td>\n",
       "      <td>0.039797</td>\n",
       "    </tr>\n",
       "    <tr>\n",
       "      <th>74</th>\n",
       "      <td>05-AUSAB</td>\n",
       "      <td>HK19_WT</td>\n",
       "      <td>2</td>\n",
       "      <td>0.012500</td>\n",
       "      <td>0.032653</td>\n",
       "    </tr>\n",
       "    <tr>\n",
       "      <th>75</th>\n",
       "      <td>05-AUSAB</td>\n",
       "      <td>HK19_WT</td>\n",
       "      <td>2</td>\n",
       "      <td>0.006250</td>\n",
       "      <td>0.043672</td>\n",
       "    </tr>\n",
       "    <tr>\n",
       "      <th>76</th>\n",
       "      <td>05-AUSAB</td>\n",
       "      <td>HK19_WT</td>\n",
       "      <td>2</td>\n",
       "      <td>0.003125</td>\n",
       "      <td>0.194736</td>\n",
       "    </tr>\n",
       "    <tr>\n",
       "      <th>77</th>\n",
       "      <td>05-AUSAB</td>\n",
       "      <td>HK19_WT</td>\n",
       "      <td>2</td>\n",
       "      <td>0.001563</td>\n",
       "      <td>0.402557</td>\n",
       "    </tr>\n",
       "    <tr>\n",
       "      <th>78</th>\n",
       "      <td>05-AUSAB</td>\n",
       "      <td>HK19_WT</td>\n",
       "      <td>2</td>\n",
       "      <td>0.000781</td>\n",
       "      <td>0.588390</td>\n",
       "    </tr>\n",
       "    <tr>\n",
       "      <th>79</th>\n",
       "      <td>05-AUSAB</td>\n",
       "      <td>HK19_WT</td>\n",
       "      <td>2</td>\n",
       "      <td>0.000391</td>\n",
       "      <td>0.684002</td>\n",
       "    </tr>\n",
       "  </tbody>\n",
       "</table>\n",
       "</div>"
      ],
      "text/plain": [
       "       serum    virus  replicate  concentration  fraction infectivity\n",
       "64  05-AUSAB  HK19_WT          1       0.050000              0.064531\n",
       "65  05-AUSAB  HK19_WT          1       0.025000              0.029729\n",
       "66  05-AUSAB  HK19_WT          1       0.012500              0.026780\n",
       "67  05-AUSAB  HK19_WT          1       0.006250              0.055546\n",
       "68  05-AUSAB  HK19_WT          1       0.003125              0.246128\n",
       "69  05-AUSAB  HK19_WT          1       0.001563              0.425477\n",
       "70  05-AUSAB  HK19_WT          1       0.000781              0.700672\n",
       "71  05-AUSAB  HK19_WT          1       0.000391              0.681768\n",
       "72  05-AUSAB  HK19_WT          2       0.050000              0.044946\n",
       "73  05-AUSAB  HK19_WT          2       0.025000              0.039797\n",
       "74  05-AUSAB  HK19_WT          2       0.012500              0.032653\n",
       "75  05-AUSAB  HK19_WT          2       0.006250              0.043672\n",
       "76  05-AUSAB  HK19_WT          2       0.003125              0.194736\n",
       "77  05-AUSAB  HK19_WT          2       0.001563              0.402557\n",
       "78  05-AUSAB  HK19_WT          2       0.000781              0.588390\n",
       "79  05-AUSAB  HK19_WT          2       0.000391              0.684002"
      ]
     },
     "execution_count": 34,
     "metadata": {},
     "output_type": "execute_result"
    }
   ],
   "source": [
    "serum = '05-AUSAB'\n",
    "ser_run1 = (\n",
    "    pd.read_excel('experiments/neut_assays/neut_data/2022-01-14-HK19_AlexGreninger_AUSAB01-16_tidy.xlsx')\n",
    "    .query(f'serum == \"{serum}\"')\n",
    "#         .query('concentration != 0.000390625') # drop this, measured in second run already\n",
    ")\n",
    "\n",
    "ser_run1"
   ]
  },
  {
   "cell_type": "code",
   "execution_count": 51,
   "id": "c23efda6",
   "metadata": {},
   "outputs": [
    {
     "data": {
      "text/plain": [
       "0.0014721610014951398"
      ]
     },
     "execution_count": 51,
     "metadata": {},
     "output_type": "execute_result"
    }
   ],
   "source": [
    "get_ic_dilution('13-AUSAB', 99)"
   ]
  },
  {
   "cell_type": "code",
   "execution_count": 47,
   "id": "1a7afbc0",
   "metadata": {},
   "outputs": [
    {
     "data": {
      "image/png": "[encoded data removed]",
      "text/plain": [
       "<Figure size 288x234 with 2 Axes>"
      ]
     },
     "metadata": {
      "needs_background": "light"
     },
     "output_type": "display_data"
    }
   ],
   "source": [
    "fig, axes = fits07.plotSera(\n",
    "    xlabel='serum dilution',\n",
    "    virus_to_color_marker={\n",
    "        'HK19_WT_run1': ('green', 'o'),\n",
    "        'HK19_WT_run2': ('DarkSlateBlue', 'o'),\n",
    "        'H6_R235M': ('orange', 'o')}\n",
    ")"
   ]
  },
  {
   "cell_type": "code",
   "execution_count": null,
   "id": "87688837",
   "metadata": {},
   "outputs": [],
   "source": []
  }
 ],
 "metadata": {
  "kernelspec": {
   "display_name": "Python 3 (ipykernel)",
   "language": "python",
   "name": "python3"
  },
  "language_info": {
   "codemirror_mode": {
    "name": "ipython",
    "version": 3
   },
   "file_extension": ".py",
   "mimetype": "text/x-python",
   "name": "python",
   "nbconvert_exporter": "python",
   "pygments_lexer": "ipython3",
   "version": "3.8.12"
  }
 },
 "nbformat": 4,
 "nbformat_minor": 5
}
