{
 "cells": [
  {
   "cell_type": "markdown",
   "id": "cc095dfa-4db4-4964-9d67-36467849ed20",
   "metadata": {},
   "source": [
    "# Search for some barcodes in the PacBio data\n",
    "\n",
    "Import Python modules:"
   ]
  },
  {
   "cell_type": "code",
   "execution_count": 1,
   "id": "f597ae16-17ff-47c5-acbb-0392d4b14846",
   "metadata": {
    "execution": {
     "iopub.execute_input": "2022-02-24T16:39:22.839969Z",
     "iopub.status.busy": "2022-02-24T16:39:22.839397Z",
     "iopub.status.idle": "2022-02-24T16:39:23.544036Z",
     "shell.execute_reply": "2022-02-24T16:39:23.543058Z",
     "shell.execute_reply.started": "2022-02-24T16:39:22.839875Z"
    },
    "tags": []
   },
   "outputs": [],
   "source": [
    "import io\n",
    "import re\n",
    "\n",
    "import Bio.Seq\n",
    "import Bio.SeqIO\n",
    "\n",
    "import pandas as pd\n",
    "\n",
    "import pysam"
   ]
  },
  {
   "cell_type": "markdown",
   "id": "4183196b-3ced-465c-b804-6537e19d700b",
   "metadata": {},
   "source": [
    "Define the barcodes of interest.\n",
    "These are barcodes with high invalid counts:"
   ]
  },
  {
   "cell_type": "code",
   "execution_count": 2,
   "id": "2ca37908-66c1-491a-8ba9-b5a2e32c7f4b",
   "metadata": {
    "execution": {
     "iopub.execute_input": "2022-02-24T16:39:23.549327Z",
     "iopub.status.busy": "2022-02-24T16:39:23.549028Z",
     "iopub.status.idle": "2022-02-24T16:39:23.612126Z",
     "shell.execute_reply": "2022-02-24T16:39:23.611496Z",
     "shell.execute_reply.started": "2022-02-24T16:39:23.549304Z"
    },
    "tags": []
   },
   "outputs": [
    {
     "data": {
      "text/html": [
       "<div>\n",
       "<style scoped>\n",
       "    .dataframe tbody tr th:only-of-type {\n",
       "        vertical-align: middle;\n",
       "    }\n",
       "\n",
       "    .dataframe tbody tr th {\n",
       "        vertical-align: top;\n",
       "    }\n",
       "\n",
       "    .dataframe thead th {\n",
       "        text-align: right;\n",
       "    }\n",
       "</style>\n",
       "<table border=\"1\" class=\"dataframe\">\n",
       "  <thead>\n",
       "    <tr style=\"text-align: right;\">\n",
       "      <th></th>\n",
       "      <th>barcode</th>\n",
       "      <th>count</th>\n",
       "      <th>library</th>\n",
       "      <th>sample</th>\n",
       "      <th>reverse_complement</th>\n",
       "    </tr>\n",
       "  </thead>\n",
       "  <tbody>\n",
       "    <tr>\n",
       "      <th>0</th>\n",
       "      <td>TGCTCTTTGAAAATGC</td>\n",
       "      <td>2081446</td>\n",
       "      <td>libA</td>\n",
       "      <td>220121_1_no-antibody_control_100x_1</td>\n",
       "      <td>GCATTTTCAAAGAGCA</td>\n",
       "    </tr>\n",
       "    <tr>\n",
       "      <th>1</th>\n",
       "      <td>ATGCGGGAACGAAACG</td>\n",
       "      <td>1618441</td>\n",
       "      <td>libA</td>\n",
       "      <td>220121_1_no-antibody_control_100x_1</td>\n",
       "      <td>CGTTTCGTTCCCGCAT</td>\n",
       "    </tr>\n",
       "    <tr>\n",
       "      <th>2</th>\n",
       "      <td>ATTTGTGCTTACCTTT</td>\n",
       "      <td>1532973</td>\n",
       "      <td>libA</td>\n",
       "      <td>220121_1_no-antibody_control_100x_1</td>\n",
       "      <td>AAAGGTAAGCACAAAT</td>\n",
       "    </tr>\n",
       "    <tr>\n",
       "      <th>3</th>\n",
       "      <td>CCGAACCGGCATGTAT</td>\n",
       "      <td>1380771</td>\n",
       "      <td>libA</td>\n",
       "      <td>220121_1_no-antibody_control_100x_1</td>\n",
       "      <td>ATACATGCCGGTTCGG</td>\n",
       "    </tr>\n",
       "    <tr>\n",
       "      <th>4</th>\n",
       "      <td>AGGCACTTGAACCTAT</td>\n",
       "      <td>1211934</td>\n",
       "      <td>libA</td>\n",
       "      <td>220121_1_no-antibody_control_100x_1</td>\n",
       "      <td>ATAGGTTCAAGTGCCT</td>\n",
       "    </tr>\n",
       "  </tbody>\n",
       "</table>\n",
       "</div>"
      ],
      "text/plain": [
       "            barcode    count library                               sample  \\\n",
       "0  TGCTCTTTGAAAATGC  2081446    libA  220121_1_no-antibody_control_100x_1   \n",
       "1  ATGCGGGAACGAAACG  1618441    libA  220121_1_no-antibody_control_100x_1   \n",
       "2  ATTTGTGCTTACCTTT  1532973    libA  220121_1_no-antibody_control_100x_1   \n",
       "3  CCGAACCGGCATGTAT  1380771    libA  220121_1_no-antibody_control_100x_1   \n",
       "4  AGGCACTTGAACCTAT  1211934    libA  220121_1_no-antibody_control_100x_1   \n",
       "\n",
       "  reverse_complement  \n",
       "0   GCATTTTCAAAGAGCA  \n",
       "1   CGTTTCGTTCCCGCAT  \n",
       "2   AAAGGTAAGCACAAAT  \n",
       "3   ATACATGCCGGTTCGG  \n",
       "4   ATAGGTTCAAGTGCCT  "
      ]
     },
     "execution_count": 2,
     "metadata": {},
     "output_type": "execute_result"
    }
   ],
   "source": [
    "barcodes_of_interest = (\n",
    "    pd.read_csv(\"../results/barcode_runs/counts_invalid_by_sample/libA_220121_1_no-antibody_control_100x_1.csv\")\n",
    "    .head()\n",
    "    .assign(reverse_complement=lambda x: (\n",
    "        x[\"barcode\"]\n",
    "        .map(lambda s: str(Bio.Seq.Seq(s).reverse_complement()))\n",
    "        )\n",
    "    )\n",
    ")\n",
    "\n",
    "barcodes_of_interest"
   ]
  },
  {
   "cell_type": "markdown",
   "id": "fbfe28b3-4698-4c48-8374-4dcf20c2d8a8",
   "metadata": {},
   "source": [
    "Build a regex for all the barcodes of interest and their reverse complements:"
   ]
  },
  {
   "cell_type": "code",
   "execution_count": 3,
   "id": "fdf56ebb-625c-4941-ad8f-cf89984a7841",
   "metadata": {
    "execution": {
     "iopub.execute_input": "2022-02-24T16:39:23.615596Z",
     "iopub.status.busy": "2022-02-24T16:39:23.615379Z",
     "iopub.status.idle": "2022-02-24T16:39:23.620213Z",
     "shell.execute_reply": "2022-02-24T16:39:23.619302Z",
     "shell.execute_reply.started": "2022-02-24T16:39:23.615577Z"
    },
    "tags": []
   },
   "outputs": [],
   "source": [
    "barcodes_of_interest_regex = re.compile(\n",
    "    \"|\".join(\n",
    "        getattr(tup, col) for tup in barcodes_of_interest.itertuples()\n",
    "        for col in [\"barcode\", \"reverse_complement\"]\n",
    "    )\n",
    ")"
   ]
  },
  {
   "cell_type": "markdown",
   "id": "bea4903e-7373-4216-adb2-564c9aedec2a",
   "metadata": {
    "execution": {
     "iopub.execute_input": "2022-02-24T16:11:14.502080Z",
     "iopub.status.busy": "2022-02-24T16:11:14.501559Z",
     "iopub.status.idle": "2022-02-24T16:11:14.508862Z",
     "shell.execute_reply": "2022-02-24T16:11:14.507936Z",
     "shell.execute_reply.started": "2022-02-24T16:11:14.502032Z"
    },
    "tags": []
   },
   "source": [
    "Search these barcodes in the PacBio data:"
   ]
  },
  {
   "cell_type": "code",
   "execution_count": 4,
   "id": "04753e95-089a-4a64-b86e-bd07f6b80bb3",
   "metadata": {
    "execution": {
     "iopub.execute_input": "2022-02-24T16:39:23.623269Z",
     "iopub.status.busy": "2022-02-24T16:39:23.623069Z",
     "iopub.status.idle": "2022-02-24T16:39:23.633445Z",
     "shell.execute_reply": "2022-02-24T16:39:23.632875Z",
     "shell.execute_reply.started": "2022-02-24T16:39:23.623248Z"
    }
   },
   "outputs": [
    {
     "data": {
      "text/html": [
       "<div>\n",
       "<style scoped>\n",
       "    .dataframe tbody tr th:only-of-type {\n",
       "        vertical-align: middle;\n",
       "    }\n",
       "\n",
       "    .dataframe tbody tr th {\n",
       "        vertical-align: top;\n",
       "    }\n",
       "\n",
       "    .dataframe thead th {\n",
       "        text-align: right;\n",
       "    }\n",
       "</style>\n",
       "<table border=\"1\" class=\"dataframe\">\n",
       "  <thead>\n",
       "    <tr style=\"text-align: right;\">\n",
       "      <th></th>\n",
       "      <th>library</th>\n",
       "      <th>run</th>\n",
       "      <th>fastq</th>\n",
       "      <th>amplicon</th>\n",
       "    </tr>\n",
       "  </thead>\n",
       "  <tbody>\n",
       "    <tr>\n",
       "      <th>0</th>\n",
       "      <td>libA</td>\n",
       "      <td>210730</td>\n",
       "      <td>/fh/fast/bloom_j/computational_notebooks/fwels...</td>\n",
       "      <td>plasmid</td>\n",
       "    </tr>\n",
       "    <tr>\n",
       "      <th>1</th>\n",
       "      <td>libB</td>\n",
       "      <td>210730</td>\n",
       "      <td>/fh/fast/bloom_j/computational_notebooks/fwels...</td>\n",
       "      <td>plasmid</td>\n",
       "    </tr>\n",
       "    <tr>\n",
       "      <th>2</th>\n",
       "      <td>libA</td>\n",
       "      <td>211026</td>\n",
       "      <td>/fh/fast/bloom_j/SR/ngs/pacbio/211026_SequelII...</td>\n",
       "      <td>plasmid</td>\n",
       "    </tr>\n",
       "    <tr>\n",
       "      <th>3</th>\n",
       "      <td>libB</td>\n",
       "      <td>211026</td>\n",
       "      <td>/fh/fast/bloom_j/SR/ngs/pacbio/211026_SequelII...</td>\n",
       "      <td>plasmid</td>\n",
       "    </tr>\n",
       "    <tr>\n",
       "      <th>4</th>\n",
       "      <td>libA</td>\n",
       "      <td>220218</td>\n",
       "      <td>/fh/fast/bloom_j/SR/ngs/pacbio/220218_WelshLoe...</td>\n",
       "      <td>plasmid</td>\n",
       "    </tr>\n",
       "    <tr>\n",
       "      <th>5</th>\n",
       "      <td>libB</td>\n",
       "      <td>220218</td>\n",
       "      <td>/fh/fast/bloom_j/SR/ngs/pacbio/220218_WelshLoe...</td>\n",
       "      <td>plasmid</td>\n",
       "    </tr>\n",
       "  </tbody>\n",
       "</table>\n",
       "</div>"
      ],
      "text/plain": [
       "  library     run                                              fastq amplicon\n",
       "0    libA  210730  /fh/fast/bloom_j/computational_notebooks/fwels...  plasmid\n",
       "1    libB  210730  /fh/fast/bloom_j/computational_notebooks/fwels...  plasmid\n",
       "2    libA  211026  /fh/fast/bloom_j/SR/ngs/pacbio/211026_SequelII...  plasmid\n",
       "3    libB  211026  /fh/fast/bloom_j/SR/ngs/pacbio/211026_SequelII...  plasmid\n",
       "4    libA  220218  /fh/fast/bloom_j/SR/ngs/pacbio/220218_WelshLoe...  plasmid\n",
       "5    libB  220218  /fh/fast/bloom_j/SR/ngs/pacbio/220218_WelshLoe...  plasmid"
      ]
     },
     "execution_count": 4,
     "metadata": {},
     "output_type": "execute_result"
    }
   ],
   "source": [
    "pacbio_runs = pd.read_csv(\"../data/pacbio_runs.csv\")\n",
    "pacbio_runs"
   ]
  },
  {
   "cell_type": "markdown",
   "id": "affbc7ec-beff-4e30-913e-4d4f88d18231",
   "metadata": {},
   "source": [
    "Search these files to matches of the barcodes of interest:"
   ]
  },
  {
   "cell_type": "code",
   "execution_count": 5,
   "id": "6c6bb80d-37e9-46f7-b67f-e193468c410f",
   "metadata": {
    "execution": {
     "iopub.execute_input": "2022-02-24T16:39:23.636914Z",
     "iopub.status.busy": "2022-02-24T16:39:23.636699Z",
     "iopub.status.idle": "2022-02-24T16:42:48.840675Z",
     "shell.execute_reply": "2022-02-24T16:42:48.840106Z",
     "shell.execute_reply.started": "2022-02-24T16:39:23.636893Z"
    },
    "tags": []
   },
   "outputs": [
    {
     "name": "stdout",
     "output_type": "stream",
     "text": [
      "0 / 168497 CCSs matched a barcode of interest for /fh/fast/bloom_j/computational_notebooks/fwelsh/2021/210730_ccs/lib3_210730_ccs.fastq.gz\n",
      "0 / 151179 CCSs matched a barcode of interest for /fh/fast/bloom_j/computational_notebooks/fwelsh/2021/210730_ccs/lib4_210730_ccs.fastq.gz\n",
      "0 / 44018 CCSs matched a barcode of interest for /fh/fast/bloom_j/SR/ngs/pacbio/211026_SequelIIe/Frances_Pool-Cell1/fastx_files/demultiplex.bc1003_BAK8A_OA--bc1003_BAK8A_OA.hifi_reads.fastq.gz\n",
      "0 / 54799 CCSs matched a barcode of interest for /fh/fast/bloom_j/SR/ngs/pacbio/211026_SequelIIe/Frances_Pool-Cell1/fastx_files/demultiplex.bc1008_BAK8A_OA--bc1008_BAK8A_OA.hifi_reads.fastq.gz\n",
      "0 / 476728 CCSs matched a barcode of interest for /fh/fast/bloom_j/SR/ngs/pacbio/220218_WelshLoes/Welsh_Pool-Cell1/fastx_files/demultiplex.bc1003_BAK8A_OA--bc1003_BAK8A_OA.hifi_reads.fastq.gz\n",
      "0 / 560194 CCSs matched a barcode of interest for /fh/fast/bloom_j/SR/ngs/pacbio/220218_WelshLoes/Welsh_Pool-Cell1/fastx_files/demultiplex.bc1008_BAK8A_OA--bc1008_BAK8A_OA.hifi_reads.fastq.gz\n"
     ]
    }
   ],
   "source": [
    "for tup in pacbio_runs.itertuples(index=False):\n",
    "    fastq = tup.fastq\n",
    "    n = n_matched = 0\n",
    "    with pysam.FastxFile(fastq) as f:\n",
    "        for read in f:\n",
    "            n += 1\n",
    "            if barcodes_of_interest_regex.search(read.sequence):\n",
    "                n_matched += 1\n",
    "    print(f\"{n_matched} / {n} CCSs matched a barcode of interest for {fastq}\")"
   ]
  },
  {
   "cell_type": "code",
   "execution_count": null,
   "id": "f13b4874-74eb-45ee-afab-06f7a45e2f7e",
   "metadata": {},
   "outputs": [],
   "source": []
  }
 ],
 "metadata": {
  "kernelspec": {
   "display_name": "Python 3 (ipykernel)",
   "language": "python",
   "name": "python3"
  },
  "language_info": {
   "codemirror_mode": {
    "name": "ipython",
    "version": 3
   },
   "file_extension": ".py",
   "mimetype": "text/x-python",
   "name": "python",
   "nbconvert_exporter": "python",
   "pygments_lexer": "ipython3",
   "version": "3.8.12"
  }
 },
 "nbformat": 4,
 "nbformat_minor": 5
}
